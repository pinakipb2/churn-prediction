{
 "cells": [
  {
   "cell_type": "markdown",
   "metadata": {},
   "source": [
    "## Loading the Dataset"
   ]
  },
  {
   "cell_type": "code",
   "execution_count": 1,
   "metadata": {},
   "outputs": [],
   "source": [
    "import pandas as pd\n",
    "import numpy as np\n",
    "import matplotlib.pyplot as plt\n",
    "%matplotlib inline"
   ]
  },
  {
   "cell_type": "code",
   "execution_count": 2,
   "metadata": {},
   "outputs": [],
   "source": [
    "#Reading the file\n",
    "df=pd.read_csv(\"churn_prediction.csv\")"
   ]
  },
  {
   "cell_type": "code",
   "execution_count": 3,
   "metadata": {},
   "outputs": [
    {
     "data": {
      "text/plain": [
       "(28382, 21)"
      ]
     },
     "execution_count": 3,
     "metadata": {},
     "output_type": "execute_result"
    }
   ],
   "source": [
    "df.shape"
   ]
  },
  {
   "cell_type": "code",
   "execution_count": 4,
   "metadata": {},
   "outputs": [
    {
     "data": {
      "text/html": [
       "<div>\n",
       "<style scoped>\n",
       "    .dataframe tbody tr th:only-of-type {\n",
       "        vertical-align: middle;\n",
       "    }\n",
       "\n",
       "    .dataframe tbody tr th {\n",
       "        vertical-align: top;\n",
       "    }\n",
       "\n",
       "    .dataframe thead th {\n",
       "        text-align: right;\n",
       "    }\n",
       "</style>\n",
       "<table border=\"1\" class=\"dataframe\">\n",
       "  <thead>\n",
       "    <tr style=\"text-align: right;\">\n",
       "      <th></th>\n",
       "      <th>customer_id</th>\n",
       "      <th>vintage</th>\n",
       "      <th>age</th>\n",
       "      <th>gender</th>\n",
       "      <th>dependents</th>\n",
       "      <th>occupation</th>\n",
       "      <th>city</th>\n",
       "      <th>customer_nw_category</th>\n",
       "      <th>branch_code</th>\n",
       "      <th>days_since_last_transaction</th>\n",
       "      <th>...</th>\n",
       "      <th>previous_month_end_balance</th>\n",
       "      <th>average_monthly_balance_prevQ</th>\n",
       "      <th>average_monthly_balance_prevQ2</th>\n",
       "      <th>current_month_credit</th>\n",
       "      <th>previous_month_credit</th>\n",
       "      <th>current_month_debit</th>\n",
       "      <th>previous_month_debit</th>\n",
       "      <th>current_month_balance</th>\n",
       "      <th>previous_month_balance</th>\n",
       "      <th>churn</th>\n",
       "    </tr>\n",
       "  </thead>\n",
       "  <tbody>\n",
       "    <tr>\n",
       "      <td>0</td>\n",
       "      <td>1</td>\n",
       "      <td>3135</td>\n",
       "      <td>66</td>\n",
       "      <td>Male</td>\n",
       "      <td>0.0</td>\n",
       "      <td>self_employed</td>\n",
       "      <td>187.0</td>\n",
       "      <td>2</td>\n",
       "      <td>755</td>\n",
       "      <td>224.0</td>\n",
       "      <td>...</td>\n",
       "      <td>1458.71</td>\n",
       "      <td>1458.71</td>\n",
       "      <td>1449.07</td>\n",
       "      <td>0.20</td>\n",
       "      <td>0.20</td>\n",
       "      <td>0.20</td>\n",
       "      <td>0.20</td>\n",
       "      <td>1458.71</td>\n",
       "      <td>1458.71</td>\n",
       "      <td>0</td>\n",
       "    </tr>\n",
       "    <tr>\n",
       "      <td>1</td>\n",
       "      <td>2</td>\n",
       "      <td>310</td>\n",
       "      <td>35</td>\n",
       "      <td>Male</td>\n",
       "      <td>0.0</td>\n",
       "      <td>self_employed</td>\n",
       "      <td>NaN</td>\n",
       "      <td>2</td>\n",
       "      <td>3214</td>\n",
       "      <td>60.0</td>\n",
       "      <td>...</td>\n",
       "      <td>8704.66</td>\n",
       "      <td>7799.26</td>\n",
       "      <td>12419.41</td>\n",
       "      <td>0.56</td>\n",
       "      <td>0.56</td>\n",
       "      <td>5486.27</td>\n",
       "      <td>100.56</td>\n",
       "      <td>6496.78</td>\n",
       "      <td>8787.61</td>\n",
       "      <td>0</td>\n",
       "    </tr>\n",
       "    <tr>\n",
       "      <td>2</td>\n",
       "      <td>4</td>\n",
       "      <td>2356</td>\n",
       "      <td>31</td>\n",
       "      <td>Male</td>\n",
       "      <td>0.0</td>\n",
       "      <td>salaried</td>\n",
       "      <td>146.0</td>\n",
       "      <td>2</td>\n",
       "      <td>41</td>\n",
       "      <td>NaN</td>\n",
       "      <td>...</td>\n",
       "      <td>5815.29</td>\n",
       "      <td>4910.17</td>\n",
       "      <td>2815.94</td>\n",
       "      <td>0.61</td>\n",
       "      <td>0.61</td>\n",
       "      <td>6046.73</td>\n",
       "      <td>259.23</td>\n",
       "      <td>5006.28</td>\n",
       "      <td>5070.14</td>\n",
       "      <td>0</td>\n",
       "    </tr>\n",
       "    <tr>\n",
       "      <td>3</td>\n",
       "      <td>5</td>\n",
       "      <td>478</td>\n",
       "      <td>90</td>\n",
       "      <td>NaN</td>\n",
       "      <td>NaN</td>\n",
       "      <td>self_employed</td>\n",
       "      <td>1020.0</td>\n",
       "      <td>2</td>\n",
       "      <td>582</td>\n",
       "      <td>147.0</td>\n",
       "      <td>...</td>\n",
       "      <td>2291.91</td>\n",
       "      <td>2084.54</td>\n",
       "      <td>1006.54</td>\n",
       "      <td>0.47</td>\n",
       "      <td>0.47</td>\n",
       "      <td>0.47</td>\n",
       "      <td>2143.33</td>\n",
       "      <td>2291.91</td>\n",
       "      <td>1669.79</td>\n",
       "      <td>1</td>\n",
       "    </tr>\n",
       "    <tr>\n",
       "      <td>4</td>\n",
       "      <td>6</td>\n",
       "      <td>2531</td>\n",
       "      <td>42</td>\n",
       "      <td>Male</td>\n",
       "      <td>2.0</td>\n",
       "      <td>self_employed</td>\n",
       "      <td>1494.0</td>\n",
       "      <td>3</td>\n",
       "      <td>388</td>\n",
       "      <td>58.0</td>\n",
       "      <td>...</td>\n",
       "      <td>1401.72</td>\n",
       "      <td>1643.31</td>\n",
       "      <td>1871.12</td>\n",
       "      <td>0.33</td>\n",
       "      <td>714.61</td>\n",
       "      <td>588.62</td>\n",
       "      <td>1538.06</td>\n",
       "      <td>1157.15</td>\n",
       "      <td>1677.16</td>\n",
       "      <td>1</td>\n",
       "    </tr>\n",
       "  </tbody>\n",
       "</table>\n",
       "<p>5 rows × 21 columns</p>\n",
       "</div>"
      ],
      "text/plain": [
       "   customer_id  vintage  age gender  dependents     occupation    city  \\\n",
       "0            1     3135   66   Male         0.0  self_employed   187.0   \n",
       "1            2      310   35   Male         0.0  self_employed     NaN   \n",
       "2            4     2356   31   Male         0.0       salaried   146.0   \n",
       "3            5      478   90    NaN         NaN  self_employed  1020.0   \n",
       "4            6     2531   42   Male         2.0  self_employed  1494.0   \n",
       "\n",
       "   customer_nw_category  branch_code  days_since_last_transaction  ...  \\\n",
       "0                     2          755                        224.0  ...   \n",
       "1                     2         3214                         60.0  ...   \n",
       "2                     2           41                          NaN  ...   \n",
       "3                     2          582                        147.0  ...   \n",
       "4                     3          388                         58.0  ...   \n",
       "\n",
       "   previous_month_end_balance  average_monthly_balance_prevQ  \\\n",
       "0                     1458.71                        1458.71   \n",
       "1                     8704.66                        7799.26   \n",
       "2                     5815.29                        4910.17   \n",
       "3                     2291.91                        2084.54   \n",
       "4                     1401.72                        1643.31   \n",
       "\n",
       "   average_monthly_balance_prevQ2  current_month_credit  \\\n",
       "0                         1449.07                  0.20   \n",
       "1                        12419.41                  0.56   \n",
       "2                         2815.94                  0.61   \n",
       "3                         1006.54                  0.47   \n",
       "4                         1871.12                  0.33   \n",
       "\n",
       "   previous_month_credit  current_month_debit  previous_month_debit  \\\n",
       "0                   0.20                 0.20                  0.20   \n",
       "1                   0.56              5486.27                100.56   \n",
       "2                   0.61              6046.73                259.23   \n",
       "3                   0.47                 0.47               2143.33   \n",
       "4                 714.61               588.62               1538.06   \n",
       "\n",
       "   current_month_balance  previous_month_balance  churn  \n",
       "0                1458.71                 1458.71      0  \n",
       "1                6496.78                 8787.61      0  \n",
       "2                5006.28                 5070.14      0  \n",
       "3                2291.91                 1669.79      1  \n",
       "4                1157.15                 1677.16      1  \n",
       "\n",
       "[5 rows x 21 columns]"
      ]
     },
     "execution_count": 4,
     "metadata": {},
     "output_type": "execute_result"
    }
   ],
   "source": [
    "df.head()"
   ]
  },
  {
   "cell_type": "code",
   "execution_count": 5,
   "metadata": {},
   "outputs": [
    {
     "data": {
      "text/plain": [
       "Index(['customer_id', 'vintage', 'age', 'gender', 'dependents', 'occupation',\n",
       "       'city', 'customer_nw_category', 'branch_code',\n",
       "       'days_since_last_transaction', 'current_balance',\n",
       "       'previous_month_end_balance', 'average_monthly_balance_prevQ',\n",
       "       'average_monthly_balance_prevQ2', 'current_month_credit',\n",
       "       'previous_month_credit', 'current_month_debit', 'previous_month_debit',\n",
       "       'current_month_balance', 'previous_month_balance', 'churn'],\n",
       "      dtype='object')"
      ]
     },
     "execution_count": 5,
     "metadata": {},
     "output_type": "execute_result"
    }
   ],
   "source": [
    "df.columns"
   ]
  },
  {
   "cell_type": "code",
   "execution_count": 6,
   "metadata": {},
   "outputs": [
    {
     "data": {
      "text/html": [
       "<div>\n",
       "<style scoped>\n",
       "    .dataframe tbody tr th:only-of-type {\n",
       "        vertical-align: middle;\n",
       "    }\n",
       "\n",
       "    .dataframe tbody tr th {\n",
       "        vertical-align: top;\n",
       "    }\n",
       "\n",
       "    .dataframe thead th {\n",
       "        text-align: right;\n",
       "    }\n",
       "</style>\n",
       "<table border=\"1\" class=\"dataframe\">\n",
       "  <thead>\n",
       "    <tr style=\"text-align: right;\">\n",
       "      <th></th>\n",
       "      <th>customer_id</th>\n",
       "      <th>vintage</th>\n",
       "      <th>age</th>\n",
       "      <th>gender</th>\n",
       "      <th>dependents</th>\n",
       "      <th>occupation</th>\n",
       "      <th>city</th>\n",
       "      <th>customer_nw_category</th>\n",
       "      <th>branch_code</th>\n",
       "      <th>days_since_last_transaction</th>\n",
       "      <th>...</th>\n",
       "      <th>previous_month_end_balance</th>\n",
       "      <th>average_monthly_balance_prevQ</th>\n",
       "      <th>average_monthly_balance_prevQ2</th>\n",
       "      <th>current_month_credit</th>\n",
       "      <th>previous_month_credit</th>\n",
       "      <th>current_month_debit</th>\n",
       "      <th>previous_month_debit</th>\n",
       "      <th>current_month_balance</th>\n",
       "      <th>previous_month_balance</th>\n",
       "      <th>churn</th>\n",
       "    </tr>\n",
       "  </thead>\n",
       "  <tbody>\n",
       "    <tr>\n",
       "      <td>0</td>\n",
       "      <td>1</td>\n",
       "      <td>3135</td>\n",
       "      <td>66</td>\n",
       "      <td>Male</td>\n",
       "      <td>0.0</td>\n",
       "      <td>self_employed</td>\n",
       "      <td>187.0</td>\n",
       "      <td>2</td>\n",
       "      <td>755</td>\n",
       "      <td>224.0</td>\n",
       "      <td>...</td>\n",
       "      <td>1458.71</td>\n",
       "      <td>1458.71</td>\n",
       "      <td>1449.07</td>\n",
       "      <td>0.20</td>\n",
       "      <td>0.20</td>\n",
       "      <td>0.20</td>\n",
       "      <td>0.20</td>\n",
       "      <td>1458.71</td>\n",
       "      <td>1458.71</td>\n",
       "      <td>0</td>\n",
       "    </tr>\n",
       "    <tr>\n",
       "      <td>1</td>\n",
       "      <td>2</td>\n",
       "      <td>310</td>\n",
       "      <td>35</td>\n",
       "      <td>Male</td>\n",
       "      <td>0.0</td>\n",
       "      <td>self_employed</td>\n",
       "      <td>NaN</td>\n",
       "      <td>2</td>\n",
       "      <td>3214</td>\n",
       "      <td>60.0</td>\n",
       "      <td>...</td>\n",
       "      <td>8704.66</td>\n",
       "      <td>7799.26</td>\n",
       "      <td>12419.41</td>\n",
       "      <td>0.56</td>\n",
       "      <td>0.56</td>\n",
       "      <td>5486.27</td>\n",
       "      <td>100.56</td>\n",
       "      <td>6496.78</td>\n",
       "      <td>8787.61</td>\n",
       "      <td>0</td>\n",
       "    </tr>\n",
       "    <tr>\n",
       "      <td>2</td>\n",
       "      <td>4</td>\n",
       "      <td>2356</td>\n",
       "      <td>31</td>\n",
       "      <td>Male</td>\n",
       "      <td>0.0</td>\n",
       "      <td>salaried</td>\n",
       "      <td>146.0</td>\n",
       "      <td>2</td>\n",
       "      <td>41</td>\n",
       "      <td>NaN</td>\n",
       "      <td>...</td>\n",
       "      <td>5815.29</td>\n",
       "      <td>4910.17</td>\n",
       "      <td>2815.94</td>\n",
       "      <td>0.61</td>\n",
       "      <td>0.61</td>\n",
       "      <td>6046.73</td>\n",
       "      <td>259.23</td>\n",
       "      <td>5006.28</td>\n",
       "      <td>5070.14</td>\n",
       "      <td>0</td>\n",
       "    </tr>\n",
       "    <tr>\n",
       "      <td>3</td>\n",
       "      <td>5</td>\n",
       "      <td>478</td>\n",
       "      <td>90</td>\n",
       "      <td>NaN</td>\n",
       "      <td>NaN</td>\n",
       "      <td>self_employed</td>\n",
       "      <td>1020.0</td>\n",
       "      <td>2</td>\n",
       "      <td>582</td>\n",
       "      <td>147.0</td>\n",
       "      <td>...</td>\n",
       "      <td>2291.91</td>\n",
       "      <td>2084.54</td>\n",
       "      <td>1006.54</td>\n",
       "      <td>0.47</td>\n",
       "      <td>0.47</td>\n",
       "      <td>0.47</td>\n",
       "      <td>2143.33</td>\n",
       "      <td>2291.91</td>\n",
       "      <td>1669.79</td>\n",
       "      <td>1</td>\n",
       "    </tr>\n",
       "    <tr>\n",
       "      <td>4</td>\n",
       "      <td>6</td>\n",
       "      <td>2531</td>\n",
       "      <td>42</td>\n",
       "      <td>Male</td>\n",
       "      <td>2.0</td>\n",
       "      <td>self_employed</td>\n",
       "      <td>1494.0</td>\n",
       "      <td>3</td>\n",
       "      <td>388</td>\n",
       "      <td>58.0</td>\n",
       "      <td>...</td>\n",
       "      <td>1401.72</td>\n",
       "      <td>1643.31</td>\n",
       "      <td>1871.12</td>\n",
       "      <td>0.33</td>\n",
       "      <td>714.61</td>\n",
       "      <td>588.62</td>\n",
       "      <td>1538.06</td>\n",
       "      <td>1157.15</td>\n",
       "      <td>1677.16</td>\n",
       "      <td>1</td>\n",
       "    </tr>\n",
       "    <tr>\n",
       "      <td>...</td>\n",
       "      <td>...</td>\n",
       "      <td>...</td>\n",
       "      <td>...</td>\n",
       "      <td>...</td>\n",
       "      <td>...</td>\n",
       "      <td>...</td>\n",
       "      <td>...</td>\n",
       "      <td>...</td>\n",
       "      <td>...</td>\n",
       "      <td>...</td>\n",
       "      <td>...</td>\n",
       "      <td>...</td>\n",
       "      <td>...</td>\n",
       "      <td>...</td>\n",
       "      <td>...</td>\n",
       "      <td>...</td>\n",
       "      <td>...</td>\n",
       "      <td>...</td>\n",
       "      <td>...</td>\n",
       "      <td>...</td>\n",
       "      <td>...</td>\n",
       "    </tr>\n",
       "    <tr>\n",
       "      <td>28377</td>\n",
       "      <td>30297</td>\n",
       "      <td>1845</td>\n",
       "      <td>10</td>\n",
       "      <td>Female</td>\n",
       "      <td>0.0</td>\n",
       "      <td>student</td>\n",
       "      <td>1020.0</td>\n",
       "      <td>2</td>\n",
       "      <td>1207</td>\n",
       "      <td>70.0</td>\n",
       "      <td>...</td>\n",
       "      <td>1076.43</td>\n",
       "      <td>2282.19</td>\n",
       "      <td>2787.70</td>\n",
       "      <td>0.30</td>\n",
       "      <td>0.30</td>\n",
       "      <td>0.30</td>\n",
       "      <td>0.30</td>\n",
       "      <td>1076.43</td>\n",
       "      <td>1076.43</td>\n",
       "      <td>0</td>\n",
       "    </tr>\n",
       "    <tr>\n",
       "      <td>28378</td>\n",
       "      <td>30298</td>\n",
       "      <td>4919</td>\n",
       "      <td>34</td>\n",
       "      <td>Female</td>\n",
       "      <td>0.0</td>\n",
       "      <td>self_employed</td>\n",
       "      <td>1046.0</td>\n",
       "      <td>2</td>\n",
       "      <td>223</td>\n",
       "      <td>14.0</td>\n",
       "      <td>...</td>\n",
       "      <td>4069.21</td>\n",
       "      <td>3668.83</td>\n",
       "      <td>3865.55</td>\n",
       "      <td>1.71</td>\n",
       "      <td>2.29</td>\n",
       "      <td>901.00</td>\n",
       "      <td>1014.07</td>\n",
       "      <td>3738.54</td>\n",
       "      <td>3690.32</td>\n",
       "      <td>0</td>\n",
       "    </tr>\n",
       "    <tr>\n",
       "      <td>28379</td>\n",
       "      <td>30299</td>\n",
       "      <td>297</td>\n",
       "      <td>47</td>\n",
       "      <td>Male</td>\n",
       "      <td>0.0</td>\n",
       "      <td>salaried</td>\n",
       "      <td>1096.0</td>\n",
       "      <td>2</td>\n",
       "      <td>588</td>\n",
       "      <td>0.0</td>\n",
       "      <td>...</td>\n",
       "      <td>61017.55</td>\n",
       "      <td>53444.81</td>\n",
       "      <td>21925.81</td>\n",
       "      <td>4666.84</td>\n",
       "      <td>3883.06</td>\n",
       "      <td>168.23</td>\n",
       "      <td>71.80</td>\n",
       "      <td>61078.50</td>\n",
       "      <td>57564.24</td>\n",
       "      <td>1</td>\n",
       "    </tr>\n",
       "    <tr>\n",
       "      <td>28380</td>\n",
       "      <td>30300</td>\n",
       "      <td>2585</td>\n",
       "      <td>50</td>\n",
       "      <td>Male</td>\n",
       "      <td>3.0</td>\n",
       "      <td>self_employed</td>\n",
       "      <td>1219.0</td>\n",
       "      <td>3</td>\n",
       "      <td>274</td>\n",
       "      <td>NaN</td>\n",
       "      <td>...</td>\n",
       "      <td>1625.55</td>\n",
       "      <td>1683.20</td>\n",
       "      <td>1857.42</td>\n",
       "      <td>0.20</td>\n",
       "      <td>0.20</td>\n",
       "      <td>0.20</td>\n",
       "      <td>0.20</td>\n",
       "      <td>1625.55</td>\n",
       "      <td>1625.55</td>\n",
       "      <td>0</td>\n",
       "    </tr>\n",
       "    <tr>\n",
       "      <td>28381</td>\n",
       "      <td>30301</td>\n",
       "      <td>2349</td>\n",
       "      <td>18</td>\n",
       "      <td>Male</td>\n",
       "      <td>0.0</td>\n",
       "      <td>student</td>\n",
       "      <td>1232.0</td>\n",
       "      <td>2</td>\n",
       "      <td>474</td>\n",
       "      <td>59.0</td>\n",
       "      <td>...</td>\n",
       "      <td>2821.34</td>\n",
       "      <td>3213.44</td>\n",
       "      <td>4447.45</td>\n",
       "      <td>0.11</td>\n",
       "      <td>7.44</td>\n",
       "      <td>714.40</td>\n",
       "      <td>1094.09</td>\n",
       "      <td>2402.62</td>\n",
       "      <td>3260.58</td>\n",
       "      <td>1</td>\n",
       "    </tr>\n",
       "  </tbody>\n",
       "</table>\n",
       "<p>28382 rows × 21 columns</p>\n",
       "</div>"
      ],
      "text/plain": [
       "       customer_id  vintage  age  gender  dependents     occupation    city  \\\n",
       "0                1     3135   66    Male         0.0  self_employed   187.0   \n",
       "1                2      310   35    Male         0.0  self_employed     NaN   \n",
       "2                4     2356   31    Male         0.0       salaried   146.0   \n",
       "3                5      478   90     NaN         NaN  self_employed  1020.0   \n",
       "4                6     2531   42    Male         2.0  self_employed  1494.0   \n",
       "...            ...      ...  ...     ...         ...            ...     ...   \n",
       "28377        30297     1845   10  Female         0.0        student  1020.0   \n",
       "28378        30298     4919   34  Female         0.0  self_employed  1046.0   \n",
       "28379        30299      297   47    Male         0.0       salaried  1096.0   \n",
       "28380        30300     2585   50    Male         3.0  self_employed  1219.0   \n",
       "28381        30301     2349   18    Male         0.0        student  1232.0   \n",
       "\n",
       "       customer_nw_category  branch_code  days_since_last_transaction  ...  \\\n",
       "0                         2          755                        224.0  ...   \n",
       "1                         2         3214                         60.0  ...   \n",
       "2                         2           41                          NaN  ...   \n",
       "3                         2          582                        147.0  ...   \n",
       "4                         3          388                         58.0  ...   \n",
       "...                     ...          ...                          ...  ...   \n",
       "28377                     2         1207                         70.0  ...   \n",
       "28378                     2          223                         14.0  ...   \n",
       "28379                     2          588                          0.0  ...   \n",
       "28380                     3          274                          NaN  ...   \n",
       "28381                     2          474                         59.0  ...   \n",
       "\n",
       "       previous_month_end_balance  average_monthly_balance_prevQ  \\\n",
       "0                         1458.71                        1458.71   \n",
       "1                         8704.66                        7799.26   \n",
       "2                         5815.29                        4910.17   \n",
       "3                         2291.91                        2084.54   \n",
       "4                         1401.72                        1643.31   \n",
       "...                           ...                            ...   \n",
       "28377                     1076.43                        2282.19   \n",
       "28378                     4069.21                        3668.83   \n",
       "28379                    61017.55                       53444.81   \n",
       "28380                     1625.55                        1683.20   \n",
       "28381                     2821.34                        3213.44   \n",
       "\n",
       "       average_monthly_balance_prevQ2  current_month_credit  \\\n",
       "0                             1449.07                  0.20   \n",
       "1                            12419.41                  0.56   \n",
       "2                             2815.94                  0.61   \n",
       "3                             1006.54                  0.47   \n",
       "4                             1871.12                  0.33   \n",
       "...                               ...                   ...   \n",
       "28377                         2787.70                  0.30   \n",
       "28378                         3865.55                  1.71   \n",
       "28379                        21925.81               4666.84   \n",
       "28380                         1857.42                  0.20   \n",
       "28381                         4447.45                  0.11   \n",
       "\n",
       "       previous_month_credit  current_month_debit  previous_month_debit  \\\n",
       "0                       0.20                 0.20                  0.20   \n",
       "1                       0.56              5486.27                100.56   \n",
       "2                       0.61              6046.73                259.23   \n",
       "3                       0.47                 0.47               2143.33   \n",
       "4                     714.61               588.62               1538.06   \n",
       "...                      ...                  ...                   ...   \n",
       "28377                   0.30                 0.30                  0.30   \n",
       "28378                   2.29               901.00               1014.07   \n",
       "28379                3883.06               168.23                 71.80   \n",
       "28380                   0.20                 0.20                  0.20   \n",
       "28381                   7.44               714.40               1094.09   \n",
       "\n",
       "       current_month_balance  previous_month_balance  churn  \n",
       "0                    1458.71                 1458.71      0  \n",
       "1                    6496.78                 8787.61      0  \n",
       "2                    5006.28                 5070.14      0  \n",
       "3                    2291.91                 1669.79      1  \n",
       "4                    1157.15                 1677.16      1  \n",
       "...                      ...                     ...    ...  \n",
       "28377                1076.43                 1076.43      0  \n",
       "28378                3738.54                 3690.32      0  \n",
       "28379               61078.50                57564.24      1  \n",
       "28380                1625.55                 1625.55      0  \n",
       "28381                2402.62                 3260.58      1  \n",
       "\n",
       "[28382 rows x 21 columns]"
      ]
     },
     "execution_count": 6,
     "metadata": {},
     "output_type": "execute_result"
    }
   ],
   "source": [
    "#Deleting the duplicate values\n",
    "df.drop_duplicates()"
   ]
  },
  {
   "cell_type": "code",
   "execution_count": 7,
   "metadata": {
    "scrolled": true
   },
   "outputs": [
    {
     "data": {
      "text/plain": [
       "(28382, 21)"
      ]
     },
     "execution_count": 7,
     "metadata": {},
     "output_type": "execute_result"
    }
   ],
   "source": [
    "df.drop_duplicates().shape"
   ]
  },
  {
   "cell_type": "markdown",
   "metadata": {},
   "source": [
    "**There is no duplicate values**"
   ]
  },
  {
   "cell_type": "markdown",
   "metadata": {},
   "source": [
    "## Imputing Missing Values"
   ]
  },
  {
   "cell_type": "code",
   "execution_count": 8,
   "metadata": {},
   "outputs": [
    {
     "data": {
      "text/plain": [
       "customer_id                          0\n",
       "vintage                              0\n",
       "age                                  0\n",
       "gender                             525\n",
       "dependents                        2463\n",
       "occupation                          80\n",
       "city                               803\n",
       "customer_nw_category                 0\n",
       "branch_code                          0\n",
       "days_since_last_transaction       3223\n",
       "current_balance                      0\n",
       "previous_month_end_balance           0\n",
       "average_monthly_balance_prevQ        0\n",
       "average_monthly_balance_prevQ2       0\n",
       "current_month_credit                 0\n",
       "previous_month_credit                0\n",
       "current_month_debit                  0\n",
       "previous_month_debit                 0\n",
       "current_month_balance                0\n",
       "previous_month_balance               0\n",
       "churn                                0\n",
       "dtype: int64"
      ]
     },
     "execution_count": 8,
     "metadata": {},
     "output_type": "execute_result"
    }
   ],
   "source": [
    "#Checking the missing values\n",
    "df.isnull().sum()"
   ]
  },
  {
   "cell_type": "markdown",
   "metadata": {},
   "source": [
    "**There are five missing values.**"
   ]
  },
  {
   "cell_type": "code",
   "execution_count": 9,
   "metadata": {},
   "outputs": [
    {
     "data": {
      "text/html": [
       "<div>\n",
       "<style scoped>\n",
       "    .dataframe tbody tr th:only-of-type {\n",
       "        vertical-align: middle;\n",
       "    }\n",
       "\n",
       "    .dataframe tbody tr th {\n",
       "        vertical-align: top;\n",
       "    }\n",
       "\n",
       "    .dataframe thead th {\n",
       "        text-align: right;\n",
       "    }\n",
       "</style>\n",
       "<table border=\"1\" class=\"dataframe\">\n",
       "  <thead>\n",
       "    <tr style=\"text-align: right;\">\n",
       "      <th></th>\n",
       "      <th>gender</th>\n",
       "      <th>dependents</th>\n",
       "      <th>occupation</th>\n",
       "      <th>city</th>\n",
       "      <th>days_since_last_transaction</th>\n",
       "    </tr>\n",
       "  </thead>\n",
       "  <tbody>\n",
       "    <tr>\n",
       "      <td>0</td>\n",
       "      <td>Male</td>\n",
       "      <td>0.0</td>\n",
       "      <td>self_employed</td>\n",
       "      <td>187.0</td>\n",
       "      <td>224.0</td>\n",
       "    </tr>\n",
       "    <tr>\n",
       "      <td>1</td>\n",
       "      <td>Male</td>\n",
       "      <td>0.0</td>\n",
       "      <td>self_employed</td>\n",
       "      <td>NaN</td>\n",
       "      <td>60.0</td>\n",
       "    </tr>\n",
       "    <tr>\n",
       "      <td>2</td>\n",
       "      <td>Male</td>\n",
       "      <td>0.0</td>\n",
       "      <td>salaried</td>\n",
       "      <td>146.0</td>\n",
       "      <td>NaN</td>\n",
       "    </tr>\n",
       "    <tr>\n",
       "      <td>3</td>\n",
       "      <td>NaN</td>\n",
       "      <td>NaN</td>\n",
       "      <td>self_employed</td>\n",
       "      <td>1020.0</td>\n",
       "      <td>147.0</td>\n",
       "    </tr>\n",
       "    <tr>\n",
       "      <td>4</td>\n",
       "      <td>Male</td>\n",
       "      <td>2.0</td>\n",
       "      <td>self_employed</td>\n",
       "      <td>1494.0</td>\n",
       "      <td>58.0</td>\n",
       "    </tr>\n",
       "  </tbody>\n",
       "</table>\n",
       "</div>"
      ],
      "text/plain": [
       "  gender  dependents     occupation    city  days_since_last_transaction\n",
       "0   Male         0.0  self_employed   187.0                        224.0\n",
       "1   Male         0.0  self_employed     NaN                         60.0\n",
       "2   Male         0.0       salaried   146.0                          NaN\n",
       "3    NaN         NaN  self_employed  1020.0                        147.0\n",
       "4   Male         2.0  self_employed  1494.0                         58.0"
      ]
     },
     "execution_count": 9,
     "metadata": {},
     "output_type": "execute_result"
    }
   ],
   "source": [
    "#Checking the missing values\n",
    "df[['gender','dependents','occupation','city','days_since_last_transaction']].head()"
   ]
  },
  {
   "cell_type": "markdown",
   "metadata": {},
   "source": [
    "**1. Missing Values in gender**"
   ]
  },
  {
   "cell_type": "code",
   "execution_count": 10,
   "metadata": {},
   "outputs": [
    {
     "data": {
      "text/plain": [
       "0    Male\n",
       "dtype: object"
      ]
     },
     "execution_count": 10,
     "metadata": {},
     "output_type": "execute_result"
    }
   ],
   "source": [
    "#checking mode\n",
    "df['gender'].mode()"
   ]
  },
  {
   "cell_type": "code",
   "execution_count": 11,
   "metadata": {},
   "outputs": [],
   "source": [
    "#imputing missing with mode\n",
    "df['gender'].fillna(value=(df['gender'].mode()[0]), inplace=True)"
   ]
  },
  {
   "cell_type": "markdown",
   "metadata": {},
   "source": [
    "**2. Missing Values in dependents**"
   ]
  },
  {
   "cell_type": "code",
   "execution_count": 12,
   "metadata": {},
   "outputs": [
    {
     "data": {
      "text/plain": [
       "0    0.0\n",
       "dtype: float64"
      ]
     },
     "execution_count": 12,
     "metadata": {},
     "output_type": "execute_result"
    }
   ],
   "source": [
    "#checking mode\n",
    "df['dependents'].mode()"
   ]
  },
  {
   "cell_type": "code",
   "execution_count": 13,
   "metadata": {},
   "outputs": [],
   "source": [
    "#imputing missing with mode\n",
    "df['dependents'].fillna(value=(df['dependents'].mode()[0]), inplace=True)"
   ]
  },
  {
   "cell_type": "markdown",
   "metadata": {},
   "source": [
    "**3. Missing Values in occupation**"
   ]
  },
  {
   "cell_type": "code",
   "execution_count": 14,
   "metadata": {},
   "outputs": [
    {
     "data": {
      "text/plain": [
       "0    self_employed\n",
       "dtype: object"
      ]
     },
     "execution_count": 14,
     "metadata": {},
     "output_type": "execute_result"
    }
   ],
   "source": [
    "#checking mode\n",
    "df['occupation'].mode()"
   ]
  },
  {
   "cell_type": "code",
   "execution_count": 15,
   "metadata": {},
   "outputs": [],
   "source": [
    "#imputing missing with mode\n",
    "df['occupation'].fillna(value=(df['occupation'].mode()[0]), inplace=True)"
   ]
  },
  {
   "cell_type": "markdown",
   "metadata": {},
   "source": [
    "**4. Missing Values in city**"
   ]
  },
  {
   "cell_type": "code",
   "execution_count": 16,
   "metadata": {},
   "outputs": [
    {
     "data": {
      "text/plain": [
       "0    1020.0\n",
       "dtype: float64"
      ]
     },
     "execution_count": 16,
     "metadata": {},
     "output_type": "execute_result"
    }
   ],
   "source": [
    "#checking mode\n",
    "df['city'].mode()"
   ]
  },
  {
   "cell_type": "code",
   "execution_count": 17,
   "metadata": {},
   "outputs": [],
   "source": [
    "#imputing missing with mode\n",
    "df['city'].fillna(value=(df['city'].mode()[0]), inplace=True)"
   ]
  },
  {
   "cell_type": "markdown",
   "metadata": {},
   "source": [
    "**5. Missing Values in days_since_last_transaction**"
   ]
  },
  {
   "cell_type": "code",
   "execution_count": 18,
   "metadata": {},
   "outputs": [
    {
     "data": {
      "text/plain": [
       "70"
      ]
     },
     "execution_count": 18,
     "metadata": {},
     "output_type": "execute_result"
    }
   ],
   "source": [
    "#checking mean\n",
    "a=df['days_since_last_transaction'].mean()\n",
    "round(a)"
   ]
  },
  {
   "cell_type": "code",
   "execution_count": 19,
   "metadata": {},
   "outputs": [],
   "source": [
    "#imputing missing with mean\n",
    "df['days_since_last_transaction'].fillna(value=round(a), inplace=True)"
   ]
  },
  {
   "cell_type": "markdown",
   "metadata": {},
   "source": [
    "**We are substituting days_since_last_transaction with mean as it is number of days.**"
   ]
  },
  {
   "cell_type": "code",
   "execution_count": 20,
   "metadata": {
    "scrolled": false
   },
   "outputs": [
    {
     "data": {
      "text/plain": [
       "customer_id                       0\n",
       "vintage                           0\n",
       "age                               0\n",
       "gender                            0\n",
       "dependents                        0\n",
       "occupation                        0\n",
       "city                              0\n",
       "customer_nw_category              0\n",
       "branch_code                       0\n",
       "days_since_last_transaction       0\n",
       "current_balance                   0\n",
       "previous_month_end_balance        0\n",
       "average_monthly_balance_prevQ     0\n",
       "average_monthly_balance_prevQ2    0\n",
       "current_month_credit              0\n",
       "previous_month_credit             0\n",
       "current_month_debit               0\n",
       "previous_month_debit              0\n",
       "current_month_balance             0\n",
       "previous_month_balance            0\n",
       "churn                             0\n",
       "dtype: int64"
      ]
     },
     "execution_count": 20,
     "metadata": {},
     "output_type": "execute_result"
    }
   ],
   "source": [
    "df.isnull().sum()"
   ]
  },
  {
   "cell_type": "code",
   "execution_count": 21,
   "metadata": {},
   "outputs": [
    {
     "data": {
      "text/plain": [
       "customer_id                         int64\n",
       "vintage                             int64\n",
       "age                                 int64\n",
       "gender                             object\n",
       "dependents                        float64\n",
       "occupation                         object\n",
       "city                              float64\n",
       "customer_nw_category                int64\n",
       "branch_code                         int64\n",
       "days_since_last_transaction       float64\n",
       "current_balance                   float64\n",
       "previous_month_end_balance        float64\n",
       "average_monthly_balance_prevQ     float64\n",
       "average_monthly_balance_prevQ2    float64\n",
       "current_month_credit              float64\n",
       "previous_month_credit             float64\n",
       "current_month_debit               float64\n",
       "previous_month_debit              float64\n",
       "current_month_balance             float64\n",
       "previous_month_balance            float64\n",
       "churn                               int64\n",
       "dtype: object"
      ]
     },
     "execution_count": 21,
     "metadata": {},
     "output_type": "execute_result"
    }
   ],
   "source": [
    "df.dtypes"
   ]
  },
  {
   "cell_type": "code",
   "execution_count": 22,
   "metadata": {},
   "outputs": [],
   "source": [
    "#Changing the datatype\n",
    "df=df.astype({'dependents':'int64','city':'int64'})"
   ]
  },
  {
   "cell_type": "code",
   "execution_count": 23,
   "metadata": {},
   "outputs": [
    {
     "data": {
      "text/plain": [
       "customer_id                         int64\n",
       "vintage                             int64\n",
       "age                                 int64\n",
       "gender                             object\n",
       "dependents                          int64\n",
       "occupation                         object\n",
       "city                                int64\n",
       "customer_nw_category                int64\n",
       "branch_code                         int64\n",
       "days_since_last_transaction       float64\n",
       "current_balance                   float64\n",
       "previous_month_end_balance        float64\n",
       "average_monthly_balance_prevQ     float64\n",
       "average_monthly_balance_prevQ2    float64\n",
       "current_month_credit              float64\n",
       "previous_month_credit             float64\n",
       "current_month_debit               float64\n",
       "previous_month_debit              float64\n",
       "current_month_balance             float64\n",
       "previous_month_balance            float64\n",
       "churn                               int64\n",
       "dtype: object"
      ]
     },
     "execution_count": 23,
     "metadata": {},
     "output_type": "execute_result"
    }
   ],
   "source": [
    "df.dtypes"
   ]
  },
  {
   "cell_type": "code",
   "execution_count": 24,
   "metadata": {
    "scrolled": false
   },
   "outputs": [
    {
     "name": "stdout",
     "output_type": "stream",
     "text": [
      "***** Value Count in gender *****\n",
      "Male      17073\n",
      "Female    11309\n",
      "Name: gender, dtype: int64\n",
      "\n",
      "***** Value Count in dependents *****\n",
      "0     23898\n",
      "2      2150\n",
      "1      1395\n",
      "3       701\n",
      "4       179\n",
      "5        41\n",
      "6         8\n",
      "7         3\n",
      "25        1\n",
      "9         1\n",
      "8         1\n",
      "52        1\n",
      "36        1\n",
      "50        1\n",
      "32        1\n",
      "Name: dependents, dtype: int64\n",
      "\n",
      "***** Value Count in occupation *****\n",
      "self_employed    17556\n",
      "salaried          6704\n",
      "student           2058\n",
      "retired           2024\n",
      "company             40\n",
      "Name: occupation, dtype: int64\n",
      "\n",
      "***** Value Count in customer_nw_category *****\n",
      "2    14559\n",
      "3    10112\n",
      "1     3711\n",
      "Name: customer_nw_category, dtype: int64\n",
      "\n",
      "***** Value Count in city *****\n",
      "1020    4282\n",
      "1096    2016\n",
      "409     1334\n",
      "146     1291\n",
      "834     1138\n",
      "        ... \n",
      "638        1\n",
      "1060       1\n",
      "1596       1\n",
      "1028       1\n",
      "1211       1\n",
      "Name: city, Length: 1604, dtype: int64\n",
      "\n",
      "***** Value Count in branch_code *****\n",
      "19      145\n",
      "6       142\n",
      "60      128\n",
      "16      111\n",
      "8       109\n",
      "       ... \n",
      "3386      1\n",
      "3418      1\n",
      "4082      1\n",
      "4050      1\n",
      "2049      1\n",
      "Name: branch_code, Length: 3185, dtype: int64\n",
      "\n",
      "***** Value Count in churn *****\n",
      "0    23122\n",
      "1     5260\n",
      "Name: churn, dtype: int64\n",
      "\n"
     ]
    }
   ],
   "source": [
    "#Looking at different categorical columns\n",
    "categorical_cols = ['gender','dependents','occupation','customer_nw_category','city','branch_code','churn']\n",
    "\n",
    "for i in categorical_cols:\n",
    "    print('***** Value Count in', i, '*****')\n",
    "    print(df[i].value_counts())\n",
    "    print('')"
   ]
  },
  {
   "cell_type": "code",
   "execution_count": 25,
   "metadata": {},
   "outputs": [],
   "source": [
    "#gender assignment\n",
    "gender_assign = {\"gender\":     {\"Male\": 0, \"Female\": 1}}\n",
    "df.replace(gender_assign, inplace=True)"
   ]
  },
  {
   "cell_type": "code",
   "execution_count": 26,
   "metadata": {},
   "outputs": [],
   "source": [
    "#occupation assignment\n",
    "occu_assign = {\"occupation\":     {\"self_employed\": 0, \"salaried\": 1, \"student\": 2, \"retired\":3 ,\"company\":4 }}\n",
    "df.replace(occu_assign, inplace=True)"
   ]
  },
  {
   "cell_type": "code",
   "execution_count": 27,
   "metadata": {
    "scrolled": false
   },
   "outputs": [
    {
     "data": {
      "text/html": [
       "<div>\n",
       "<style scoped>\n",
       "    .dataframe tbody tr th:only-of-type {\n",
       "        vertical-align: middle;\n",
       "    }\n",
       "\n",
       "    .dataframe tbody tr th {\n",
       "        vertical-align: top;\n",
       "    }\n",
       "\n",
       "    .dataframe thead th {\n",
       "        text-align: right;\n",
       "    }\n",
       "</style>\n",
       "<table border=\"1\" class=\"dataframe\">\n",
       "  <thead>\n",
       "    <tr style=\"text-align: right;\">\n",
       "      <th></th>\n",
       "      <th>customer_id</th>\n",
       "      <th>vintage</th>\n",
       "      <th>age</th>\n",
       "      <th>gender</th>\n",
       "      <th>dependents</th>\n",
       "      <th>occupation</th>\n",
       "      <th>city</th>\n",
       "      <th>customer_nw_category</th>\n",
       "      <th>branch_code</th>\n",
       "      <th>days_since_last_transaction</th>\n",
       "      <th>...</th>\n",
       "      <th>previous_month_end_balance</th>\n",
       "      <th>average_monthly_balance_prevQ</th>\n",
       "      <th>average_monthly_balance_prevQ2</th>\n",
       "      <th>current_month_credit</th>\n",
       "      <th>previous_month_credit</th>\n",
       "      <th>current_month_debit</th>\n",
       "      <th>previous_month_debit</th>\n",
       "      <th>current_month_balance</th>\n",
       "      <th>previous_month_balance</th>\n",
       "      <th>churn</th>\n",
       "    </tr>\n",
       "  </thead>\n",
       "  <tbody>\n",
       "    <tr>\n",
       "      <td>0</td>\n",
       "      <td>1</td>\n",
       "      <td>3135</td>\n",
       "      <td>66</td>\n",
       "      <td>0</td>\n",
       "      <td>0</td>\n",
       "      <td>0</td>\n",
       "      <td>187</td>\n",
       "      <td>2</td>\n",
       "      <td>755</td>\n",
       "      <td>224.0</td>\n",
       "      <td>...</td>\n",
       "      <td>1458.71</td>\n",
       "      <td>1458.71</td>\n",
       "      <td>1449.07</td>\n",
       "      <td>0.20</td>\n",
       "      <td>0.20</td>\n",
       "      <td>0.20</td>\n",
       "      <td>0.20</td>\n",
       "      <td>1458.71</td>\n",
       "      <td>1458.71</td>\n",
       "      <td>0</td>\n",
       "    </tr>\n",
       "    <tr>\n",
       "      <td>1</td>\n",
       "      <td>2</td>\n",
       "      <td>310</td>\n",
       "      <td>35</td>\n",
       "      <td>0</td>\n",
       "      <td>0</td>\n",
       "      <td>0</td>\n",
       "      <td>1020</td>\n",
       "      <td>2</td>\n",
       "      <td>3214</td>\n",
       "      <td>60.0</td>\n",
       "      <td>...</td>\n",
       "      <td>8704.66</td>\n",
       "      <td>7799.26</td>\n",
       "      <td>12419.41</td>\n",
       "      <td>0.56</td>\n",
       "      <td>0.56</td>\n",
       "      <td>5486.27</td>\n",
       "      <td>100.56</td>\n",
       "      <td>6496.78</td>\n",
       "      <td>8787.61</td>\n",
       "      <td>0</td>\n",
       "    </tr>\n",
       "    <tr>\n",
       "      <td>2</td>\n",
       "      <td>4</td>\n",
       "      <td>2356</td>\n",
       "      <td>31</td>\n",
       "      <td>0</td>\n",
       "      <td>0</td>\n",
       "      <td>1</td>\n",
       "      <td>146</td>\n",
       "      <td>2</td>\n",
       "      <td>41</td>\n",
       "      <td>70.0</td>\n",
       "      <td>...</td>\n",
       "      <td>5815.29</td>\n",
       "      <td>4910.17</td>\n",
       "      <td>2815.94</td>\n",
       "      <td>0.61</td>\n",
       "      <td>0.61</td>\n",
       "      <td>6046.73</td>\n",
       "      <td>259.23</td>\n",
       "      <td>5006.28</td>\n",
       "      <td>5070.14</td>\n",
       "      <td>0</td>\n",
       "    </tr>\n",
       "    <tr>\n",
       "      <td>3</td>\n",
       "      <td>5</td>\n",
       "      <td>478</td>\n",
       "      <td>90</td>\n",
       "      <td>0</td>\n",
       "      <td>0</td>\n",
       "      <td>0</td>\n",
       "      <td>1020</td>\n",
       "      <td>2</td>\n",
       "      <td>582</td>\n",
       "      <td>147.0</td>\n",
       "      <td>...</td>\n",
       "      <td>2291.91</td>\n",
       "      <td>2084.54</td>\n",
       "      <td>1006.54</td>\n",
       "      <td>0.47</td>\n",
       "      <td>0.47</td>\n",
       "      <td>0.47</td>\n",
       "      <td>2143.33</td>\n",
       "      <td>2291.91</td>\n",
       "      <td>1669.79</td>\n",
       "      <td>1</td>\n",
       "    </tr>\n",
       "    <tr>\n",
       "      <td>4</td>\n",
       "      <td>6</td>\n",
       "      <td>2531</td>\n",
       "      <td>42</td>\n",
       "      <td>0</td>\n",
       "      <td>2</td>\n",
       "      <td>0</td>\n",
       "      <td>1494</td>\n",
       "      <td>3</td>\n",
       "      <td>388</td>\n",
       "      <td>58.0</td>\n",
       "      <td>...</td>\n",
       "      <td>1401.72</td>\n",
       "      <td>1643.31</td>\n",
       "      <td>1871.12</td>\n",
       "      <td>0.33</td>\n",
       "      <td>714.61</td>\n",
       "      <td>588.62</td>\n",
       "      <td>1538.06</td>\n",
       "      <td>1157.15</td>\n",
       "      <td>1677.16</td>\n",
       "      <td>1</td>\n",
       "    </tr>\n",
       "    <tr>\n",
       "      <td>5</td>\n",
       "      <td>7</td>\n",
       "      <td>263</td>\n",
       "      <td>42</td>\n",
       "      <td>1</td>\n",
       "      <td>0</td>\n",
       "      <td>0</td>\n",
       "      <td>1096</td>\n",
       "      <td>2</td>\n",
       "      <td>1666</td>\n",
       "      <td>60.0</td>\n",
       "      <td>...</td>\n",
       "      <td>16059.34</td>\n",
       "      <td>15211.29</td>\n",
       "      <td>13798.82</td>\n",
       "      <td>0.36</td>\n",
       "      <td>0.36</td>\n",
       "      <td>857.50</td>\n",
       "      <td>286.07</td>\n",
       "      <td>15719.44</td>\n",
       "      <td>15349.75</td>\n",
       "      <td>0</td>\n",
       "    </tr>\n",
       "    <tr>\n",
       "      <td>6</td>\n",
       "      <td>8</td>\n",
       "      <td>5922</td>\n",
       "      <td>72</td>\n",
       "      <td>0</td>\n",
       "      <td>0</td>\n",
       "      <td>3</td>\n",
       "      <td>1020</td>\n",
       "      <td>1</td>\n",
       "      <td>1</td>\n",
       "      <td>98.0</td>\n",
       "      <td>...</td>\n",
       "      <td>7714.19</td>\n",
       "      <td>7859.74</td>\n",
       "      <td>11232.37</td>\n",
       "      <td>0.64</td>\n",
       "      <td>0.64</td>\n",
       "      <td>1299.64</td>\n",
       "      <td>439.26</td>\n",
       "      <td>7076.06</td>\n",
       "      <td>7755.98</td>\n",
       "      <td>0</td>\n",
       "    </tr>\n",
       "    <tr>\n",
       "      <td>7</td>\n",
       "      <td>9</td>\n",
       "      <td>1145</td>\n",
       "      <td>46</td>\n",
       "      <td>0</td>\n",
       "      <td>0</td>\n",
       "      <td>0</td>\n",
       "      <td>623</td>\n",
       "      <td>2</td>\n",
       "      <td>317</td>\n",
       "      <td>172.0</td>\n",
       "      <td>...</td>\n",
       "      <td>8519.53</td>\n",
       "      <td>6511.82</td>\n",
       "      <td>16314.17</td>\n",
       "      <td>0.27</td>\n",
       "      <td>0.27</td>\n",
       "      <td>443.13</td>\n",
       "      <td>5688.44</td>\n",
       "      <td>8563.84</td>\n",
       "      <td>5317.04</td>\n",
       "      <td>0</td>\n",
       "    </tr>\n",
       "    <tr>\n",
       "      <td>8</td>\n",
       "      <td>10</td>\n",
       "      <td>2132</td>\n",
       "      <td>31</td>\n",
       "      <td>0</td>\n",
       "      <td>0</td>\n",
       "      <td>1</td>\n",
       "      <td>1096</td>\n",
       "      <td>2</td>\n",
       "      <td>4110</td>\n",
       "      <td>19.0</td>\n",
       "      <td>...</td>\n",
       "      <td>1355.86</td>\n",
       "      <td>1702.44</td>\n",
       "      <td>1126.13</td>\n",
       "      <td>714.51</td>\n",
       "      <td>121.09</td>\n",
       "      <td>714.51</td>\n",
       "      <td>359.44</td>\n",
       "      <td>1183.45</td>\n",
       "      <td>1857.42</td>\n",
       "      <td>0</td>\n",
       "    </tr>\n",
       "    <tr>\n",
       "      <td>9</td>\n",
       "      <td>11</td>\n",
       "      <td>3379</td>\n",
       "      <td>40</td>\n",
       "      <td>0</td>\n",
       "      <td>3</td>\n",
       "      <td>0</td>\n",
       "      <td>1020</td>\n",
       "      <td>2</td>\n",
       "      <td>38</td>\n",
       "      <td>0.0</td>\n",
       "      <td>...</td>\n",
       "      <td>4244.38</td>\n",
       "      <td>2168.53</td>\n",
       "      <td>1864.33</td>\n",
       "      <td>6912.29</td>\n",
       "      <td>4206.13</td>\n",
       "      <td>1887.30</td>\n",
       "      <td>1348.85</td>\n",
       "      <td>1823.16</td>\n",
       "      <td>2416.69</td>\n",
       "      <td>0</td>\n",
       "    </tr>\n",
       "  </tbody>\n",
       "</table>\n",
       "<p>10 rows × 21 columns</p>\n",
       "</div>"
      ],
      "text/plain": [
       "   customer_id  vintage  age  gender  dependents  occupation  city  \\\n",
       "0            1     3135   66       0           0           0   187   \n",
       "1            2      310   35       0           0           0  1020   \n",
       "2            4     2356   31       0           0           1   146   \n",
       "3            5      478   90       0           0           0  1020   \n",
       "4            6     2531   42       0           2           0  1494   \n",
       "5            7      263   42       1           0           0  1096   \n",
       "6            8     5922   72       0           0           3  1020   \n",
       "7            9     1145   46       0           0           0   623   \n",
       "8           10     2132   31       0           0           1  1096   \n",
       "9           11     3379   40       0           3           0  1020   \n",
       "\n",
       "   customer_nw_category  branch_code  days_since_last_transaction  ...  \\\n",
       "0                     2          755                        224.0  ...   \n",
       "1                     2         3214                         60.0  ...   \n",
       "2                     2           41                         70.0  ...   \n",
       "3                     2          582                        147.0  ...   \n",
       "4                     3          388                         58.0  ...   \n",
       "5                     2         1666                         60.0  ...   \n",
       "6                     1            1                         98.0  ...   \n",
       "7                     2          317                        172.0  ...   \n",
       "8                     2         4110                         19.0  ...   \n",
       "9                     2           38                          0.0  ...   \n",
       "\n",
       "   previous_month_end_balance  average_monthly_balance_prevQ  \\\n",
       "0                     1458.71                        1458.71   \n",
       "1                     8704.66                        7799.26   \n",
       "2                     5815.29                        4910.17   \n",
       "3                     2291.91                        2084.54   \n",
       "4                     1401.72                        1643.31   \n",
       "5                    16059.34                       15211.29   \n",
       "6                     7714.19                        7859.74   \n",
       "7                     8519.53                        6511.82   \n",
       "8                     1355.86                        1702.44   \n",
       "9                     4244.38                        2168.53   \n",
       "\n",
       "   average_monthly_balance_prevQ2  current_month_credit  \\\n",
       "0                         1449.07                  0.20   \n",
       "1                        12419.41                  0.56   \n",
       "2                         2815.94                  0.61   \n",
       "3                         1006.54                  0.47   \n",
       "4                         1871.12                  0.33   \n",
       "5                        13798.82                  0.36   \n",
       "6                        11232.37                  0.64   \n",
       "7                        16314.17                  0.27   \n",
       "8                         1126.13                714.51   \n",
       "9                         1864.33               6912.29   \n",
       "\n",
       "   previous_month_credit  current_month_debit  previous_month_debit  \\\n",
       "0                   0.20                 0.20                  0.20   \n",
       "1                   0.56              5486.27                100.56   \n",
       "2                   0.61              6046.73                259.23   \n",
       "3                   0.47                 0.47               2143.33   \n",
       "4                 714.61               588.62               1538.06   \n",
       "5                   0.36               857.50                286.07   \n",
       "6                   0.64              1299.64                439.26   \n",
       "7                   0.27               443.13               5688.44   \n",
       "8                 121.09               714.51                359.44   \n",
       "9                4206.13              1887.30               1348.85   \n",
       "\n",
       "   current_month_balance  previous_month_balance  churn  \n",
       "0                1458.71                 1458.71      0  \n",
       "1                6496.78                 8787.61      0  \n",
       "2                5006.28                 5070.14      0  \n",
       "3                2291.91                 1669.79      1  \n",
       "4                1157.15                 1677.16      1  \n",
       "5               15719.44                15349.75      0  \n",
       "6                7076.06                 7755.98      0  \n",
       "7                8563.84                 5317.04      0  \n",
       "8                1183.45                 1857.42      0  \n",
       "9                1823.16                 2416.69      0  \n",
       "\n",
       "[10 rows x 21 columns]"
      ]
     },
     "execution_count": 27,
     "metadata": {},
     "output_type": "execute_result"
    }
   ],
   "source": [
    "df.head(10)"
   ]
  },
  {
   "cell_type": "code",
   "execution_count": 28,
   "metadata": {},
   "outputs": [
    {
     "data": {
      "text/plain": [
       "(28382, 21)"
      ]
     },
     "execution_count": 28,
     "metadata": {},
     "output_type": "execute_result"
    }
   ],
   "source": [
    "df.shape"
   ]
  },
  {
   "cell_type": "code",
   "execution_count": 29,
   "metadata": {},
   "outputs": [],
   "source": [
    "#Changing the datatypes\n",
    "df=df.astype({'gender':'int64','occupation':'int64'})"
   ]
  },
  {
   "cell_type": "code",
   "execution_count": 30,
   "metadata": {},
   "outputs": [
    {
     "data": {
      "text/plain": [
       "customer_id                         int64\n",
       "vintage                             int64\n",
       "age                                 int64\n",
       "gender                              int64\n",
       "dependents                          int64\n",
       "occupation                          int64\n",
       "city                                int64\n",
       "customer_nw_category                int64\n",
       "branch_code                         int64\n",
       "days_since_last_transaction       float64\n",
       "current_balance                   float64\n",
       "previous_month_end_balance        float64\n",
       "average_monthly_balance_prevQ     float64\n",
       "average_monthly_balance_prevQ2    float64\n",
       "current_month_credit              float64\n",
       "previous_month_credit             float64\n",
       "current_month_debit               float64\n",
       "previous_month_debit              float64\n",
       "current_month_balance             float64\n",
       "previous_month_balance            float64\n",
       "churn                               int64\n",
       "dtype: object"
      ]
     },
     "execution_count": 30,
     "metadata": {},
     "output_type": "execute_result"
    }
   ],
   "source": [
    "df.dtypes"
   ]
  },
  {
   "cell_type": "markdown",
   "metadata": {},
   "source": [
    "## Splitting"
   ]
  },
  {
   "cell_type": "markdown",
   "metadata": {},
   "source": [
    "**Separating Dependent and Independent variables**"
   ]
  },
  {
   "cell_type": "code",
   "execution_count": 31,
   "metadata": {},
   "outputs": [],
   "source": [
    "#For Train Set\n",
    "data_x=df.drop(['churn'],axis=1)\n",
    "data_y=df['churn']"
   ]
  },
  {
   "cell_type": "markdown",
   "metadata": {},
   "source": [
    "**Creating Validation and Test Set**"
   ]
  },
  {
   "cell_type": "code",
   "execution_count": 32,
   "metadata": {},
   "outputs": [],
   "source": [
    "from sklearn.model_selection import train_test_split as tts\n",
    "train1_x, test_x , train1_y, test_y = tts( data_x, data_y , test_size = 0.2 , random_state = 50, stratify = data_y)"
   ]
  },
  {
   "cell_type": "code",
   "execution_count": 33,
   "metadata": {},
   "outputs": [
    {
     "name": "stdout",
     "output_type": "stream",
     "text": [
      "Training Data     (18164, 20) (18164,)\n",
      "Validation Data   (4541, 20) (4541,)\n",
      "Test Data         (5677, 20) (5677,)\n"
     ]
    }
   ],
   "source": [
    "train_x, val_x, train_y, val_y = tts(train1_x, train1_y, test_size = 0.2 , random_state = 51, stratify = train1_y)\n",
    "\n",
    "print('Training Data    ',train_x.shape,train_y.shape)\n",
    "print('Validation Data  ',val_x.shape,val_y.shape)\n",
    "print('Test Data        ',test_x.shape,test_y.shape)"
   ]
  },
  {
   "cell_type": "code",
   "execution_count": 34,
   "metadata": {},
   "outputs": [
    {
     "data": {
      "text/plain": [
       "0    0.814688\n",
       "1    0.185312\n",
       "Name: churn, dtype: float64"
      ]
     },
     "execution_count": 34,
     "metadata": {},
     "output_type": "execute_result"
    }
   ],
   "source": [
    "train_y.value_counts()/len(train_y)"
   ]
  },
  {
   "cell_type": "code",
   "execution_count": 35,
   "metadata": {},
   "outputs": [
    {
     "data": {
      "text/plain": [
       "0    0.814578\n",
       "1    0.185422\n",
       "Name: churn, dtype: float64"
      ]
     },
     "execution_count": 35,
     "metadata": {},
     "output_type": "execute_result"
    }
   ],
   "source": [
    "val_y.value_counts()/len(val_y)"
   ]
  },
  {
   "cell_type": "code",
   "execution_count": 36,
   "metadata": {
    "scrolled": true
   },
   "outputs": [
    {
     "data": {
      "text/plain": [
       "0    0.814691\n",
       "1    0.185309\n",
       "Name: churn, dtype: float64"
      ]
     },
     "execution_count": 36,
     "metadata": {},
     "output_type": "execute_result"
    }
   ],
   "source": [
    "test_y.value_counts()/len(test_y)"
   ]
  },
  {
   "cell_type": "markdown",
   "metadata": {},
   "source": [
    "## Univariate Analysis"
   ]
  },
  {
   "cell_type": "markdown",
   "metadata": {},
   "source": [
    "## Histogram"
   ]
  },
  {
   "cell_type": "code",
   "execution_count": 37,
   "metadata": {},
   "outputs": [
    {
     "data": {
      "text/plain": [
       "Text(0.5, 0, 'churn')"
      ]
     },
     "execution_count": 37,
     "metadata": {},
     "output_type": "execute_result"
    },
    {
     "data": {
      "image/png": "[encoded data removed]",
      "text/plain": [
       "<Figure size 432x288 with 1 Axes>"
      ]
     },
     "metadata": {
      "needs_background": "light"
     },
     "output_type": "display_data"
    }
   ],
   "source": [
    "# Target variable\n",
    "df['churn'].value_counts().plot(kind='bar')\n",
    "plt.xlabel('churn',fontsize=13)"
   ]
  },
  {
   "cell_type": "code",
   "execution_count": 38,
   "metadata": {},
   "outputs": [
    {
     "data": {
      "text/plain": [
       "0    81.467127\n",
       "1    18.532873\n",
       "Name: churn, dtype: float64"
      ]
     },
     "execution_count": 38,
     "metadata": {},
     "output_type": "execute_result"
    }
   ],
   "source": [
    "#Percentage of target variable\n",
    "df['churn'].value_counts()/len(df['churn'])*100"
   ]
  },
  {
   "cell_type": "code",
   "execution_count": 39,
   "metadata": {},
   "outputs": [
    {
     "data": {
      "text/plain": [
       "Text(0.5, 0, 'churn')"
      ]
     },
     "execution_count": 39,
     "metadata": {},
     "output_type": "execute_result"
    },
    {
     "data": {
      "image/png": "[encoded data removed]",
      "text/plain": [
       "<Figure size 432x288 with 1 Axes>"
      ]
     },
     "metadata": {
      "needs_background": "light"
     },
     "output_type": "display_data"
    }
   ],
   "source": [
    "(df['churn'].value_counts()/len(df['churn'])).plot(kind='bar')\n",
    "plt.xlabel('churn',fontsize=13)"
   ]
  },
  {
   "cell_type": "code",
   "execution_count": 40,
   "metadata": {},
   "outputs": [
    {
     "data": {
      "text/plain": [
       "0    60.080379\n",
       "1    39.919621\n",
       "Name: gender, dtype: float64"
      ]
     },
     "execution_count": 40,
     "metadata": {},
     "output_type": "execute_result"
    }
   ],
   "source": [
    "# Percentage of male and female\n",
    "train_x['gender'].value_counts()/len(train_x['gender'])*100"
   ]
  },
  {
   "cell_type": "code",
   "execution_count": 41,
   "metadata": {},
   "outputs": [
    {
     "data": {
      "text/plain": [
       "Text(0.5, 0, 'gender')"
      ]
     },
     "execution_count": 41,
     "metadata": {},
     "output_type": "execute_result"
    },
    {
     "data": {
      "image/png": "[encoded data removed]",
      "text/plain": [
       "<Figure size 432x288 with 1 Axes>"
      ]
     },
     "metadata": {
      "needs_background": "light"
     },
     "output_type": "display_data"
    }
   ],
   "source": [
    "(train_x['gender'].value_counts()/len(train_x['gender'])).plot.bar()\n",
    "plt.xlabel('gender',fontsize=13)"
   ]
  },
  {
   "cell_type": "code",
   "execution_count": 42,
   "metadata": {},
   "outputs": [
    {
     "data": {
      "text/plain": [
       "Text(0.5, 0, 'dependents')"
      ]
     },
     "execution_count": 42,
     "metadata": {},
     "output_type": "execute_result"
    },
    {
     "data": {
      "image/png": "[encoded data removed]",
      "text/plain": [
       "<Figure size 432x288 with 1 Axes>"
      ]
     },
     "metadata": {
      "needs_background": "light"
     },
     "output_type": "display_data"
    }
   ],
   "source": [
    "train_x['dependents'].value_counts().plot(kind='bar')\n",
    "plt.xlabel('dependents',fontsize=13)"
   ]
  },
  {
   "cell_type": "code",
   "execution_count": 43,
   "metadata": {},
   "outputs": [
    {
     "data": {
      "text/plain": [
       "0     15288\n",
       "2      1374\n",
       "1       908\n",
       "3       443\n",
       "4       111\n",
       "5        28\n",
       "6         6\n",
       "7         2\n",
       "9         1\n",
       "8         1\n",
       "50        1\n",
       "32        1\n",
       "Name: dependents, dtype: int64"
      ]
     },
     "execution_count": 43,
     "metadata": {},
     "output_type": "execute_result"
    }
   ],
   "source": [
    "train_x['dependents'].value_counts()"
   ]
  },
  {
   "cell_type": "code",
   "execution_count": 44,
   "metadata": {},
   "outputs": [
    {
     "data": {
      "text/plain": [
       "0    0\n",
       "dtype: int64"
      ]
     },
     "execution_count": 44,
     "metadata": {},
     "output_type": "execute_result"
    }
   ],
   "source": [
    "train_x['dependents'].mode()"
   ]
  },
  {
   "cell_type": "code",
   "execution_count": 45,
   "metadata": {},
   "outputs": [
    {
     "name": "stderr",
     "output_type": "stream",
     "text": [
      "C:\\Users\\KIIT\\Anaconda3\\lib\\site-packages\\pandas\\core\\generic.py:6786: SettingWithCopyWarning: \n",
      "A value is trying to be set on a copy of a slice from a DataFrame\n",
      "\n",
      "See the caveats in the documentation: http://pandas.pydata.org/pandas-docs/stable/user_guide/indexing.html#returning-a-view-versus-a-copy\n",
      "  self._update_inplace(new_data)\n"
     ]
    }
   ],
   "source": [
    "train_x['dependents'].replace({50:0, 32:0}, inplace=True)"
   ]
  },
  {
   "cell_type": "code",
   "execution_count": 46,
   "metadata": {},
   "outputs": [
    {
     "data": {
      "text/plain": [
       "0    15290\n",
       "2     1374\n",
       "1      908\n",
       "3      443\n",
       "4      111\n",
       "5       28\n",
       "6        6\n",
       "7        2\n",
       "9        1\n",
       "8        1\n",
       "Name: dependents, dtype: int64"
      ]
     },
     "execution_count": 46,
     "metadata": {},
     "output_type": "execute_result"
    }
   ],
   "source": [
    "train_x['dependents'].value_counts()"
   ]
  },
  {
   "cell_type": "code",
   "execution_count": 47,
   "metadata": {},
   "outputs": [
    {
     "data": {
      "text/plain": [
       "Text(0.5, 0, 'dependents')"
      ]
     },
     "execution_count": 47,
     "metadata": {},
     "output_type": "execute_result"
    },
    {
     "data": {
      "image/png": "[encoded data removed]",
      "text/plain": [
       "<Figure size 432x288 with 1 Axes>"
      ]
     },
     "metadata": {
      "needs_background": "light"
     },
     "output_type": "display_data"
    }
   ],
   "source": [
    "train_x['dependents'].value_counts().plot(kind='bar')\n",
    "plt.xlabel('dependents',fontsize=13)"
   ]
  },
  {
   "cell_type": "code",
   "execution_count": 48,
   "metadata": {},
   "outputs": [
    {
     "data": {
      "text/plain": [
       "Text(0.5, 0, 'dependents')"
      ]
     },
     "execution_count": 48,
     "metadata": {},
     "output_type": "execute_result"
    },
    {
     "data": {
      "image/png": "[encoded data removed]",
      "text/plain": [
       "<Figure size 432x288 with 1 Axes>"
      ]
     },
     "metadata": {
      "needs_background": "light"
     },
     "output_type": "display_data"
    }
   ],
   "source": [
    "np.log(train_x['dependents'].value_counts()).plot.bar()\n",
    "plt.xlabel('dependents',fontsize=13)"
   ]
  },
  {
   "cell_type": "code",
   "execution_count": 49,
   "metadata": {},
   "outputs": [
    {
     "data": {
      "text/plain": [
       "Text(0.5, 0, 'dependents')"
      ]
     },
     "execution_count": 49,
     "metadata": {},
     "output_type": "execute_result"
    },
    {
     "data": {
      "image/png": "[encoded data removed]",
      "text/plain": [
       "<Figure size 432x288 with 1 Axes>"
      ]
     },
     "metadata": {
      "needs_background": "light"
     },
     "output_type": "display_data"
    }
   ],
   "source": [
    "np.power(train_x['dependents'].value_counts(),1/3).plot.bar()\n",
    "plt.xlabel('dependents',fontsize=13)"
   ]
  },
  {
   "cell_type": "code",
   "execution_count": 50,
   "metadata": {},
   "outputs": [
    {
     "data": {
      "text/plain": [
       "Text(0.5, 0, 'occupation')"
      ]
     },
     "execution_count": 50,
     "metadata": {},
     "output_type": "execute_result"
    },
    {
     "data": {
      "image/png": "[encoded data removed]",
      "text/plain": [
       "<Figure size 432x288 with 1 Axes>"
      ]
     },
     "metadata": {
      "needs_background": "light"
     },
     "output_type": "display_data"
    }
   ],
   "source": [
    "train_x['occupation'].value_counts().plot(kind='bar')\n",
    "plt.xlabel('occupation',fontsize=13)"
   ]
  },
  {
   "cell_type": "code",
   "execution_count": 51,
   "metadata": {},
   "outputs": [
    {
     "data": {
      "text/plain": [
       "Text(0.5, 0, 'customer net worth')"
      ]
     },
     "execution_count": 51,
     "metadata": {},
     "output_type": "execute_result"
    },
    {
     "data": {
      "image/png": "[encoded data removed]",
      "text/plain": [
       "<Figure size 432x288 with 1 Axes>"
      ]
     },
     "metadata": {
      "needs_background": "light"
     },
     "output_type": "display_data"
    }
   ],
   "source": [
    "train_x['customer_nw_category'].value_counts().plot(kind='bar')\n",
    "plt.xlabel('customer net worth',fontsize=13)"
   ]
  },
  {
   "cell_type": "markdown",
   "metadata": {},
   "source": [
    "## Boxplot"
   ]
  },
  {
   "cell_type": "code",
   "execution_count": 52,
   "metadata": {},
   "outputs": [
    {
     "data": {
      "text/plain": [
       "<matplotlib.axes._subplots.AxesSubplot at 0x16a09d7f848>"
      ]
     },
     "execution_count": 52,
     "metadata": {},
     "output_type": "execute_result"
    },
    {
     "data": {
      "image/png": "[encoded data removed]",
      "text/plain": [
       "<Figure size 432x288 with 1 Axes>"
      ]
     },
     "metadata": {
      "needs_background": "light"
     },
     "output_type": "display_data"
    }
   ],
   "source": [
    "train_x['age'].plot.box()"
   ]
  },
  {
   "cell_type": "markdown",
   "metadata": {},
   "source": [
    "## Bivariate Analysis"
   ]
  },
  {
   "cell_type": "markdown",
   "metadata": {},
   "source": [
    "## Scatter Plot"
   ]
  },
  {
   "cell_type": "code",
   "execution_count": 53,
   "metadata": {},
   "outputs": [
    {
     "data": {
      "text/plain": [
       "<matplotlib.axes._subplots.AxesSubplot at 0x16a0adba948>"
      ]
     },
     "execution_count": 53,
     "metadata": {},
     "output_type": "execute_result"
    },
    {
     "data": {
      "image/png": "[encoded data removed]",
      "text/plain": [
       "<Figure size 432x288 with 1 Axes>"
      ]
     },
     "metadata": {
      "needs_background": "light"
     },
     "output_type": "display_data"
    }
   ],
   "source": [
    "train_x.plot.scatter('customer_nw_category','age')"
   ]
  },
  {
   "cell_type": "code",
   "execution_count": 54,
   "metadata": {},
   "outputs": [
    {
     "data": {
      "text/plain": [
       "<matplotlib.axes._subplots.AxesSubplot at 0x16a0b0fa208>"
      ]
     },
     "execution_count": 54,
     "metadata": {},
     "output_type": "execute_result"
    },
    {
     "data": {
      "image/png": "[encoded data removed]",
      "text/plain": [
       "<Figure size 432x288 with 1 Axes>"
      ]
     },
     "metadata": {
      "needs_background": "light"
     },
     "output_type": "display_data"
    }
   ],
   "source": [
    "train_x.plot.scatter('age','days_since_last_transaction')"
   ]
  },
  {
   "cell_type": "code",
   "execution_count": 55,
   "metadata": {
    "scrolled": true
   },
   "outputs": [
    {
     "data": {
      "text/plain": [
       "<matplotlib.axes._subplots.AxesSubplot at 0x16a0ade4488>"
      ]
     },
     "execution_count": 55,
     "metadata": {},
     "output_type": "execute_result"
    },
    {
     "data": {
      "image/png": "[encoded data removed]",
      "text/plain": [
       "<Figure size 432x288 with 1 Axes>"
      ]
     },
     "metadata": {
      "needs_background": "light"
     },
     "output_type": "display_data"
    }
   ],
   "source": [
    "train_x.plot.scatter('age','current_balance')"
   ]
  },
  {
   "cell_type": "markdown",
   "metadata": {},
   "source": [
    "## Removing Outlier from current_balance"
   ]
  },
  {
   "cell_type": "code",
   "execution_count": 56,
   "metadata": {},
   "outputs": [
    {
     "data": {
      "text/html": [
       "<div>\n",
       "<style scoped>\n",
       "    .dataframe tbody tr th:only-of-type {\n",
       "        vertical-align: middle;\n",
       "    }\n",
       "\n",
       "    .dataframe tbody tr th {\n",
       "        vertical-align: top;\n",
       "    }\n",
       "\n",
       "    .dataframe thead th {\n",
       "        text-align: right;\n",
       "    }\n",
       "</style>\n",
       "<table border=\"1\" class=\"dataframe\">\n",
       "  <thead>\n",
       "    <tr style=\"text-align: right;\">\n",
       "      <th></th>\n",
       "      <th>customer_id</th>\n",
       "      <th>vintage</th>\n",
       "      <th>age</th>\n",
       "      <th>gender</th>\n",
       "      <th>dependents</th>\n",
       "      <th>occupation</th>\n",
       "      <th>city</th>\n",
       "      <th>customer_nw_category</th>\n",
       "      <th>branch_code</th>\n",
       "      <th>days_since_last_transaction</th>\n",
       "      <th>current_balance</th>\n",
       "      <th>previous_month_end_balance</th>\n",
       "      <th>average_monthly_balance_prevQ</th>\n",
       "      <th>average_monthly_balance_prevQ2</th>\n",
       "      <th>current_month_credit</th>\n",
       "      <th>previous_month_credit</th>\n",
       "      <th>current_month_debit</th>\n",
       "      <th>previous_month_debit</th>\n",
       "      <th>current_month_balance</th>\n",
       "      <th>previous_month_balance</th>\n",
       "    </tr>\n",
       "  </thead>\n",
       "  <tbody>\n",
       "    <tr>\n",
       "      <td>9908</td>\n",
       "      <td>10575</td>\n",
       "      <td>1670</td>\n",
       "      <td>90</td>\n",
       "      <td>0</td>\n",
       "      <td>0</td>\n",
       "      <td>0</td>\n",
       "      <td>243</td>\n",
       "      <td>2</td>\n",
       "      <td>2542</td>\n",
       "      <td>18.0</td>\n",
       "      <td>5905904.03</td>\n",
       "      <td>5740438.63</td>\n",
       "      <td>5700289.57</td>\n",
       "      <td>5010170.1</td>\n",
       "      <td>5232.34</td>\n",
       "      <td>1452.87</td>\n",
       "      <td>17327.27</td>\n",
       "      <td>17248.3</td>\n",
       "      <td>5778184.77</td>\n",
       "      <td>5720144.5</td>\n",
       "    </tr>\n",
       "  </tbody>\n",
       "</table>\n",
       "</div>"
      ],
      "text/plain": [
       "      customer_id  vintage  age  gender  dependents  occupation  city  \\\n",
       "9908        10575     1670   90       0           0           0   243   \n",
       "\n",
       "      customer_nw_category  branch_code  days_since_last_transaction  \\\n",
       "9908                     2         2542                         18.0   \n",
       "\n",
       "      current_balance  previous_month_end_balance  \\\n",
       "9908       5905904.03                  5740438.63   \n",
       "\n",
       "      average_monthly_balance_prevQ  average_monthly_balance_prevQ2  \\\n",
       "9908                     5700289.57                       5010170.1   \n",
       "\n",
       "      current_month_credit  previous_month_credit  current_month_debit  \\\n",
       "9908               5232.34                1452.87             17327.27   \n",
       "\n",
       "      previous_month_debit  current_month_balance  previous_month_balance  \n",
       "9908               17248.3             5778184.77               5720144.5  "
      ]
     },
     "execution_count": 56,
     "metadata": {},
     "output_type": "execute_result"
    }
   ],
   "source": [
    "train_x[train_x['current_balance']>=2000000]"
   ]
  },
  {
   "cell_type": "code",
   "execution_count": 57,
   "metadata": {},
   "outputs": [],
   "source": [
    "train_x=train_x[train_x['current_balance']<=2000000]"
   ]
  },
  {
   "cell_type": "code",
   "execution_count": 58,
   "metadata": {
    "scrolled": true
   },
   "outputs": [
    {
     "data": {
      "text/plain": [
       "<matplotlib.axes._subplots.AxesSubplot at 0x16a0ae54188>"
      ]
     },
     "execution_count": 58,
     "metadata": {},
     "output_type": "execute_result"
    },
    {
     "data": {
      "image/png": "[encoded data removed]",
      "text/plain": [
       "<Figure size 432x288 with 1 Axes>"
      ]
     },
     "metadata": {
      "needs_background": "light"
     },
     "output_type": "display_data"
    }
   ],
   "source": [
    "train_x.plot.scatter('age','current_balance')"
   ]
  },
  {
   "cell_type": "code",
   "execution_count": 59,
   "metadata": {},
   "outputs": [
    {
     "data": {
      "text/html": [
       "<div>\n",
       "<style scoped>\n",
       "    .dataframe tbody tr th:only-of-type {\n",
       "        vertical-align: middle;\n",
       "    }\n",
       "\n",
       "    .dataframe tbody tr th {\n",
       "        vertical-align: top;\n",
       "    }\n",
       "\n",
       "    .dataframe thead th {\n",
       "        text-align: right;\n",
       "    }\n",
       "</style>\n",
       "<table border=\"1\" class=\"dataframe\">\n",
       "  <thead>\n",
       "    <tr style=\"text-align: right;\">\n",
       "      <th></th>\n",
       "      <th>customer_id</th>\n",
       "      <th>vintage</th>\n",
       "      <th>age</th>\n",
       "      <th>gender</th>\n",
       "      <th>dependents</th>\n",
       "      <th>occupation</th>\n",
       "      <th>city</th>\n",
       "      <th>customer_nw_category</th>\n",
       "      <th>branch_code</th>\n",
       "      <th>days_since_last_transaction</th>\n",
       "      <th>current_balance</th>\n",
       "      <th>previous_month_end_balance</th>\n",
       "      <th>average_monthly_balance_prevQ</th>\n",
       "      <th>average_monthly_balance_prevQ2</th>\n",
       "      <th>current_month_credit</th>\n",
       "      <th>previous_month_credit</th>\n",
       "      <th>current_month_debit</th>\n",
       "      <th>previous_month_debit</th>\n",
       "      <th>current_month_balance</th>\n",
       "      <th>previous_month_balance</th>\n",
       "    </tr>\n",
       "  </thead>\n",
       "  <tbody>\n",
       "    <tr>\n",
       "      <td>12457</td>\n",
       "      <td>13305</td>\n",
       "      <td>2156</td>\n",
       "      <td>90</td>\n",
       "      <td>0</td>\n",
       "      <td>0</td>\n",
       "      <td>0</td>\n",
       "      <td>1467</td>\n",
       "      <td>2</td>\n",
       "      <td>191</td>\n",
       "      <td>54.0</td>\n",
       "      <td>453172.56</td>\n",
       "      <td>453172.56</td>\n",
       "      <td>436114.35</td>\n",
       "      <td>387695.06</td>\n",
       "      <td>0.11</td>\n",
       "      <td>44067.14</td>\n",
       "      <td>0.11</td>\n",
       "      <td>0.11</td>\n",
       "      <td>453172.56</td>\n",
       "      <td>446064.97</td>\n",
       "    </tr>\n",
       "    <tr>\n",
       "      <td>28249</td>\n",
       "      <td>30160</td>\n",
       "      <td>4395</td>\n",
       "      <td>44</td>\n",
       "      <td>0</td>\n",
       "      <td>0</td>\n",
       "      <td>1</td>\n",
       "      <td>1096</td>\n",
       "      <td>1</td>\n",
       "      <td>578</td>\n",
       "      <td>18.0</td>\n",
       "      <td>815323.98</td>\n",
       "      <td>957743.74</td>\n",
       "      <td>904711.72</td>\n",
       "      <td>89623.09</td>\n",
       "      <td>30537.39</td>\n",
       "      <td>143777.37</td>\n",
       "      <td>172857.49</td>\n",
       "      <td>138677.57</td>\n",
       "      <td>880628.04</td>\n",
       "      <td>898246.69</td>\n",
       "    </tr>\n",
       "    <tr>\n",
       "      <td>23211</td>\n",
       "      <td>24764</td>\n",
       "      <td>2560</td>\n",
       "      <td>90</td>\n",
       "      <td>0</td>\n",
       "      <td>0</td>\n",
       "      <td>0</td>\n",
       "      <td>751</td>\n",
       "      <td>2</td>\n",
       "      <td>138</td>\n",
       "      <td>108.0</td>\n",
       "      <td>1064423.50</td>\n",
       "      <td>1396836.81</td>\n",
       "      <td>1608344.15</td>\n",
       "      <td>757872.97</td>\n",
       "      <td>0.56</td>\n",
       "      <td>0.56</td>\n",
       "      <td>240137.37</td>\n",
       "      <td>95975.76</td>\n",
       "      <td>1284357.61</td>\n",
       "      <td>1572832.93</td>\n",
       "    </tr>\n",
       "    <tr>\n",
       "      <td>19977</td>\n",
       "      <td>21317</td>\n",
       "      <td>842</td>\n",
       "      <td>1</td>\n",
       "      <td>0</td>\n",
       "      <td>0</td>\n",
       "      <td>0</td>\n",
       "      <td>105</td>\n",
       "      <td>2</td>\n",
       "      <td>650</td>\n",
       "      <td>18.0</td>\n",
       "      <td>1076091.29</td>\n",
       "      <td>1001123.73</td>\n",
       "      <td>618417.06</td>\n",
       "      <td>581507.67</td>\n",
       "      <td>216396.14</td>\n",
       "      <td>143980.87</td>\n",
       "      <td>141428.59</td>\n",
       "      <td>571428.59</td>\n",
       "      <td>1074624.64</td>\n",
       "      <td>663884.48</td>\n",
       "    </tr>\n",
       "    <tr>\n",
       "      <td>23247</td>\n",
       "      <td>24807</td>\n",
       "      <td>1732</td>\n",
       "      <td>90</td>\n",
       "      <td>0</td>\n",
       "      <td>0</td>\n",
       "      <td>0</td>\n",
       "      <td>1294</td>\n",
       "      <td>2</td>\n",
       "      <td>150</td>\n",
       "      <td>70.0</td>\n",
       "      <td>1398486.42</td>\n",
       "      <td>1398486.42</td>\n",
       "      <td>1398486.42</td>\n",
       "      <td>1389626.93</td>\n",
       "      <td>0.31</td>\n",
       "      <td>0.31</td>\n",
       "      <td>0.31</td>\n",
       "      <td>0.31</td>\n",
       "      <td>1398486.42</td>\n",
       "      <td>1398486.42</td>\n",
       "    </tr>\n",
       "    <tr>\n",
       "      <td>15841</td>\n",
       "      <td>16902</td>\n",
       "      <td>446</td>\n",
       "      <td>31</td>\n",
       "      <td>0</td>\n",
       "      <td>0</td>\n",
       "      <td>0</td>\n",
       "      <td>1020</td>\n",
       "      <td>1</td>\n",
       "      <td>16</td>\n",
       "      <td>62.0</td>\n",
       "      <td>472487.44</td>\n",
       "      <td>222490.55</td>\n",
       "      <td>264798.71</td>\n",
       "      <td>96598.87</td>\n",
       "      <td>0.54</td>\n",
       "      <td>0.54</td>\n",
       "      <td>3.73</td>\n",
       "      <td>120399.39</td>\n",
       "      <td>499582.32</td>\n",
       "      <td>263874.67</td>\n",
       "    </tr>\n",
       "    <tr>\n",
       "      <td>10955</td>\n",
       "      <td>11709</td>\n",
       "      <td>521</td>\n",
       "      <td>90</td>\n",
       "      <td>0</td>\n",
       "      <td>0</td>\n",
       "      <td>0</td>\n",
       "      <td>1341</td>\n",
       "      <td>2</td>\n",
       "      <td>2688</td>\n",
       "      <td>11.0</td>\n",
       "      <td>828201.44</td>\n",
       "      <td>828191.67</td>\n",
       "      <td>595422.52</td>\n",
       "      <td>381539.20</td>\n",
       "      <td>9.84</td>\n",
       "      <td>441798.76</td>\n",
       "      <td>0.07</td>\n",
       "      <td>0.07</td>\n",
       "      <td>828195.71</td>\n",
       "      <td>571669.08</td>\n",
       "    </tr>\n",
       "    <tr>\n",
       "      <td>27856</td>\n",
       "      <td>29735</td>\n",
       "      <td>194</td>\n",
       "      <td>90</td>\n",
       "      <td>0</td>\n",
       "      <td>0</td>\n",
       "      <td>0</td>\n",
       "      <td>904</td>\n",
       "      <td>1</td>\n",
       "      <td>296</td>\n",
       "      <td>213.0</td>\n",
       "      <td>1435872.80</td>\n",
       "      <td>1435872.80</td>\n",
       "      <td>1435872.80</td>\n",
       "      <td>413107.52</td>\n",
       "      <td>0.24</td>\n",
       "      <td>0.24</td>\n",
       "      <td>0.24</td>\n",
       "      <td>0.24</td>\n",
       "      <td>1435872.80</td>\n",
       "      <td>1435872.80</td>\n",
       "    </tr>\n",
       "  </tbody>\n",
       "</table>\n",
       "</div>"
      ],
      "text/plain": [
       "       customer_id  vintage  age  gender  dependents  occupation  city  \\\n",
       "12457        13305     2156   90       0           0           0  1467   \n",
       "28249        30160     4395   44       0           0           1  1096   \n",
       "23211        24764     2560   90       0           0           0   751   \n",
       "19977        21317      842    1       0           0           0   105   \n",
       "23247        24807     1732   90       0           0           0  1294   \n",
       "15841        16902      446   31       0           0           0  1020   \n",
       "10955        11709      521   90       0           0           0  1341   \n",
       "27856        29735      194   90       0           0           0   904   \n",
       "\n",
       "       customer_nw_category  branch_code  days_since_last_transaction  \\\n",
       "12457                     2          191                         54.0   \n",
       "28249                     1          578                         18.0   \n",
       "23211                     2          138                        108.0   \n",
       "19977                     2          650                         18.0   \n",
       "23247                     2          150                         70.0   \n",
       "15841                     1           16                         62.0   \n",
       "10955                     2         2688                         11.0   \n",
       "27856                     1          296                        213.0   \n",
       "\n",
       "       current_balance  previous_month_end_balance  \\\n",
       "12457        453172.56                   453172.56   \n",
       "28249        815323.98                   957743.74   \n",
       "23211       1064423.50                  1396836.81   \n",
       "19977       1076091.29                  1001123.73   \n",
       "23247       1398486.42                  1398486.42   \n",
       "15841        472487.44                   222490.55   \n",
       "10955        828201.44                   828191.67   \n",
       "27856       1435872.80                  1435872.80   \n",
       "\n",
       "       average_monthly_balance_prevQ  average_monthly_balance_prevQ2  \\\n",
       "12457                      436114.35                       387695.06   \n",
       "28249                      904711.72                        89623.09   \n",
       "23211                     1608344.15                       757872.97   \n",
       "19977                      618417.06                       581507.67   \n",
       "23247                     1398486.42                      1389626.93   \n",
       "15841                      264798.71                        96598.87   \n",
       "10955                      595422.52                       381539.20   \n",
       "27856                     1435872.80                       413107.52   \n",
       "\n",
       "       current_month_credit  previous_month_credit  current_month_debit  \\\n",
       "12457                  0.11               44067.14                 0.11   \n",
       "28249              30537.39              143777.37            172857.49   \n",
       "23211                  0.56                   0.56            240137.37   \n",
       "19977             216396.14              143980.87            141428.59   \n",
       "23247                  0.31                   0.31                 0.31   \n",
       "15841                  0.54                   0.54                 3.73   \n",
       "10955                  9.84              441798.76                 0.07   \n",
       "27856                  0.24                   0.24                 0.24   \n",
       "\n",
       "       previous_month_debit  current_month_balance  previous_month_balance  \n",
       "12457                  0.11              453172.56               446064.97  \n",
       "28249             138677.57              880628.04               898246.69  \n",
       "23211              95975.76             1284357.61              1572832.93  \n",
       "19977             571428.59             1074624.64               663884.48  \n",
       "23247                  0.31             1398486.42              1398486.42  \n",
       "15841             120399.39              499582.32               263874.67  \n",
       "10955                  0.07              828195.71               571669.08  \n",
       "27856                  0.24             1435872.80              1435872.80  "
      ]
     },
     "execution_count": 59,
     "metadata": {},
     "output_type": "execute_result"
    }
   ],
   "source": [
    "train_x[train_x['current_balance']>=400000]"
   ]
  },
  {
   "cell_type": "code",
   "execution_count": 60,
   "metadata": {},
   "outputs": [],
   "source": [
    "train_x=train_x[train_x['current_balance']<=400000]"
   ]
  },
  {
   "cell_type": "code",
   "execution_count": 61,
   "metadata": {},
   "outputs": [
    {
     "data": {
      "text/plain": [
       "<matplotlib.axes._subplots.AxesSubplot at 0x16a0aeb5f48>"
      ]
     },
     "execution_count": 61,
     "metadata": {},
     "output_type": "execute_result"
    },
    {
     "data": {
      "image/png": "[encoded data removed]",
      "text/plain": [
       "<Figure size 432x288 with 1 Axes>"
      ]
     },
     "metadata": {
      "needs_background": "light"
     },
     "output_type": "display_data"
    }
   ],
   "source": [
    "train_x.plot.scatter('age','current_balance')"
   ]
  },
  {
   "cell_type": "code",
   "execution_count": 62,
   "metadata": {},
   "outputs": [
    {
     "data": {
      "text/plain": [
       "<matplotlib.axes._subplots.AxesSubplot at 0x16a0b5ae288>"
      ]
     },
     "execution_count": 62,
     "metadata": {},
     "output_type": "execute_result"
    },
    {
     "data": {
      "image/png": "[encoded data removed]",
      "text/plain": [
       "<Figure size 432x288 with 1 Axes>"
      ]
     },
     "metadata": {
      "needs_background": "light"
     },
     "output_type": "display_data"
    }
   ],
   "source": [
    "train_x.plot.scatter('age','previous_month_end_balance')"
   ]
  },
  {
   "cell_type": "markdown",
   "metadata": {},
   "source": [
    "## Removing Outlier from previous_month_end_balance"
   ]
  },
  {
   "cell_type": "code",
   "execution_count": 63,
   "metadata": {},
   "outputs": [
    {
     "data": {
      "text/html": [
       "<div>\n",
       "<style scoped>\n",
       "    .dataframe tbody tr th:only-of-type {\n",
       "        vertical-align: middle;\n",
       "    }\n",
       "\n",
       "    .dataframe tbody tr th {\n",
       "        vertical-align: top;\n",
       "    }\n",
       "\n",
       "    .dataframe thead th {\n",
       "        text-align: right;\n",
       "    }\n",
       "</style>\n",
       "<table border=\"1\" class=\"dataframe\">\n",
       "  <thead>\n",
       "    <tr style=\"text-align: right;\">\n",
       "      <th></th>\n",
       "      <th>customer_id</th>\n",
       "      <th>vintage</th>\n",
       "      <th>age</th>\n",
       "      <th>gender</th>\n",
       "      <th>dependents</th>\n",
       "      <th>occupation</th>\n",
       "      <th>city</th>\n",
       "      <th>customer_nw_category</th>\n",
       "      <th>branch_code</th>\n",
       "      <th>days_since_last_transaction</th>\n",
       "      <th>current_balance</th>\n",
       "      <th>previous_month_end_balance</th>\n",
       "      <th>average_monthly_balance_prevQ</th>\n",
       "      <th>average_monthly_balance_prevQ2</th>\n",
       "      <th>current_month_credit</th>\n",
       "      <th>previous_month_credit</th>\n",
       "      <th>current_month_debit</th>\n",
       "      <th>previous_month_debit</th>\n",
       "      <th>current_month_balance</th>\n",
       "      <th>previous_month_balance</th>\n",
       "    </tr>\n",
       "  </thead>\n",
       "  <tbody>\n",
       "    <tr>\n",
       "      <td>17560</td>\n",
       "      <td>18737</td>\n",
       "      <td>1570</td>\n",
       "      <td>90</td>\n",
       "      <td>0</td>\n",
       "      <td>0</td>\n",
       "      <td>0</td>\n",
       "      <td>1322</td>\n",
       "      <td>2</td>\n",
       "      <td>176</td>\n",
       "      <td>12.0</td>\n",
       "      <td>29522.16</td>\n",
       "      <td>898976.76</td>\n",
       "      <td>758715.17</td>\n",
       "      <td>856596.51</td>\n",
       "      <td>320309.94</td>\n",
       "      <td>0.50</td>\n",
       "      <td>0.50</td>\n",
       "      <td>0.50</td>\n",
       "      <td>478192.00</td>\n",
       "      <td>898976.76</td>\n",
       "    </tr>\n",
       "    <tr>\n",
       "      <td>3711</td>\n",
       "      <td>3957</td>\n",
       "      <td>285</td>\n",
       "      <td>54</td>\n",
       "      <td>0</td>\n",
       "      <td>2</td>\n",
       "      <td>1</td>\n",
       "      <td>905</td>\n",
       "      <td>2</td>\n",
       "      <td>1421</td>\n",
       "      <td>13.0</td>\n",
       "      <td>31833.45</td>\n",
       "      <td>332504.88</td>\n",
       "      <td>319030.57</td>\n",
       "      <td>11525.29</td>\n",
       "      <td>17143.47</td>\n",
       "      <td>287032.23</td>\n",
       "      <td>317814.90</td>\n",
       "      <td>296429.19</td>\n",
       "      <td>315194.04</td>\n",
       "      <td>363272.49</td>\n",
       "    </tr>\n",
       "    <tr>\n",
       "      <td>27051</td>\n",
       "      <td>28884</td>\n",
       "      <td>3344</td>\n",
       "      <td>37</td>\n",
       "      <td>0</td>\n",
       "      <td>4</td>\n",
       "      <td>0</td>\n",
       "      <td>1020</td>\n",
       "      <td>1</td>\n",
       "      <td>15</td>\n",
       "      <td>102.0</td>\n",
       "      <td>319408.70</td>\n",
       "      <td>455803.54</td>\n",
       "      <td>418903.58</td>\n",
       "      <td>456361.44</td>\n",
       "      <td>0.17</td>\n",
       "      <td>0.17</td>\n",
       "      <td>136703.06</td>\n",
       "      <td>206.91</td>\n",
       "      <td>344101.86</td>\n",
       "      <td>455874.66</td>\n",
       "    </tr>\n",
       "    <tr>\n",
       "      <td>701</td>\n",
       "      <td>749</td>\n",
       "      <td>1153</td>\n",
       "      <td>90</td>\n",
       "      <td>0</td>\n",
       "      <td>0</td>\n",
       "      <td>0</td>\n",
       "      <td>1020</td>\n",
       "      <td>2</td>\n",
       "      <td>2255</td>\n",
       "      <td>35.0</td>\n",
       "      <td>307672.70</td>\n",
       "      <td>308291.63</td>\n",
       "      <td>307417.18</td>\n",
       "      <td>310121.23</td>\n",
       "      <td>0.61</td>\n",
       "      <td>172.39</td>\n",
       "      <td>0.61</td>\n",
       "      <td>179.51</td>\n",
       "      <td>308078.13</td>\n",
       "      <td>306390.07</td>\n",
       "    </tr>\n",
       "    <tr>\n",
       "      <td>5448</td>\n",
       "      <td>5800</td>\n",
       "      <td>1005</td>\n",
       "      <td>43</td>\n",
       "      <td>1</td>\n",
       "      <td>0</td>\n",
       "      <td>1</td>\n",
       "      <td>1096</td>\n",
       "      <td>1</td>\n",
       "      <td>1985</td>\n",
       "      <td>9.0</td>\n",
       "      <td>300621.32</td>\n",
       "      <td>300428.71</td>\n",
       "      <td>307288.13</td>\n",
       "      <td>227799.85</td>\n",
       "      <td>6841.80</td>\n",
       "      <td>2.16</td>\n",
       "      <td>6932.10</td>\n",
       "      <td>12923.86</td>\n",
       "      <td>303613.56</td>\n",
       "      <td>309652.99</td>\n",
       "    </tr>\n",
       "    <tr>\n",
       "      <td>12218</td>\n",
       "      <td>13047</td>\n",
       "      <td>3882</td>\n",
       "      <td>51</td>\n",
       "      <td>0</td>\n",
       "      <td>0</td>\n",
       "      <td>0</td>\n",
       "      <td>1020</td>\n",
       "      <td>1</td>\n",
       "      <td>60</td>\n",
       "      <td>7.0</td>\n",
       "      <td>18467.12</td>\n",
       "      <td>356602.22</td>\n",
       "      <td>170440.29</td>\n",
       "      <td>113738.06</td>\n",
       "      <td>1383300.84</td>\n",
       "      <td>1971436.45</td>\n",
       "      <td>242838.61</td>\n",
       "      <td>8394.94</td>\n",
       "      <td>131732.17</td>\n",
       "      <td>300160.62</td>\n",
       "    </tr>\n",
       "    <tr>\n",
       "      <td>8023</td>\n",
       "      <td>8550</td>\n",
       "      <td>196</td>\n",
       "      <td>90</td>\n",
       "      <td>0</td>\n",
       "      <td>0</td>\n",
       "      <td>0</td>\n",
       "      <td>623</td>\n",
       "      <td>1</td>\n",
       "      <td>42</td>\n",
       "      <td>4.0</td>\n",
       "      <td>179832.37</td>\n",
       "      <td>314682.02</td>\n",
       "      <td>92596.95</td>\n",
       "      <td>481.78</td>\n",
       "      <td>915151.36</td>\n",
       "      <td>0.20</td>\n",
       "      <td>1335714.49</td>\n",
       "      <td>100000.20</td>\n",
       "      <td>124326.08</td>\n",
       "      <td>153068.88</td>\n",
       "    </tr>\n",
       "    <tr>\n",
       "      <td>12132</td>\n",
       "      <td>12952</td>\n",
       "      <td>447</td>\n",
       "      <td>68</td>\n",
       "      <td>1</td>\n",
       "      <td>0</td>\n",
       "      <td>3</td>\n",
       "      <td>1020</td>\n",
       "      <td>1</td>\n",
       "      <td>80</td>\n",
       "      <td>27.0</td>\n",
       "      <td>232895.43</td>\n",
       "      <td>565069.06</td>\n",
       "      <td>206930.92</td>\n",
       "      <td>12836.59</td>\n",
       "      <td>27929.01</td>\n",
       "      <td>555100.44</td>\n",
       "      <td>288674.07</td>\n",
       "      <td>0.44</td>\n",
       "      <td>311693.80</td>\n",
       "      <td>299129.89</td>\n",
       "    </tr>\n",
       "  </tbody>\n",
       "</table>\n",
       "</div>"
      ],
      "text/plain": [
       "       customer_id  vintage  age  gender  dependents  occupation  city  \\\n",
       "17560        18737     1570   90       0           0           0  1322   \n",
       "3711          3957      285   54       0           2           1   905   \n",
       "27051        28884     3344   37       0           4           0  1020   \n",
       "701            749     1153   90       0           0           0  1020   \n",
       "5448          5800     1005   43       1           0           1  1096   \n",
       "12218        13047     3882   51       0           0           0  1020   \n",
       "8023          8550      196   90       0           0           0   623   \n",
       "12132        12952      447   68       1           0           3  1020   \n",
       "\n",
       "       customer_nw_category  branch_code  days_since_last_transaction  \\\n",
       "17560                     2          176                         12.0   \n",
       "3711                      2         1421                         13.0   \n",
       "27051                     1           15                        102.0   \n",
       "701                       2         2255                         35.0   \n",
       "5448                      1         1985                          9.0   \n",
       "12218                     1           60                          7.0   \n",
       "8023                      1           42                          4.0   \n",
       "12132                     1           80                         27.0   \n",
       "\n",
       "       current_balance  previous_month_end_balance  \\\n",
       "17560         29522.16                   898976.76   \n",
       "3711          31833.45                   332504.88   \n",
       "27051        319408.70                   455803.54   \n",
       "701          307672.70                   308291.63   \n",
       "5448         300621.32                   300428.71   \n",
       "12218         18467.12                   356602.22   \n",
       "8023         179832.37                   314682.02   \n",
       "12132        232895.43                   565069.06   \n",
       "\n",
       "       average_monthly_balance_prevQ  average_monthly_balance_prevQ2  \\\n",
       "17560                      758715.17                       856596.51   \n",
       "3711                       319030.57                        11525.29   \n",
       "27051                      418903.58                       456361.44   \n",
       "701                        307417.18                       310121.23   \n",
       "5448                       307288.13                       227799.85   \n",
       "12218                      170440.29                       113738.06   \n",
       "8023                        92596.95                          481.78   \n",
       "12132                      206930.92                        12836.59   \n",
       "\n",
       "       current_month_credit  previous_month_credit  current_month_debit  \\\n",
       "17560             320309.94                   0.50                 0.50   \n",
       "3711               17143.47              287032.23            317814.90   \n",
       "27051                  0.17                   0.17            136703.06   \n",
       "701                    0.61                 172.39                 0.61   \n",
       "5448                6841.80                   2.16              6932.10   \n",
       "12218            1383300.84             1971436.45            242838.61   \n",
       "8023              915151.36                   0.20           1335714.49   \n",
       "12132              27929.01              555100.44            288674.07   \n",
       "\n",
       "       previous_month_debit  current_month_balance  previous_month_balance  \n",
       "17560                  0.50              478192.00               898976.76  \n",
       "3711              296429.19              315194.04               363272.49  \n",
       "27051                206.91              344101.86               455874.66  \n",
       "701                  179.51              308078.13               306390.07  \n",
       "5448               12923.86              303613.56               309652.99  \n",
       "12218               8394.94              131732.17               300160.62  \n",
       "8023              100000.20              124326.08               153068.88  \n",
       "12132                  0.44              311693.80               299129.89  "
      ]
     },
     "execution_count": 63,
     "metadata": {},
     "output_type": "execute_result"
    }
   ],
   "source": [
    "train_x[train_x['previous_month_end_balance']>=300000]"
   ]
  },
  {
   "cell_type": "code",
   "execution_count": 64,
   "metadata": {},
   "outputs": [],
   "source": [
    "train_x=train_x[train_x['current_balance']<=300000]"
   ]
  },
  {
   "cell_type": "code",
   "execution_count": 65,
   "metadata": {},
   "outputs": [
    {
     "data": {
      "text/plain": [
       "<matplotlib.axes._subplots.AxesSubplot at 0x16a0b900608>"
      ]
     },
     "execution_count": 65,
     "metadata": {},
     "output_type": "execute_result"
    },
    {
     "data": {
      "image/png": "[encoded data removed]",
      "text/plain": [
       "<Figure size 432x288 with 1 Axes>"
      ]
     },
     "metadata": {
      "needs_background": "light"
     },
     "output_type": "display_data"
    }
   ],
   "source": [
    "train_x.plot.scatter('age','current_balance')"
   ]
  },
  {
   "cell_type": "code",
   "execution_count": 66,
   "metadata": {
    "scrolled": true
   },
   "outputs": [
    {
     "data": {
      "text/plain": [
       "<matplotlib.axes._subplots.AxesSubplot at 0x16a0b78b708>"
      ]
     },
     "execution_count": 66,
     "metadata": {},
     "output_type": "execute_result"
    },
    {
     "data": {
      "image/png": "[encoded data removed]",
      "text/plain": [
       "<Figure size 432x288 with 1 Axes>"
      ]
     },
     "metadata": {
      "needs_background": "light"
     },
     "output_type": "display_data"
    }
   ],
   "source": [
    "train_x.plot.scatter('age','average_monthly_balance_prevQ')"
   ]
  },
  {
   "cell_type": "markdown",
   "metadata": {},
   "source": [
    "## Removing Outlier from average_monthly_balance_prevQ"
   ]
  },
  {
   "cell_type": "code",
   "execution_count": 67,
   "metadata": {},
   "outputs": [
    {
     "data": {
      "text/html": [
       "<div>\n",
       "<style scoped>\n",
       "    .dataframe tbody tr th:only-of-type {\n",
       "        vertical-align: middle;\n",
       "    }\n",
       "\n",
       "    .dataframe tbody tr th {\n",
       "        vertical-align: top;\n",
       "    }\n",
       "\n",
       "    .dataframe thead th {\n",
       "        text-align: right;\n",
       "    }\n",
       "</style>\n",
       "<table border=\"1\" class=\"dataframe\">\n",
       "  <thead>\n",
       "    <tr style=\"text-align: right;\">\n",
       "      <th></th>\n",
       "      <th>customer_id</th>\n",
       "      <th>vintage</th>\n",
       "      <th>age</th>\n",
       "      <th>gender</th>\n",
       "      <th>dependents</th>\n",
       "      <th>occupation</th>\n",
       "      <th>city</th>\n",
       "      <th>customer_nw_category</th>\n",
       "      <th>branch_code</th>\n",
       "      <th>days_since_last_transaction</th>\n",
       "      <th>current_balance</th>\n",
       "      <th>previous_month_end_balance</th>\n",
       "      <th>average_monthly_balance_prevQ</th>\n",
       "      <th>average_monthly_balance_prevQ2</th>\n",
       "      <th>current_month_credit</th>\n",
       "      <th>previous_month_credit</th>\n",
       "      <th>current_month_debit</th>\n",
       "      <th>previous_month_debit</th>\n",
       "      <th>current_month_balance</th>\n",
       "      <th>previous_month_balance</th>\n",
       "    </tr>\n",
       "  </thead>\n",
       "  <tbody>\n",
       "    <tr>\n",
       "      <td>17560</td>\n",
       "      <td>18737</td>\n",
       "      <td>1570</td>\n",
       "      <td>90</td>\n",
       "      <td>0</td>\n",
       "      <td>0</td>\n",
       "      <td>0</td>\n",
       "      <td>1322</td>\n",
       "      <td>2</td>\n",
       "      <td>176</td>\n",
       "      <td>12.0</td>\n",
       "      <td>29522.16</td>\n",
       "      <td>898976.76</td>\n",
       "      <td>758715.17</td>\n",
       "      <td>856596.51</td>\n",
       "      <td>320309.94</td>\n",
       "      <td>0.50</td>\n",
       "      <td>0.50</td>\n",
       "      <td>0.50</td>\n",
       "      <td>478192.00</td>\n",
       "      <td>898976.76</td>\n",
       "    </tr>\n",
       "    <tr>\n",
       "      <td>6120</td>\n",
       "      <td>6518</td>\n",
       "      <td>1103</td>\n",
       "      <td>90</td>\n",
       "      <td>0</td>\n",
       "      <td>0</td>\n",
       "      <td>0</td>\n",
       "      <td>409</td>\n",
       "      <td>2</td>\n",
       "      <td>588</td>\n",
       "      <td>11.0</td>\n",
       "      <td>99510.66</td>\n",
       "      <td>243626.01</td>\n",
       "      <td>490044.03</td>\n",
       "      <td>335042.86</td>\n",
       "      <td>995241.38</td>\n",
       "      <td>216939.28</td>\n",
       "      <td>1110922.50</td>\n",
       "      <td>1012877.80</td>\n",
       "      <td>392962.66</td>\n",
       "      <td>618549.76</td>\n",
       "    </tr>\n",
       "    <tr>\n",
       "      <td>3711</td>\n",
       "      <td>3957</td>\n",
       "      <td>285</td>\n",
       "      <td>54</td>\n",
       "      <td>0</td>\n",
       "      <td>2</td>\n",
       "      <td>1</td>\n",
       "      <td>905</td>\n",
       "      <td>2</td>\n",
       "      <td>1421</td>\n",
       "      <td>13.0</td>\n",
       "      <td>31833.45</td>\n",
       "      <td>332504.88</td>\n",
       "      <td>319030.57</td>\n",
       "      <td>11525.29</td>\n",
       "      <td>17143.47</td>\n",
       "      <td>287032.23</td>\n",
       "      <td>317814.90</td>\n",
       "      <td>296429.19</td>\n",
       "      <td>315194.04</td>\n",
       "      <td>363272.49</td>\n",
       "    </tr>\n",
       "    <tr>\n",
       "      <td>2428</td>\n",
       "      <td>2596</td>\n",
       "      <td>1379</td>\n",
       "      <td>76</td>\n",
       "      <td>1</td>\n",
       "      <td>0</td>\n",
       "      <td>0</td>\n",
       "      <td>409</td>\n",
       "      <td>1</td>\n",
       "      <td>336</td>\n",
       "      <td>27.0</td>\n",
       "      <td>285560.79</td>\n",
       "      <td>283180.88</td>\n",
       "      <td>287430.99</td>\n",
       "      <td>98006.64</td>\n",
       "      <td>1786.23</td>\n",
       "      <td>1725.27</td>\n",
       "      <td>26.99</td>\n",
       "      <td>7261.23</td>\n",
       "      <td>285443.95</td>\n",
       "      <td>289522.70</td>\n",
       "    </tr>\n",
       "    <tr>\n",
       "      <td>21502</td>\n",
       "      <td>22935</td>\n",
       "      <td>938</td>\n",
       "      <td>90</td>\n",
       "      <td>0</td>\n",
       "      <td>0</td>\n",
       "      <td>0</td>\n",
       "      <td>229</td>\n",
       "      <td>1</td>\n",
       "      <td>2297</td>\n",
       "      <td>35.0</td>\n",
       "      <td>244297.20</td>\n",
       "      <td>259163.97</td>\n",
       "      <td>252037.31</td>\n",
       "      <td>272571.69</td>\n",
       "      <td>0.06</td>\n",
       "      <td>35714.34</td>\n",
       "      <td>14866.83</td>\n",
       "      <td>23098.93</td>\n",
       "      <td>248791.16</td>\n",
       "      <td>242809.19</td>\n",
       "    </tr>\n",
       "    <tr>\n",
       "      <td>9264</td>\n",
       "      <td>9882</td>\n",
       "      <td>5203</td>\n",
       "      <td>46</td>\n",
       "      <td>0</td>\n",
       "      <td>0</td>\n",
       "      <td>0</td>\n",
       "      <td>169</td>\n",
       "      <td>1</td>\n",
       "      <td>1711</td>\n",
       "      <td>91.0</td>\n",
       "      <td>63991.11</td>\n",
       "      <td>292848.26</td>\n",
       "      <td>242295.55</td>\n",
       "      <td>148959.54</td>\n",
       "      <td>0.33</td>\n",
       "      <td>0.33</td>\n",
       "      <td>300286.04</td>\n",
       "      <td>0.33</td>\n",
       "      <td>130434.46</td>\n",
       "      <td>292848.26</td>\n",
       "    </tr>\n",
       "    <tr>\n",
       "      <td>7787</td>\n",
       "      <td>8295</td>\n",
       "      <td>2895</td>\n",
       "      <td>51</td>\n",
       "      <td>0</td>\n",
       "      <td>0</td>\n",
       "      <td>0</td>\n",
       "      <td>1232</td>\n",
       "      <td>1</td>\n",
       "      <td>7</td>\n",
       "      <td>4.0</td>\n",
       "      <td>164802.00</td>\n",
       "      <td>206014.78</td>\n",
       "      <td>284779.02</td>\n",
       "      <td>323182.68</td>\n",
       "      <td>1476976.45</td>\n",
       "      <td>2361808.29</td>\n",
       "      <td>824573.99</td>\n",
       "      <td>1159958.76</td>\n",
       "      <td>263497.14</td>\n",
       "      <td>383897.54</td>\n",
       "    </tr>\n",
       "  </tbody>\n",
       "</table>\n",
       "</div>"
      ],
      "text/plain": [
       "       customer_id  vintage  age  gender  dependents  occupation  city  \\\n",
       "17560        18737     1570   90       0           0           0  1322   \n",
       "6120          6518     1103   90       0           0           0   409   \n",
       "3711          3957      285   54       0           2           1   905   \n",
       "2428          2596     1379   76       1           0           0   409   \n",
       "21502        22935      938   90       0           0           0   229   \n",
       "9264          9882     5203   46       0           0           0   169   \n",
       "7787          8295     2895   51       0           0           0  1232   \n",
       "\n",
       "       customer_nw_category  branch_code  days_since_last_transaction  \\\n",
       "17560                     2          176                         12.0   \n",
       "6120                      2          588                         11.0   \n",
       "3711                      2         1421                         13.0   \n",
       "2428                      1          336                         27.0   \n",
       "21502                     1         2297                         35.0   \n",
       "9264                      1         1711                         91.0   \n",
       "7787                      1            7                          4.0   \n",
       "\n",
       "       current_balance  previous_month_end_balance  \\\n",
       "17560         29522.16                   898976.76   \n",
       "6120          99510.66                   243626.01   \n",
       "3711          31833.45                   332504.88   \n",
       "2428         285560.79                   283180.88   \n",
       "21502        244297.20                   259163.97   \n",
       "9264          63991.11                   292848.26   \n",
       "7787         164802.00                   206014.78   \n",
       "\n",
       "       average_monthly_balance_prevQ  average_monthly_balance_prevQ2  \\\n",
       "17560                      758715.17                       856596.51   \n",
       "6120                       490044.03                       335042.86   \n",
       "3711                       319030.57                        11525.29   \n",
       "2428                       287430.99                        98006.64   \n",
       "21502                      252037.31                       272571.69   \n",
       "9264                       242295.55                       148959.54   \n",
       "7787                       284779.02                       323182.68   \n",
       "\n",
       "       current_month_credit  previous_month_credit  current_month_debit  \\\n",
       "17560             320309.94                   0.50                 0.50   \n",
       "6120              995241.38              216939.28           1110922.50   \n",
       "3711               17143.47              287032.23            317814.90   \n",
       "2428                1786.23                1725.27                26.99   \n",
       "21502                  0.06               35714.34             14866.83   \n",
       "9264                   0.33                   0.33            300286.04   \n",
       "7787             1476976.45             2361808.29            824573.99   \n",
       "\n",
       "       previous_month_debit  current_month_balance  previous_month_balance  \n",
       "17560                  0.50              478192.00               898976.76  \n",
       "6120             1012877.80              392962.66               618549.76  \n",
       "3711              296429.19              315194.04               363272.49  \n",
       "2428                7261.23              285443.95               289522.70  \n",
       "21502              23098.93              248791.16               242809.19  \n",
       "9264                   0.33              130434.46               292848.26  \n",
       "7787             1159958.76              263497.14               383897.54  "
      ]
     },
     "execution_count": 67,
     "metadata": {},
     "output_type": "execute_result"
    }
   ],
   "source": [
    "train_x[train_x['average_monthly_balance_prevQ']>=240000]"
   ]
  },
  {
   "cell_type": "code",
   "execution_count": 68,
   "metadata": {},
   "outputs": [],
   "source": [
    "train_x=train_x[train_x['average_monthly_balance_prevQ']<=240000]"
   ]
  },
  {
   "cell_type": "code",
   "execution_count": 69,
   "metadata": {},
   "outputs": [
    {
     "data": {
      "text/plain": [
       "<matplotlib.axes._subplots.AxesSubplot at 0x16a0b7fef88>"
      ]
     },
     "execution_count": 69,
     "metadata": {},
     "output_type": "execute_result"
    },
    {
     "data": {
      "image/png": "[encoded data removed]",
      "text/plain": [
       "<Figure size 432x288 with 1 Axes>"
      ]
     },
     "metadata": {
      "needs_background": "light"
     },
     "output_type": "display_data"
    }
   ],
   "source": [
    "train_x.plot.scatter('age','average_monthly_balance_prevQ')"
   ]
  },
  {
   "cell_type": "code",
   "execution_count": 70,
   "metadata": {},
   "outputs": [
    {
     "data": {
      "text/plain": [
       "<matplotlib.axes._subplots.AxesSubplot at 0x16a0b84ecc8>"
      ]
     },
     "execution_count": 70,
     "metadata": {},
     "output_type": "execute_result"
    },
    {
     "data": {
      "image/png": "[encoded data removed]",
      "text/plain": [
       "<Figure size 432x288 with 1 Axes>"
      ]
     },
     "metadata": {
      "needs_background": "light"
     },
     "output_type": "display_data"
    }
   ],
   "source": [
    "train_x.plot.scatter('age','average_monthly_balance_prevQ2')"
   ]
  },
  {
   "cell_type": "markdown",
   "metadata": {},
   "source": [
    "## Removing Outlier from average_monthly_balance_prevQ2"
   ]
  },
  {
   "cell_type": "code",
   "execution_count": 71,
   "metadata": {},
   "outputs": [
    {
     "data": {
      "text/html": [
       "<div>\n",
       "<style scoped>\n",
       "    .dataframe tbody tr th:only-of-type {\n",
       "        vertical-align: middle;\n",
       "    }\n",
       "\n",
       "    .dataframe tbody tr th {\n",
       "        vertical-align: top;\n",
       "    }\n",
       "\n",
       "    .dataframe thead th {\n",
       "        text-align: right;\n",
       "    }\n",
       "</style>\n",
       "<table border=\"1\" class=\"dataframe\">\n",
       "  <thead>\n",
       "    <tr style=\"text-align: right;\">\n",
       "      <th></th>\n",
       "      <th>customer_id</th>\n",
       "      <th>vintage</th>\n",
       "      <th>age</th>\n",
       "      <th>gender</th>\n",
       "      <th>dependents</th>\n",
       "      <th>occupation</th>\n",
       "      <th>city</th>\n",
       "      <th>customer_nw_category</th>\n",
       "      <th>branch_code</th>\n",
       "      <th>days_since_last_transaction</th>\n",
       "      <th>current_balance</th>\n",
       "      <th>previous_month_end_balance</th>\n",
       "      <th>average_monthly_balance_prevQ</th>\n",
       "      <th>average_monthly_balance_prevQ2</th>\n",
       "      <th>current_month_credit</th>\n",
       "      <th>previous_month_credit</th>\n",
       "      <th>current_month_debit</th>\n",
       "      <th>previous_month_debit</th>\n",
       "      <th>current_month_balance</th>\n",
       "      <th>previous_month_balance</th>\n",
       "    </tr>\n",
       "  </thead>\n",
       "  <tbody>\n",
       "    <tr>\n",
       "      <td>21214</td>\n",
       "      <td>22629</td>\n",
       "      <td>5250</td>\n",
       "      <td>68</td>\n",
       "      <td>0</td>\n",
       "      <td>1</td>\n",
       "      <td>1</td>\n",
       "      <td>409</td>\n",
       "      <td>2</td>\n",
       "      <td>46</td>\n",
       "      <td>4.0</td>\n",
       "      <td>684.59</td>\n",
       "      <td>1156.09</td>\n",
       "      <td>71188.74</td>\n",
       "      <td>749638.99</td>\n",
       "      <td>16314.36</td>\n",
       "      <td>6500.07</td>\n",
       "      <td>16785.86</td>\n",
       "      <td>6443.0</td>\n",
       "      <td>684.59</td>\n",
       "      <td>1509.32</td>\n",
       "    </tr>\n",
       "  </tbody>\n",
       "</table>\n",
       "</div>"
      ],
      "text/plain": [
       "       customer_id  vintage  age  gender  dependents  occupation  city  \\\n",
       "21214        22629     5250   68       0           1           1   409   \n",
       "\n",
       "       customer_nw_category  branch_code  days_since_last_transaction  \\\n",
       "21214                     2           46                          4.0   \n",
       "\n",
       "       current_balance  previous_month_end_balance  \\\n",
       "21214           684.59                     1156.09   \n",
       "\n",
       "       average_monthly_balance_prevQ  average_monthly_balance_prevQ2  \\\n",
       "21214                       71188.74                       749638.99   \n",
       "\n",
       "       current_month_credit  previous_month_credit  current_month_debit  \\\n",
       "21214              16314.36                6500.07             16785.86   \n",
       "\n",
       "       previous_month_debit  current_month_balance  previous_month_balance  \n",
       "21214                6443.0                 684.59                 1509.32  "
      ]
     },
     "execution_count": 71,
     "metadata": {},
     "output_type": "execute_result"
    }
   ],
   "source": [
    "train_x[train_x['average_monthly_balance_prevQ2']>=400000]"
   ]
  },
  {
   "cell_type": "code",
   "execution_count": 72,
   "metadata": {},
   "outputs": [],
   "source": [
    "train_x=train_x[train_x['average_monthly_balance_prevQ2']<=400000]"
   ]
  },
  {
   "cell_type": "code",
   "execution_count": 73,
   "metadata": {},
   "outputs": [
    {
     "data": {
      "text/plain": [
       "<matplotlib.axes._subplots.AxesSubplot at 0x16a054b9388>"
      ]
     },
     "execution_count": 73,
     "metadata": {},
     "output_type": "execute_result"
    },
    {
     "data": {
      "image/png": "[encoded data removed]",
      "text/plain": [
       "<Figure size 432x288 with 1 Axes>"
      ]
     },
     "metadata": {
      "needs_background": "light"
     },
     "output_type": "display_data"
    }
   ],
   "source": [
    "train_x.plot.scatter('age','average_monthly_balance_prevQ')"
   ]
  },
  {
   "cell_type": "code",
   "execution_count": 74,
   "metadata": {
    "scrolled": true
   },
   "outputs": [
    {
     "data": {
      "text/plain": [
       "<matplotlib.axes._subplots.AxesSubplot at 0x16a08497248>"
      ]
     },
     "execution_count": 74,
     "metadata": {},
     "output_type": "execute_result"
    },
    {
     "data": {
      "image/png": "[encoded data removed]",
      "text/plain": [
       "<Figure size 432x288 with 1 Axes>"
      ]
     },
     "metadata": {
      "needs_background": "light"
     },
     "output_type": "display_data"
    }
   ],
   "source": [
    "train_x.plot.scatter('age','current_month_credit')"
   ]
  },
  {
   "cell_type": "markdown",
   "metadata": {},
   "source": [
    "## Removing Outlier from current_month_credit"
   ]
  },
  {
   "cell_type": "code",
   "execution_count": 75,
   "metadata": {},
   "outputs": [
    {
     "data": {
      "text/html": [
       "<div>\n",
       "<style scoped>\n",
       "    .dataframe tbody tr th:only-of-type {\n",
       "        vertical-align: middle;\n",
       "    }\n",
       "\n",
       "    .dataframe tbody tr th {\n",
       "        vertical-align: top;\n",
       "    }\n",
       "\n",
       "    .dataframe thead th {\n",
       "        text-align: right;\n",
       "    }\n",
       "</style>\n",
       "<table border=\"1\" class=\"dataframe\">\n",
       "  <thead>\n",
       "    <tr style=\"text-align: right;\">\n",
       "      <th></th>\n",
       "      <th>customer_id</th>\n",
       "      <th>vintage</th>\n",
       "      <th>age</th>\n",
       "      <th>gender</th>\n",
       "      <th>dependents</th>\n",
       "      <th>occupation</th>\n",
       "      <th>city</th>\n",
       "      <th>customer_nw_category</th>\n",
       "      <th>branch_code</th>\n",
       "      <th>days_since_last_transaction</th>\n",
       "      <th>current_balance</th>\n",
       "      <th>previous_month_end_balance</th>\n",
       "      <th>average_monthly_balance_prevQ</th>\n",
       "      <th>average_monthly_balance_prevQ2</th>\n",
       "      <th>current_month_credit</th>\n",
       "      <th>previous_month_credit</th>\n",
       "      <th>current_month_debit</th>\n",
       "      <th>previous_month_debit</th>\n",
       "      <th>current_month_balance</th>\n",
       "      <th>previous_month_balance</th>\n",
       "    </tr>\n",
       "  </thead>\n",
       "  <tbody>\n",
       "    <tr>\n",
       "      <td>2078</td>\n",
       "      <td>2223</td>\n",
       "      <td>2260</td>\n",
       "      <td>90</td>\n",
       "      <td>0</td>\n",
       "      <td>0</td>\n",
       "      <td>0</td>\n",
       "      <td>224</td>\n",
       "      <td>1</td>\n",
       "      <td>1687</td>\n",
       "      <td>0.0</td>\n",
       "      <td>53622.86</td>\n",
       "      <td>69194.28</td>\n",
       "      <td>57750.62</td>\n",
       "      <td>105927.68</td>\n",
       "      <td>634428.70</td>\n",
       "      <td>566428.70</td>\n",
       "      <td>650000.13</td>\n",
       "      <td>557142.99</td>\n",
       "      <td>50278.03</td>\n",
       "      <td>69148.20</td>\n",
       "    </tr>\n",
       "    <tr>\n",
       "      <td>5833</td>\n",
       "      <td>6214</td>\n",
       "      <td>3024</td>\n",
       "      <td>55</td>\n",
       "      <td>0</td>\n",
       "      <td>0</td>\n",
       "      <td>0</td>\n",
       "      <td>409</td>\n",
       "      <td>2</td>\n",
       "      <td>144</td>\n",
       "      <td>0.0</td>\n",
       "      <td>185778.65</td>\n",
       "      <td>664.42</td>\n",
       "      <td>72796.89</td>\n",
       "      <td>5694.29</td>\n",
       "      <td>447036.10</td>\n",
       "      <td>3822.09</td>\n",
       "      <td>262286.37</td>\n",
       "      <td>8369.91</td>\n",
       "      <td>211231.15</td>\n",
       "      <td>2540.11</td>\n",
       "    </tr>\n",
       "    <tr>\n",
       "      <td>9049</td>\n",
       "      <td>9654</td>\n",
       "      <td>4098</td>\n",
       "      <td>55</td>\n",
       "      <td>0</td>\n",
       "      <td>2</td>\n",
       "      <td>0</td>\n",
       "      <td>1020</td>\n",
       "      <td>2</td>\n",
       "      <td>419</td>\n",
       "      <td>4.0</td>\n",
       "      <td>0.65</td>\n",
       "      <td>92857.80</td>\n",
       "      <td>12479.89</td>\n",
       "      <td>17050.53</td>\n",
       "      <td>420011.93</td>\n",
       "      <td>467683.27</td>\n",
       "      <td>535854.00</td>\n",
       "      <td>531227.99</td>\n",
       "      <td>4220.03</td>\n",
       "      <td>16283.66</td>\n",
       "    </tr>\n",
       "    <tr>\n",
       "      <td>12826</td>\n",
       "      <td>13697</td>\n",
       "      <td>6809</td>\n",
       "      <td>59</td>\n",
       "      <td>0</td>\n",
       "      <td>0</td>\n",
       "      <td>1</td>\n",
       "      <td>1020</td>\n",
       "      <td>1</td>\n",
       "      <td>240</td>\n",
       "      <td>0.0</td>\n",
       "      <td>231195.30</td>\n",
       "      <td>30468.91</td>\n",
       "      <td>36449.78</td>\n",
       "      <td>38978.66</td>\n",
       "      <td>468086.23</td>\n",
       "      <td>26328.58</td>\n",
       "      <td>73819.76</td>\n",
       "      <td>96212.01</td>\n",
       "      <td>29462.87</td>\n",
       "      <td>63384.74</td>\n",
       "    </tr>\n",
       "    <tr>\n",
       "      <td>24095</td>\n",
       "      <td>25712</td>\n",
       "      <td>1192</td>\n",
       "      <td>90</td>\n",
       "      <td>0</td>\n",
       "      <td>0</td>\n",
       "      <td>3</td>\n",
       "      <td>1020</td>\n",
       "      <td>2</td>\n",
       "      <td>5</td>\n",
       "      <td>18.0</td>\n",
       "      <td>46.50</td>\n",
       "      <td>24270.54</td>\n",
       "      <td>11728.39</td>\n",
       "      <td>111617.41</td>\n",
       "      <td>12269845.39</td>\n",
       "      <td>0.21</td>\n",
       "      <td>7637857.36</td>\n",
       "      <td>0.21</td>\n",
       "      <td>8399.62</td>\n",
       "      <td>24270.54</td>\n",
       "    </tr>\n",
       "    <tr>\n",
       "      <td>9493</td>\n",
       "      <td>10131</td>\n",
       "      <td>2867</td>\n",
       "      <td>59</td>\n",
       "      <td>0</td>\n",
       "      <td>2</td>\n",
       "      <td>0</td>\n",
       "      <td>1020</td>\n",
       "      <td>1</td>\n",
       "      <td>410</td>\n",
       "      <td>0.0</td>\n",
       "      <td>28600.51</td>\n",
       "      <td>34005.37</td>\n",
       "      <td>12074.81</td>\n",
       "      <td>7655.22</td>\n",
       "      <td>486187.64</td>\n",
       "      <td>1447086.21</td>\n",
       "      <td>457836.21</td>\n",
       "      <td>1363197.64</td>\n",
       "      <td>13812.27</td>\n",
       "      <td>20309.54</td>\n",
       "    </tr>\n",
       "    <tr>\n",
       "      <td>12218</td>\n",
       "      <td>13047</td>\n",
       "      <td>3882</td>\n",
       "      <td>51</td>\n",
       "      <td>0</td>\n",
       "      <td>0</td>\n",
       "      <td>0</td>\n",
       "      <td>1020</td>\n",
       "      <td>1</td>\n",
       "      <td>60</td>\n",
       "      <td>7.0</td>\n",
       "      <td>18467.12</td>\n",
       "      <td>356602.22</td>\n",
       "      <td>170440.29</td>\n",
       "      <td>113738.06</td>\n",
       "      <td>1383300.84</td>\n",
       "      <td>1971436.45</td>\n",
       "      <td>242838.61</td>\n",
       "      <td>8394.94</td>\n",
       "      <td>131732.17</td>\n",
       "      <td>300160.62</td>\n",
       "    </tr>\n",
       "    <tr>\n",
       "      <td>3469</td>\n",
       "      <td>3693</td>\n",
       "      <td>2665</td>\n",
       "      <td>90</td>\n",
       "      <td>0</td>\n",
       "      <td>0</td>\n",
       "      <td>0</td>\n",
       "      <td>1020</td>\n",
       "      <td>2</td>\n",
       "      <td>84</td>\n",
       "      <td>14.0</td>\n",
       "      <td>32908.30</td>\n",
       "      <td>17863.44</td>\n",
       "      <td>72374.05</td>\n",
       "      <td>48859.71</td>\n",
       "      <td>444316.81</td>\n",
       "      <td>221760.10</td>\n",
       "      <td>429271.95</td>\n",
       "      <td>352566.20</td>\n",
       "      <td>78689.15</td>\n",
       "      <td>65385.07</td>\n",
       "    </tr>\n",
       "    <tr>\n",
       "      <td>8023</td>\n",
       "      <td>8550</td>\n",
       "      <td>196</td>\n",
       "      <td>90</td>\n",
       "      <td>0</td>\n",
       "      <td>0</td>\n",
       "      <td>0</td>\n",
       "      <td>623</td>\n",
       "      <td>1</td>\n",
       "      <td>42</td>\n",
       "      <td>4.0</td>\n",
       "      <td>179832.37</td>\n",
       "      <td>314682.02</td>\n",
       "      <td>92596.95</td>\n",
       "      <td>481.78</td>\n",
       "      <td>915151.36</td>\n",
       "      <td>0.20</td>\n",
       "      <td>1335714.49</td>\n",
       "      <td>100000.20</td>\n",
       "      <td>124326.08</td>\n",
       "      <td>153068.88</td>\n",
       "    </tr>\n",
       "    <tr>\n",
       "      <td>13012</td>\n",
       "      <td>13895</td>\n",
       "      <td>2903</td>\n",
       "      <td>55</td>\n",
       "      <td>1</td>\n",
       "      <td>0</td>\n",
       "      <td>0</td>\n",
       "      <td>1534</td>\n",
       "      <td>2</td>\n",
       "      <td>63</td>\n",
       "      <td>11.0</td>\n",
       "      <td>23415.56</td>\n",
       "      <td>22919.79</td>\n",
       "      <td>22416.17</td>\n",
       "      <td>22092.02</td>\n",
       "      <td>1764285.97</td>\n",
       "      <td>71428.83</td>\n",
       "      <td>1764285.97</td>\n",
       "      <td>71428.83</td>\n",
       "      <td>23278.80</td>\n",
       "      <td>22617.63</td>\n",
       "    </tr>\n",
       "  </tbody>\n",
       "</table>\n",
       "</div>"
      ],
      "text/plain": [
       "       customer_id  vintage  age  gender  dependents  occupation  city  \\\n",
       "2078          2223     2260   90       0           0           0   224   \n",
       "5833          6214     3024   55       0           0           0   409   \n",
       "9049          9654     4098   55       0           2           0  1020   \n",
       "12826        13697     6809   59       0           0           1  1020   \n",
       "24095        25712     1192   90       0           0           3  1020   \n",
       "9493         10131     2867   59       0           2           0  1020   \n",
       "12218        13047     3882   51       0           0           0  1020   \n",
       "3469          3693     2665   90       0           0           0  1020   \n",
       "8023          8550      196   90       0           0           0   623   \n",
       "13012        13895     2903   55       1           0           0  1534   \n",
       "\n",
       "       customer_nw_category  branch_code  days_since_last_transaction  \\\n",
       "2078                      1         1687                          0.0   \n",
       "5833                      2          144                          0.0   \n",
       "9049                      2          419                          4.0   \n",
       "12826                     1          240                          0.0   \n",
       "24095                     2            5                         18.0   \n",
       "9493                      1          410                          0.0   \n",
       "12218                     1           60                          7.0   \n",
       "3469                      2           84                         14.0   \n",
       "8023                      1           42                          4.0   \n",
       "13012                     2           63                         11.0   \n",
       "\n",
       "       current_balance  previous_month_end_balance  \\\n",
       "2078          53622.86                    69194.28   \n",
       "5833         185778.65                      664.42   \n",
       "9049              0.65                    92857.80   \n",
       "12826        231195.30                    30468.91   \n",
       "24095            46.50                    24270.54   \n",
       "9493          28600.51                    34005.37   \n",
       "12218         18467.12                   356602.22   \n",
       "3469          32908.30                    17863.44   \n",
       "8023         179832.37                   314682.02   \n",
       "13012         23415.56                    22919.79   \n",
       "\n",
       "       average_monthly_balance_prevQ  average_monthly_balance_prevQ2  \\\n",
       "2078                        57750.62                       105927.68   \n",
       "5833                        72796.89                         5694.29   \n",
       "9049                        12479.89                        17050.53   \n",
       "12826                       36449.78                        38978.66   \n",
       "24095                       11728.39                       111617.41   \n",
       "9493                        12074.81                         7655.22   \n",
       "12218                      170440.29                       113738.06   \n",
       "3469                        72374.05                        48859.71   \n",
       "8023                        92596.95                          481.78   \n",
       "13012                       22416.17                        22092.02   \n",
       "\n",
       "       current_month_credit  previous_month_credit  current_month_debit  \\\n",
       "2078              634428.70              566428.70            650000.13   \n",
       "5833              447036.10                3822.09            262286.37   \n",
       "9049              420011.93              467683.27            535854.00   \n",
       "12826             468086.23               26328.58             73819.76   \n",
       "24095           12269845.39                   0.21           7637857.36   \n",
       "9493              486187.64             1447086.21            457836.21   \n",
       "12218            1383300.84             1971436.45            242838.61   \n",
       "3469              444316.81              221760.10            429271.95   \n",
       "8023              915151.36                   0.20           1335714.49   \n",
       "13012            1764285.97               71428.83           1764285.97   \n",
       "\n",
       "       previous_month_debit  current_month_balance  previous_month_balance  \n",
       "2078              557142.99               50278.03                69148.20  \n",
       "5833                8369.91              211231.15                 2540.11  \n",
       "9049              531227.99                4220.03                16283.66  \n",
       "12826              96212.01               29462.87                63384.74  \n",
       "24095                  0.21                8399.62                24270.54  \n",
       "9493             1363197.64               13812.27                20309.54  \n",
       "12218               8394.94              131732.17               300160.62  \n",
       "3469              352566.20               78689.15                65385.07  \n",
       "8023              100000.20              124326.08               153068.88  \n",
       "13012              71428.83               23278.80                22617.63  "
      ]
     },
     "execution_count": 75,
     "metadata": {},
     "output_type": "execute_result"
    }
   ],
   "source": [
    "train_x[train_x['current_month_credit']>=400000]"
   ]
  },
  {
   "cell_type": "code",
   "execution_count": 76,
   "metadata": {},
   "outputs": [],
   "source": [
    "train_x=train_x[train_x['current_month_credit']<=400000]"
   ]
  },
  {
   "cell_type": "code",
   "execution_count": 77,
   "metadata": {},
   "outputs": [
    {
     "data": {
      "text/plain": [
       "<matplotlib.axes._subplots.AxesSubplot at 0x16a08500708>"
      ]
     },
     "execution_count": 77,
     "metadata": {},
     "output_type": "execute_result"
    },
    {
     "data": {
      "image/png": "[encoded data removed]",
      "text/plain": [
       "<Figure size 432x288 with 1 Axes>"
      ]
     },
     "metadata": {
      "needs_background": "light"
     },
     "output_type": "display_data"
    }
   ],
   "source": [
    "train_x.plot.scatter('age','current_month_credit')"
   ]
  },
  {
   "cell_type": "code",
   "execution_count": 78,
   "metadata": {},
   "outputs": [
    {
     "data": {
      "text/plain": [
       "<matplotlib.axes._subplots.AxesSubplot at 0x16a08568088>"
      ]
     },
     "execution_count": 78,
     "metadata": {},
     "output_type": "execute_result"
    },
    {
     "data": {
      "image/png": "[encoded data removed]",
      "text/plain": [
       "<Figure size 432x288 with 1 Axes>"
      ]
     },
     "metadata": {
      "needs_background": "light"
     },
     "output_type": "display_data"
    }
   ],
   "source": [
    "train_x.plot.scatter('age','previous_month_credit')"
   ]
  },
  {
   "cell_type": "markdown",
   "metadata": {},
   "source": [
    "## Removing Outlier from previous_month_credit"
   ]
  },
  {
   "cell_type": "code",
   "execution_count": 79,
   "metadata": {},
   "outputs": [
    {
     "data": {
      "text/html": [
       "<div>\n",
       "<style scoped>\n",
       "    .dataframe tbody tr th:only-of-type {\n",
       "        vertical-align: middle;\n",
       "    }\n",
       "\n",
       "    .dataframe tbody tr th {\n",
       "        vertical-align: top;\n",
       "    }\n",
       "\n",
       "    .dataframe thead th {\n",
       "        text-align: right;\n",
       "    }\n",
       "</style>\n",
       "<table border=\"1\" class=\"dataframe\">\n",
       "  <thead>\n",
       "    <tr style=\"text-align: right;\">\n",
       "      <th></th>\n",
       "      <th>customer_id</th>\n",
       "      <th>vintage</th>\n",
       "      <th>age</th>\n",
       "      <th>gender</th>\n",
       "      <th>dependents</th>\n",
       "      <th>occupation</th>\n",
       "      <th>city</th>\n",
       "      <th>customer_nw_category</th>\n",
       "      <th>branch_code</th>\n",
       "      <th>days_since_last_transaction</th>\n",
       "      <th>current_balance</th>\n",
       "      <th>previous_month_end_balance</th>\n",
       "      <th>average_monthly_balance_prevQ</th>\n",
       "      <th>average_monthly_balance_prevQ2</th>\n",
       "      <th>current_month_credit</th>\n",
       "      <th>previous_month_credit</th>\n",
       "      <th>current_month_debit</th>\n",
       "      <th>previous_month_debit</th>\n",
       "      <th>current_month_balance</th>\n",
       "      <th>previous_month_balance</th>\n",
       "    </tr>\n",
       "  </thead>\n",
       "  <tbody>\n",
       "    <tr>\n",
       "      <td>7637</td>\n",
       "      <td>8134</td>\n",
       "      <td>3506</td>\n",
       "      <td>54</td>\n",
       "      <td>0</td>\n",
       "      <td>1</td>\n",
       "      <td>0</td>\n",
       "      <td>1020</td>\n",
       "      <td>2</td>\n",
       "      <td>60</td>\n",
       "      <td>26.0</td>\n",
       "      <td>202.51</td>\n",
       "      <td>276.10</td>\n",
       "      <td>1686.08</td>\n",
       "      <td>2582.02</td>\n",
       "      <td>786.03</td>\n",
       "      <td>825646.74</td>\n",
       "      <td>2135.65</td>\n",
       "      <td>775453.50</td>\n",
       "      <td>756.62</td>\n",
       "      <td>1387.05</td>\n",
       "    </tr>\n",
       "    <tr>\n",
       "      <td>21826</td>\n",
       "      <td>23281</td>\n",
       "      <td>3678</td>\n",
       "      <td>69</td>\n",
       "      <td>1</td>\n",
       "      <td>1</td>\n",
       "      <td>3</td>\n",
       "      <td>146</td>\n",
       "      <td>1</td>\n",
       "      <td>286</td>\n",
       "      <td>12.0</td>\n",
       "      <td>85403.63</td>\n",
       "      <td>95795.26</td>\n",
       "      <td>105174.63</td>\n",
       "      <td>72796.66</td>\n",
       "      <td>36219.12</td>\n",
       "      <td>339029.81</td>\n",
       "      <td>135919.77</td>\n",
       "      <td>160014.24</td>\n",
       "      <td>89512.06</td>\n",
       "      <td>115664.24</td>\n",
       "    </tr>\n",
       "    <tr>\n",
       "      <td>26602</td>\n",
       "      <td>28405</td>\n",
       "      <td>4002</td>\n",
       "      <td>47</td>\n",
       "      <td>0</td>\n",
       "      <td>0</td>\n",
       "      <td>0</td>\n",
       "      <td>834</td>\n",
       "      <td>1</td>\n",
       "      <td>14</td>\n",
       "      <td>12.0</td>\n",
       "      <td>5846.27</td>\n",
       "      <td>679.84</td>\n",
       "      <td>3667.28</td>\n",
       "      <td>50473.71</td>\n",
       "      <td>13712.29</td>\n",
       "      <td>355714.71</td>\n",
       "      <td>28545.86</td>\n",
       "      <td>13261.30</td>\n",
       "      <td>4536.84</td>\n",
       "      <td>1778.18</td>\n",
       "    </tr>\n",
       "    <tr>\n",
       "      <td>25256</td>\n",
       "      <td>26961</td>\n",
       "      <td>792</td>\n",
       "      <td>49</td>\n",
       "      <td>1</td>\n",
       "      <td>0</td>\n",
       "      <td>0</td>\n",
       "      <td>1020</td>\n",
       "      <td>1</td>\n",
       "      <td>16</td>\n",
       "      <td>54.0</td>\n",
       "      <td>22166.97</td>\n",
       "      <td>27063.75</td>\n",
       "      <td>30850.91</td>\n",
       "      <td>16657.72</td>\n",
       "      <td>0.26</td>\n",
       "      <td>500214.54</td>\n",
       "      <td>4897.04</td>\n",
       "      <td>771278.83</td>\n",
       "      <td>22842.38</td>\n",
       "      <td>39297.90</td>\n",
       "    </tr>\n",
       "    <tr>\n",
       "      <td>15220</td>\n",
       "      <td>16238</td>\n",
       "      <td>2497</td>\n",
       "      <td>66</td>\n",
       "      <td>0</td>\n",
       "      <td>2</td>\n",
       "      <td>0</td>\n",
       "      <td>334</td>\n",
       "      <td>2</td>\n",
       "      <td>1364</td>\n",
       "      <td>42.0</td>\n",
       "      <td>13036.16</td>\n",
       "      <td>23390.02</td>\n",
       "      <td>71787.88</td>\n",
       "      <td>16761.09</td>\n",
       "      <td>0.46</td>\n",
       "      <td>630389.61</td>\n",
       "      <td>10211.46</td>\n",
       "      <td>72710.22</td>\n",
       "      <td>17620.67</td>\n",
       "      <td>34236.20</td>\n",
       "    </tr>\n",
       "    <tr>\n",
       "      <td>21042</td>\n",
       "      <td>22451</td>\n",
       "      <td>2419</td>\n",
       "      <td>65</td>\n",
       "      <td>1</td>\n",
       "      <td>1</td>\n",
       "      <td>0</td>\n",
       "      <td>1020</td>\n",
       "      <td>1</td>\n",
       "      <td>5</td>\n",
       "      <td>17.0</td>\n",
       "      <td>111546.66</td>\n",
       "      <td>253478.87</td>\n",
       "      <td>183067.16</td>\n",
       "      <td>4154.40</td>\n",
       "      <td>49428.94</td>\n",
       "      <td>359000.37</td>\n",
       "      <td>198523.14</td>\n",
       "      <td>279987.47</td>\n",
       "      <td>136280.90</td>\n",
       "      <td>374790.09</td>\n",
       "    </tr>\n",
       "    <tr>\n",
       "      <td>12132</td>\n",
       "      <td>12952</td>\n",
       "      <td>447</td>\n",
       "      <td>68</td>\n",
       "      <td>1</td>\n",
       "      <td>0</td>\n",
       "      <td>3</td>\n",
       "      <td>1020</td>\n",
       "      <td>1</td>\n",
       "      <td>80</td>\n",
       "      <td>27.0</td>\n",
       "      <td>232895.43</td>\n",
       "      <td>565069.06</td>\n",
       "      <td>206930.92</td>\n",
       "      <td>12836.59</td>\n",
       "      <td>27929.01</td>\n",
       "      <td>555100.44</td>\n",
       "      <td>288674.07</td>\n",
       "      <td>0.44</td>\n",
       "      <td>311693.80</td>\n",
       "      <td>299129.89</td>\n",
       "    </tr>\n",
       "    <tr>\n",
       "      <td>16200</td>\n",
       "      <td>17287</td>\n",
       "      <td>5533</td>\n",
       "      <td>78</td>\n",
       "      <td>1</td>\n",
       "      <td>0</td>\n",
       "      <td>0</td>\n",
       "      <td>1020</td>\n",
       "      <td>1</td>\n",
       "      <td>47</td>\n",
       "      <td>7.0</td>\n",
       "      <td>4129.77</td>\n",
       "      <td>5834.90</td>\n",
       "      <td>25569.39</td>\n",
       "      <td>18758.63</td>\n",
       "      <td>1106.06</td>\n",
       "      <td>512924.02</td>\n",
       "      <td>2357.17</td>\n",
       "      <td>557242.89</td>\n",
       "      <td>5362.95</td>\n",
       "      <td>20473.77</td>\n",
       "    </tr>\n",
       "    <tr>\n",
       "      <td>24826</td>\n",
       "      <td>26494</td>\n",
       "      <td>2293</td>\n",
       "      <td>71</td>\n",
       "      <td>0</td>\n",
       "      <td>0</td>\n",
       "      <td>3</td>\n",
       "      <td>1020</td>\n",
       "      <td>2</td>\n",
       "      <td>239</td>\n",
       "      <td>12.0</td>\n",
       "      <td>33157.60</td>\n",
       "      <td>33188.03</td>\n",
       "      <td>57784.52</td>\n",
       "      <td>119764.64</td>\n",
       "      <td>36590.94</td>\n",
       "      <td>429852.25</td>\n",
       "      <td>945.16</td>\n",
       "      <td>395308.61</td>\n",
       "      <td>39267.67</td>\n",
       "      <td>65131.29</td>\n",
       "    </tr>\n",
       "    <tr>\n",
       "      <td>9915</td>\n",
       "      <td>10582</td>\n",
       "      <td>775</td>\n",
       "      <td>77</td>\n",
       "      <td>0</td>\n",
       "      <td>0</td>\n",
       "      <td>3</td>\n",
       "      <td>1126</td>\n",
       "      <td>2</td>\n",
       "      <td>2377</td>\n",
       "      <td>42.0</td>\n",
       "      <td>16605.47</td>\n",
       "      <td>16605.47</td>\n",
       "      <td>211955.47</td>\n",
       "      <td>27790.29</td>\n",
       "      <td>0.47</td>\n",
       "      <td>345357.61</td>\n",
       "      <td>0.47</td>\n",
       "      <td>457143.33</td>\n",
       "      <td>16605.47</td>\n",
       "      <td>138195.41</td>\n",
       "    </tr>\n",
       "  </tbody>\n",
       "</table>\n",
       "</div>"
      ],
      "text/plain": [
       "       customer_id  vintage  age  gender  dependents  occupation  city  \\\n",
       "7637          8134     3506   54       0           1           0  1020   \n",
       "21826        23281     3678   69       1           1           3   146   \n",
       "26602        28405     4002   47       0           0           0   834   \n",
       "25256        26961      792   49       1           0           0  1020   \n",
       "15220        16238     2497   66       0           2           0   334   \n",
       "21042        22451     2419   65       1           1           0  1020   \n",
       "12132        12952      447   68       1           0           3  1020   \n",
       "16200        17287     5533   78       1           0           0  1020   \n",
       "24826        26494     2293   71       0           0           3  1020   \n",
       "9915         10582      775   77       0           0           3  1126   \n",
       "\n",
       "       customer_nw_category  branch_code  days_since_last_transaction  \\\n",
       "7637                      2           60                         26.0   \n",
       "21826                     1          286                         12.0   \n",
       "26602                     1           14                         12.0   \n",
       "25256                     1           16                         54.0   \n",
       "15220                     2         1364                         42.0   \n",
       "21042                     1            5                         17.0   \n",
       "12132                     1           80                         27.0   \n",
       "16200                     1           47                          7.0   \n",
       "24826                     2          239                         12.0   \n",
       "9915                      2         2377                         42.0   \n",
       "\n",
       "       current_balance  previous_month_end_balance  \\\n",
       "7637            202.51                      276.10   \n",
       "21826         85403.63                    95795.26   \n",
       "26602          5846.27                      679.84   \n",
       "25256         22166.97                    27063.75   \n",
       "15220         13036.16                    23390.02   \n",
       "21042        111546.66                   253478.87   \n",
       "12132        232895.43                   565069.06   \n",
       "16200          4129.77                     5834.90   \n",
       "24826         33157.60                    33188.03   \n",
       "9915          16605.47                    16605.47   \n",
       "\n",
       "       average_monthly_balance_prevQ  average_monthly_balance_prevQ2  \\\n",
       "7637                         1686.08                         2582.02   \n",
       "21826                      105174.63                        72796.66   \n",
       "26602                        3667.28                        50473.71   \n",
       "25256                       30850.91                        16657.72   \n",
       "15220                       71787.88                        16761.09   \n",
       "21042                      183067.16                         4154.40   \n",
       "12132                      206930.92                        12836.59   \n",
       "16200                       25569.39                        18758.63   \n",
       "24826                       57784.52                       119764.64   \n",
       "9915                       211955.47                        27790.29   \n",
       "\n",
       "       current_month_credit  previous_month_credit  current_month_debit  \\\n",
       "7637                 786.03              825646.74              2135.65   \n",
       "21826              36219.12              339029.81            135919.77   \n",
       "26602              13712.29              355714.71             28545.86   \n",
       "25256                  0.26              500214.54              4897.04   \n",
       "15220                  0.46              630389.61             10211.46   \n",
       "21042              49428.94              359000.37            198523.14   \n",
       "12132              27929.01              555100.44            288674.07   \n",
       "16200               1106.06              512924.02              2357.17   \n",
       "24826              36590.94              429852.25               945.16   \n",
       "9915                   0.47              345357.61                 0.47   \n",
       "\n",
       "       previous_month_debit  current_month_balance  previous_month_balance  \n",
       "7637              775453.50                 756.62                 1387.05  \n",
       "21826             160014.24               89512.06               115664.24  \n",
       "26602              13261.30                4536.84                 1778.18  \n",
       "25256             771278.83               22842.38                39297.90  \n",
       "15220              72710.22               17620.67                34236.20  \n",
       "21042             279987.47              136280.90               374790.09  \n",
       "12132                  0.44              311693.80               299129.89  \n",
       "16200             557242.89                5362.95                20473.77  \n",
       "24826             395308.61               39267.67                65131.29  \n",
       "9915              457143.33               16605.47               138195.41  "
      ]
     },
     "execution_count": 79,
     "metadata": {},
     "output_type": "execute_result"
    }
   ],
   "source": [
    "train_x[train_x['previous_month_credit']>=300000]"
   ]
  },
  {
   "cell_type": "code",
   "execution_count": 80,
   "metadata": {},
   "outputs": [],
   "source": [
    "train_x=train_x[train_x['previous_month_credit']<=300000]"
   ]
  },
  {
   "cell_type": "code",
   "execution_count": 81,
   "metadata": {},
   "outputs": [
    {
     "data": {
      "text/plain": [
       "<matplotlib.axes._subplots.AxesSubplot at 0x16a085ab148>"
      ]
     },
     "execution_count": 81,
     "metadata": {},
     "output_type": "execute_result"
    },
    {
     "data": {
      "image/png": "[encoded data removed]",
      "text/plain": [
       "<Figure size 432x288 with 1 Axes>"
      ]
     },
     "metadata": {
      "needs_background": "light"
     },
     "output_type": "display_data"
    }
   ],
   "source": [
    "train_x.plot.scatter('age','previous_month_credit')"
   ]
  },
  {
   "cell_type": "code",
   "execution_count": 82,
   "metadata": {},
   "outputs": [
    {
     "data": {
      "text/plain": [
       "<matplotlib.axes._subplots.AxesSubplot at 0x16a0aff0ac8>"
      ]
     },
     "execution_count": 82,
     "metadata": {},
     "output_type": "execute_result"
    },
    {
     "data": {
      "image/png": "[encoded data removed]",
      "text/plain": [
       "<Figure size 432x288 with 1 Axes>"
      ]
     },
     "metadata": {
      "needs_background": "light"
     },
     "output_type": "display_data"
    }
   ],
   "source": [
    "train_x.plot.scatter('age','current_month_debit')"
   ]
  },
  {
   "cell_type": "markdown",
   "metadata": {},
   "source": [
    "## Removing Outlier from current_month_debit"
   ]
  },
  {
   "cell_type": "code",
   "execution_count": 83,
   "metadata": {},
   "outputs": [
    {
     "data": {
      "text/html": [
       "<div>\n",
       "<style scoped>\n",
       "    .dataframe tbody tr th:only-of-type {\n",
       "        vertical-align: middle;\n",
       "    }\n",
       "\n",
       "    .dataframe tbody tr th {\n",
       "        vertical-align: top;\n",
       "    }\n",
       "\n",
       "    .dataframe thead th {\n",
       "        text-align: right;\n",
       "    }\n",
       "</style>\n",
       "<table border=\"1\" class=\"dataframe\">\n",
       "  <thead>\n",
       "    <tr style=\"text-align: right;\">\n",
       "      <th></th>\n",
       "      <th>customer_id</th>\n",
       "      <th>vintage</th>\n",
       "      <th>age</th>\n",
       "      <th>gender</th>\n",
       "      <th>dependents</th>\n",
       "      <th>occupation</th>\n",
       "      <th>city</th>\n",
       "      <th>customer_nw_category</th>\n",
       "      <th>branch_code</th>\n",
       "      <th>days_since_last_transaction</th>\n",
       "      <th>current_balance</th>\n",
       "      <th>previous_month_end_balance</th>\n",
       "      <th>average_monthly_balance_prevQ</th>\n",
       "      <th>average_monthly_balance_prevQ2</th>\n",
       "      <th>current_month_credit</th>\n",
       "      <th>previous_month_credit</th>\n",
       "      <th>current_month_debit</th>\n",
       "      <th>previous_month_debit</th>\n",
       "      <th>current_month_balance</th>\n",
       "      <th>previous_month_balance</th>\n",
       "    </tr>\n",
       "  </thead>\n",
       "  <tbody>\n",
       "    <tr>\n",
       "      <td>17626</td>\n",
       "      <td>18803</td>\n",
       "      <td>5094</td>\n",
       "      <td>30</td>\n",
       "      <td>1</td>\n",
       "      <td>0</td>\n",
       "      <td>0</td>\n",
       "      <td>485</td>\n",
       "      <td>2</td>\n",
       "      <td>1296</td>\n",
       "      <td>6.0</td>\n",
       "      <td>1372.13</td>\n",
       "      <td>1628.80</td>\n",
       "      <td>1815.49</td>\n",
       "      <td>3519.10</td>\n",
       "      <td>102009.06</td>\n",
       "      <td>0.49</td>\n",
       "      <td>340219.77</td>\n",
       "      <td>471.91</td>\n",
       "      <td>1590.49</td>\n",
       "      <td>1634.67</td>\n",
       "    </tr>\n",
       "    <tr>\n",
       "      <td>7228</td>\n",
       "      <td>7697</td>\n",
       "      <td>4188</td>\n",
       "      <td>60</td>\n",
       "      <td>0</td>\n",
       "      <td>0</td>\n",
       "      <td>0</td>\n",
       "      <td>1046</td>\n",
       "      <td>2</td>\n",
       "      <td>102</td>\n",
       "      <td>7.0</td>\n",
       "      <td>17594.09</td>\n",
       "      <td>18226.30</td>\n",
       "      <td>44231.52</td>\n",
       "      <td>78156.02</td>\n",
       "      <td>346970.73</td>\n",
       "      <td>0.06</td>\n",
       "      <td>354748.44</td>\n",
       "      <td>15279.31</td>\n",
       "      <td>51188.02</td>\n",
       "      <td>18522.68</td>\n",
       "    </tr>\n",
       "    <tr>\n",
       "      <td>19504</td>\n",
       "      <td>20818</td>\n",
       "      <td>3875</td>\n",
       "      <td>58</td>\n",
       "      <td>0</td>\n",
       "      <td>0</td>\n",
       "      <td>0</td>\n",
       "      <td>1046</td>\n",
       "      <td>1</td>\n",
       "      <td>1248</td>\n",
       "      <td>4.0</td>\n",
       "      <td>703.78</td>\n",
       "      <td>280938.79</td>\n",
       "      <td>39536.66</td>\n",
       "      <td>7698.79</td>\n",
       "      <td>250157.27</td>\n",
       "      <td>3637.61</td>\n",
       "      <td>548857.97</td>\n",
       "      <td>3043.76</td>\n",
       "      <td>94983.09</td>\n",
       "      <td>19955.31</td>\n",
       "    </tr>\n",
       "    <tr>\n",
       "      <td>19109</td>\n",
       "      <td>20399</td>\n",
       "      <td>1489</td>\n",
       "      <td>60</td>\n",
       "      <td>0</td>\n",
       "      <td>0</td>\n",
       "      <td>0</td>\n",
       "      <td>1020</td>\n",
       "      <td>1</td>\n",
       "      <td>80</td>\n",
       "      <td>13.0</td>\n",
       "      <td>48990.75</td>\n",
       "      <td>38242.78</td>\n",
       "      <td>67878.71</td>\n",
       "      <td>5669.51</td>\n",
       "      <td>15633.91</td>\n",
       "      <td>0.63</td>\n",
       "      <td>369640.97</td>\n",
       "      <td>17315.39</td>\n",
       "      <td>67331.38</td>\n",
       "      <td>75708.63</td>\n",
       "    </tr>\n",
       "    <tr>\n",
       "      <td>2681</td>\n",
       "      <td>2857</td>\n",
       "      <td>2958</td>\n",
       "      <td>55</td>\n",
       "      <td>0</td>\n",
       "      <td>0</td>\n",
       "      <td>0</td>\n",
       "      <td>1020</td>\n",
       "      <td>1</td>\n",
       "      <td>60</td>\n",
       "      <td>185.0</td>\n",
       "      <td>2140.78</td>\n",
       "      <td>2547.31</td>\n",
       "      <td>2173.35</td>\n",
       "      <td>3899.13</td>\n",
       "      <td>0.66</td>\n",
       "      <td>0.66</td>\n",
       "      <td>367549.22</td>\n",
       "      <td>403332.38</td>\n",
       "      <td>2487.28</td>\n",
       "      <td>2132.24</td>\n",
       "    </tr>\n",
       "    <tr>\n",
       "      <td>14223</td>\n",
       "      <td>15184</td>\n",
       "      <td>5879</td>\n",
       "      <td>53</td>\n",
       "      <td>0</td>\n",
       "      <td>0</td>\n",
       "      <td>0</td>\n",
       "      <td>1020</td>\n",
       "      <td>1</td>\n",
       "      <td>240</td>\n",
       "      <td>14.0</td>\n",
       "      <td>1866.89</td>\n",
       "      <td>7568.95</td>\n",
       "      <td>45607.15</td>\n",
       "      <td>36620.92</td>\n",
       "      <td>10837.51</td>\n",
       "      <td>8587.09</td>\n",
       "      <td>598777.72</td>\n",
       "      <td>35630.54</td>\n",
       "      <td>86949.28</td>\n",
       "      <td>15028.90</td>\n",
       "    </tr>\n",
       "  </tbody>\n",
       "</table>\n",
       "</div>"
      ],
      "text/plain": [
       "       customer_id  vintage  age  gender  dependents  occupation  city  \\\n",
       "17626        18803     5094   30       1           0           0   485   \n",
       "7228          7697     4188   60       0           0           0  1046   \n",
       "19504        20818     3875   58       0           0           0  1046   \n",
       "19109        20399     1489   60       0           0           0  1020   \n",
       "2681          2857     2958   55       0           0           0  1020   \n",
       "14223        15184     5879   53       0           0           0  1020   \n",
       "\n",
       "       customer_nw_category  branch_code  days_since_last_transaction  \\\n",
       "17626                     2         1296                          6.0   \n",
       "7228                      2          102                          7.0   \n",
       "19504                     1         1248                          4.0   \n",
       "19109                     1           80                         13.0   \n",
       "2681                      1           60                        185.0   \n",
       "14223                     1          240                         14.0   \n",
       "\n",
       "       current_balance  previous_month_end_balance  \\\n",
       "17626          1372.13                     1628.80   \n",
       "7228          17594.09                    18226.30   \n",
       "19504           703.78                   280938.79   \n",
       "19109         48990.75                    38242.78   \n",
       "2681           2140.78                     2547.31   \n",
       "14223          1866.89                     7568.95   \n",
       "\n",
       "       average_monthly_balance_prevQ  average_monthly_balance_prevQ2  \\\n",
       "17626                        1815.49                         3519.10   \n",
       "7228                        44231.52                        78156.02   \n",
       "19504                       39536.66                         7698.79   \n",
       "19109                       67878.71                         5669.51   \n",
       "2681                         2173.35                         3899.13   \n",
       "14223                       45607.15                        36620.92   \n",
       "\n",
       "       current_month_credit  previous_month_credit  current_month_debit  \\\n",
       "17626             102009.06                   0.49            340219.77   \n",
       "7228              346970.73                   0.06            354748.44   \n",
       "19504             250157.27                3637.61            548857.97   \n",
       "19109              15633.91                   0.63            369640.97   \n",
       "2681                   0.66                   0.66            367549.22   \n",
       "14223              10837.51                8587.09            598777.72   \n",
       "\n",
       "       previous_month_debit  current_month_balance  previous_month_balance  \n",
       "17626                471.91                1590.49                 1634.67  \n",
       "7228               15279.31               51188.02                18522.68  \n",
       "19504               3043.76               94983.09                19955.31  \n",
       "19109              17315.39               67331.38                75708.63  \n",
       "2681              403332.38                2487.28                 2132.24  \n",
       "14223              35630.54               86949.28                15028.90  "
      ]
     },
     "execution_count": 83,
     "metadata": {},
     "output_type": "execute_result"
    }
   ],
   "source": [
    "train_x[train_x['current_month_debit']>=300000]"
   ]
  },
  {
   "cell_type": "code",
   "execution_count": 84,
   "metadata": {},
   "outputs": [],
   "source": [
    "train_x=train_x[train_x['current_month_debit']<=300000]"
   ]
  },
  {
   "cell_type": "code",
   "execution_count": 85,
   "metadata": {},
   "outputs": [
    {
     "data": {
      "text/plain": [
       "<matplotlib.axes._subplots.AxesSubplot at 0x16a0b805c88>"
      ]
     },
     "execution_count": 85,
     "metadata": {},
     "output_type": "execute_result"
    },
    {
     "data": {
      "image/png": "[encoded data removed]",
      "text/plain": [
       "<Figure size 432x288 with 1 Axes>"
      ]
     },
     "metadata": {
      "needs_background": "light"
     },
     "output_type": "display_data"
    }
   ],
   "source": [
    "train_x.plot.scatter('age','current_month_debit')"
   ]
  },
  {
   "cell_type": "code",
   "execution_count": 86,
   "metadata": {},
   "outputs": [
    {
     "data": {
      "text/plain": [
       "<matplotlib.axes._subplots.AxesSubplot at 0x16a0b88f548>"
      ]
     },
     "execution_count": 86,
     "metadata": {},
     "output_type": "execute_result"
    },
    {
     "data": {
      "image/png": "[encoded data removed]",
      "text/plain": [
       "<Figure size 432x288 with 1 Axes>"
      ]
     },
     "metadata": {
      "needs_background": "light"
     },
     "output_type": "display_data"
    }
   ],
   "source": [
    "train_x.plot.scatter('age','previous_month_debit')"
   ]
  },
  {
   "cell_type": "markdown",
   "metadata": {},
   "source": [
    "## Removing Outlier from previous_month_debit"
   ]
  },
  {
   "cell_type": "code",
   "execution_count": 87,
   "metadata": {},
   "outputs": [
    {
     "data": {
      "text/html": [
       "<div>\n",
       "<style scoped>\n",
       "    .dataframe tbody tr th:only-of-type {\n",
       "        vertical-align: middle;\n",
       "    }\n",
       "\n",
       "    .dataframe tbody tr th {\n",
       "        vertical-align: top;\n",
       "    }\n",
       "\n",
       "    .dataframe thead th {\n",
       "        text-align: right;\n",
       "    }\n",
       "</style>\n",
       "<table border=\"1\" class=\"dataframe\">\n",
       "  <thead>\n",
       "    <tr style=\"text-align: right;\">\n",
       "      <th></th>\n",
       "      <th>customer_id</th>\n",
       "      <th>vintage</th>\n",
       "      <th>age</th>\n",
       "      <th>gender</th>\n",
       "      <th>dependents</th>\n",
       "      <th>occupation</th>\n",
       "      <th>city</th>\n",
       "      <th>customer_nw_category</th>\n",
       "      <th>branch_code</th>\n",
       "      <th>days_since_last_transaction</th>\n",
       "      <th>current_balance</th>\n",
       "      <th>previous_month_end_balance</th>\n",
       "      <th>average_monthly_balance_prevQ</th>\n",
       "      <th>average_monthly_balance_prevQ2</th>\n",
       "      <th>current_month_credit</th>\n",
       "      <th>previous_month_credit</th>\n",
       "      <th>current_month_debit</th>\n",
       "      <th>previous_month_debit</th>\n",
       "      <th>current_month_balance</th>\n",
       "      <th>previous_month_balance</th>\n",
       "    </tr>\n",
       "  </thead>\n",
       "  <tbody>\n",
       "    <tr>\n",
       "      <td>8273</td>\n",
       "      <td>8813</td>\n",
       "      <td>2258</td>\n",
       "      <td>61</td>\n",
       "      <td>0</td>\n",
       "      <td>1</td>\n",
       "      <td>0</td>\n",
       "      <td>623</td>\n",
       "      <td>1</td>\n",
       "      <td>21</td>\n",
       "      <td>21.0</td>\n",
       "      <td>1660.79</td>\n",
       "      <td>1187.94</td>\n",
       "      <td>37239.62</td>\n",
       "      <td>15942.66</td>\n",
       "      <td>16138.67</td>\n",
       "      <td>297894.79</td>\n",
       "      <td>15660.39</td>\n",
       "      <td>289961.81</td>\n",
       "      <td>2745.50</td>\n",
       "      <td>59473.61</td>\n",
       "    </tr>\n",
       "    <tr>\n",
       "      <td>18310</td>\n",
       "      <td>19536</td>\n",
       "      <td>4493</td>\n",
       "      <td>59</td>\n",
       "      <td>0</td>\n",
       "      <td>4</td>\n",
       "      <td>0</td>\n",
       "      <td>567</td>\n",
       "      <td>2</td>\n",
       "      <td>255</td>\n",
       "      <td>7.0</td>\n",
       "      <td>15116.86</td>\n",
       "      <td>8286.18</td>\n",
       "      <td>38477.49</td>\n",
       "      <td>12707.51</td>\n",
       "      <td>34703.20</td>\n",
       "      <td>249825.16</td>\n",
       "      <td>268216.99</td>\n",
       "      <td>485773.84</td>\n",
       "      <td>20915.01</td>\n",
       "      <td>53922.50</td>\n",
       "    </tr>\n",
       "    <tr>\n",
       "      <td>6990</td>\n",
       "      <td>7447</td>\n",
       "      <td>4305</td>\n",
       "      <td>59</td>\n",
       "      <td>0</td>\n",
       "      <td>1</td>\n",
       "      <td>1</td>\n",
       "      <td>334</td>\n",
       "      <td>1</td>\n",
       "      <td>166</td>\n",
       "      <td>0.0</td>\n",
       "      <td>48602.29</td>\n",
       "      <td>12884.86</td>\n",
       "      <td>21763.64</td>\n",
       "      <td>12255.99</td>\n",
       "      <td>187007.88</td>\n",
       "      <td>179847.25</td>\n",
       "      <td>178988.19</td>\n",
       "      <td>317399.24</td>\n",
       "      <td>18702.79</td>\n",
       "      <td>17583.64</td>\n",
       "    </tr>\n",
       "    <tr>\n",
       "      <td>14707</td>\n",
       "      <td>15698</td>\n",
       "      <td>2656</td>\n",
       "      <td>47</td>\n",
       "      <td>0</td>\n",
       "      <td>1</td>\n",
       "      <td>1</td>\n",
       "      <td>1096</td>\n",
       "      <td>1</td>\n",
       "      <td>586</td>\n",
       "      <td>7.0</td>\n",
       "      <td>11.86</td>\n",
       "      <td>237.72</td>\n",
       "      <td>32313.88</td>\n",
       "      <td>4175.83</td>\n",
       "      <td>2144.62</td>\n",
       "      <td>2858.94</td>\n",
       "      <td>309.16</td>\n",
       "      <td>400329.51</td>\n",
       "      <td>90.58</td>\n",
       "      <td>79060.60</td>\n",
       "    </tr>\n",
       "    <tr>\n",
       "      <td>23880</td>\n",
       "      <td>25484</td>\n",
       "      <td>1690</td>\n",
       "      <td>40</td>\n",
       "      <td>1</td>\n",
       "      <td>0</td>\n",
       "      <td>0</td>\n",
       "      <td>1096</td>\n",
       "      <td>1</td>\n",
       "      <td>1719</td>\n",
       "      <td>24.0</td>\n",
       "      <td>310.31</td>\n",
       "      <td>1231.32</td>\n",
       "      <td>2926.89</td>\n",
       "      <td>1380.22</td>\n",
       "      <td>1006.10</td>\n",
       "      <td>262434.67</td>\n",
       "      <td>3054.97</td>\n",
       "      <td>274709.11</td>\n",
       "      <td>1259.70</td>\n",
       "      <td>4789.18</td>\n",
       "    </tr>\n",
       "    <tr>\n",
       "      <td>19287</td>\n",
       "      <td>20590</td>\n",
       "      <td>6194</td>\n",
       "      <td>58</td>\n",
       "      <td>1</td>\n",
       "      <td>2</td>\n",
       "      <td>0</td>\n",
       "      <td>1020</td>\n",
       "      <td>2</td>\n",
       "      <td>85</td>\n",
       "      <td>5.0</td>\n",
       "      <td>29986.88</td>\n",
       "      <td>21918.66</td>\n",
       "      <td>14668.24</td>\n",
       "      <td>6843.59</td>\n",
       "      <td>17143.41</td>\n",
       "      <td>161860.51</td>\n",
       "      <td>8753.93</td>\n",
       "      <td>307897.60</td>\n",
       "      <td>21298.51</td>\n",
       "      <td>16543.87</td>\n",
       "    </tr>\n",
       "    <tr>\n",
       "      <td>16231</td>\n",
       "      <td>17320</td>\n",
       "      <td>1810</td>\n",
       "      <td>44</td>\n",
       "      <td>1</td>\n",
       "      <td>0</td>\n",
       "      <td>0</td>\n",
       "      <td>1020</td>\n",
       "      <td>1</td>\n",
       "      <td>239</td>\n",
       "      <td>27.0</td>\n",
       "      <td>3133.58</td>\n",
       "      <td>71.75</td>\n",
       "      <td>18279.68</td>\n",
       "      <td>174.81</td>\n",
       "      <td>28640.44</td>\n",
       "      <td>0.31</td>\n",
       "      <td>25578.61</td>\n",
       "      <td>393386.54</td>\n",
       "      <td>3027.99</td>\n",
       "      <td>50988.96</td>\n",
       "    </tr>\n",
       "    <tr>\n",
       "      <td>19003</td>\n",
       "      <td>20286</td>\n",
       "      <td>4289</td>\n",
       "      <td>61</td>\n",
       "      <td>0</td>\n",
       "      <td>2</td>\n",
       "      <td>0</td>\n",
       "      <td>1020</td>\n",
       "      <td>2</td>\n",
       "      <td>285</td>\n",
       "      <td>21.0</td>\n",
       "      <td>2300.98</td>\n",
       "      <td>87.81</td>\n",
       "      <td>20442.57</td>\n",
       "      <td>9226.25</td>\n",
       "      <td>67486.37</td>\n",
       "      <td>67857.80</td>\n",
       "      <td>217143.51</td>\n",
       "      <td>288859.77</td>\n",
       "      <td>19235.94</td>\n",
       "      <td>7710.58</td>\n",
       "    </tr>\n",
       "  </tbody>\n",
       "</table>\n",
       "</div>"
      ],
      "text/plain": [
       "       customer_id  vintage  age  gender  dependents  occupation  city  \\\n",
       "8273          8813     2258   61       0           1           0   623   \n",
       "18310        19536     4493   59       0           4           0   567   \n",
       "6990          7447     4305   59       0           1           1   334   \n",
       "14707        15698     2656   47       0           1           1  1096   \n",
       "23880        25484     1690   40       1           0           0  1096   \n",
       "19287        20590     6194   58       1           2           0  1020   \n",
       "16231        17320     1810   44       1           0           0  1020   \n",
       "19003        20286     4289   61       0           2           0  1020   \n",
       "\n",
       "       customer_nw_category  branch_code  days_since_last_transaction  \\\n",
       "8273                      1           21                         21.0   \n",
       "18310                     2          255                          7.0   \n",
       "6990                      1          166                          0.0   \n",
       "14707                     1          586                          7.0   \n",
       "23880                     1         1719                         24.0   \n",
       "19287                     2           85                          5.0   \n",
       "16231                     1          239                         27.0   \n",
       "19003                     2          285                         21.0   \n",
       "\n",
       "       current_balance  previous_month_end_balance  \\\n",
       "8273           1660.79                     1187.94   \n",
       "18310         15116.86                     8286.18   \n",
       "6990          48602.29                    12884.86   \n",
       "14707            11.86                      237.72   \n",
       "23880           310.31                     1231.32   \n",
       "19287         29986.88                    21918.66   \n",
       "16231          3133.58                       71.75   \n",
       "19003          2300.98                       87.81   \n",
       "\n",
       "       average_monthly_balance_prevQ  average_monthly_balance_prevQ2  \\\n",
       "8273                        37239.62                        15942.66   \n",
       "18310                       38477.49                        12707.51   \n",
       "6990                        21763.64                        12255.99   \n",
       "14707                       32313.88                         4175.83   \n",
       "23880                        2926.89                         1380.22   \n",
       "19287                       14668.24                         6843.59   \n",
       "16231                       18279.68                          174.81   \n",
       "19003                       20442.57                         9226.25   \n",
       "\n",
       "       current_month_credit  previous_month_credit  current_month_debit  \\\n",
       "8273               16138.67              297894.79             15660.39   \n",
       "18310              34703.20              249825.16            268216.99   \n",
       "6990              187007.88              179847.25            178988.19   \n",
       "14707               2144.62                2858.94               309.16   \n",
       "23880               1006.10              262434.67              3054.97   \n",
       "19287              17143.41              161860.51              8753.93   \n",
       "16231              28640.44                   0.31             25578.61   \n",
       "19003              67486.37               67857.80            217143.51   \n",
       "\n",
       "       previous_month_debit  current_month_balance  previous_month_balance  \n",
       "8273              289961.81                2745.50                59473.61  \n",
       "18310             485773.84               20915.01                53922.50  \n",
       "6990              317399.24               18702.79                17583.64  \n",
       "14707             400329.51                  90.58                79060.60  \n",
       "23880             274709.11                1259.70                 4789.18  \n",
       "19287             307897.60               21298.51                16543.87  \n",
       "16231             393386.54                3027.99                50988.96  \n",
       "19003             288859.77               19235.94                 7710.58  "
      ]
     },
     "execution_count": 87,
     "metadata": {},
     "output_type": "execute_result"
    }
   ],
   "source": [
    "train_x[train_x['previous_month_debit']>=250000]"
   ]
  },
  {
   "cell_type": "code",
   "execution_count": 88,
   "metadata": {},
   "outputs": [],
   "source": [
    "train_x=train_x[train_x['previous_month_debit']<=250000]"
   ]
  },
  {
   "cell_type": "code",
   "execution_count": 89,
   "metadata": {},
   "outputs": [
    {
     "data": {
      "text/plain": [
       "<matplotlib.axes._subplots.AxesSubplot at 0x16a0d02d988>"
      ]
     },
     "execution_count": 89,
     "metadata": {},
     "output_type": "execute_result"
    },
    {
     "data": {
      "image/png": "[encoded data removed]",
      "text/plain": [
       "<Figure size 432x288 with 1 Axes>"
      ]
     },
     "metadata": {
      "needs_background": "light"
     },
     "output_type": "display_data"
    }
   ],
   "source": [
    "train_x.plot.scatter('age','previous_month_debit')"
   ]
  },
  {
   "cell_type": "code",
   "execution_count": 90,
   "metadata": {},
   "outputs": [
    {
     "data": {
      "text/plain": [
       "<matplotlib.axes._subplots.AxesSubplot at 0x16a0d68d948>"
      ]
     },
     "execution_count": 90,
     "metadata": {},
     "output_type": "execute_result"
    },
    {
     "data": {
      "image/png": "[encoded data removed]",
      "text/plain": [
       "<Figure size 432x288 with 1 Axes>"
      ]
     },
     "metadata": {
      "needs_background": "light"
     },
     "output_type": "display_data"
    }
   ],
   "source": [
    "train_x.plot.scatter('age','current_month_balance')"
   ]
  },
  {
   "cell_type": "markdown",
   "metadata": {},
   "source": [
    "## Removing Outlier from current_month_balance"
   ]
  },
  {
   "cell_type": "code",
   "execution_count": 91,
   "metadata": {},
   "outputs": [
    {
     "data": {
      "text/html": [
       "<div>\n",
       "<style scoped>\n",
       "    .dataframe tbody tr th:only-of-type {\n",
       "        vertical-align: middle;\n",
       "    }\n",
       "\n",
       "    .dataframe tbody tr th {\n",
       "        vertical-align: top;\n",
       "    }\n",
       "\n",
       "    .dataframe thead th {\n",
       "        text-align: right;\n",
       "    }\n",
       "</style>\n",
       "<table border=\"1\" class=\"dataframe\">\n",
       "  <thead>\n",
       "    <tr style=\"text-align: right;\">\n",
       "      <th></th>\n",
       "      <th>customer_id</th>\n",
       "      <th>vintage</th>\n",
       "      <th>age</th>\n",
       "      <th>gender</th>\n",
       "      <th>dependents</th>\n",
       "      <th>occupation</th>\n",
       "      <th>city</th>\n",
       "      <th>customer_nw_category</th>\n",
       "      <th>branch_code</th>\n",
       "      <th>days_since_last_transaction</th>\n",
       "      <th>current_balance</th>\n",
       "      <th>previous_month_end_balance</th>\n",
       "      <th>average_monthly_balance_prevQ</th>\n",
       "      <th>average_monthly_balance_prevQ2</th>\n",
       "      <th>current_month_credit</th>\n",
       "      <th>previous_month_credit</th>\n",
       "      <th>current_month_debit</th>\n",
       "      <th>previous_month_debit</th>\n",
       "      <th>current_month_balance</th>\n",
       "      <th>previous_month_balance</th>\n",
       "    </tr>\n",
       "  </thead>\n",
       "  <tbody>\n",
       "    <tr>\n",
       "      <td>28030</td>\n",
       "      <td>29924</td>\n",
       "      <td>412</td>\n",
       "      <td>90</td>\n",
       "      <td>0</td>\n",
       "      <td>0</td>\n",
       "      <td>0</td>\n",
       "      <td>623</td>\n",
       "      <td>2</td>\n",
       "      <td>218</td>\n",
       "      <td>70.0</td>\n",
       "      <td>177074.17</td>\n",
       "      <td>177074.17</td>\n",
       "      <td>177074.17</td>\n",
       "      <td>174972.39</td>\n",
       "      <td>0.04</td>\n",
       "      <td>0.04</td>\n",
       "      <td>0.04</td>\n",
       "      <td>0.04</td>\n",
       "      <td>177074.17</td>\n",
       "      <td>177074.17</td>\n",
       "    </tr>\n",
       "    <tr>\n",
       "      <td>17017</td>\n",
       "      <td>18159</td>\n",
       "      <td>2020</td>\n",
       "      <td>68</td>\n",
       "      <td>0</td>\n",
       "      <td>0</td>\n",
       "      <td>3</td>\n",
       "      <td>623</td>\n",
       "      <td>1</td>\n",
       "      <td>2019</td>\n",
       "      <td>0.0</td>\n",
       "      <td>287502.60</td>\n",
       "      <td>81863.17</td>\n",
       "      <td>104738.43</td>\n",
       "      <td>73237.55</td>\n",
       "      <td>248426.43</td>\n",
       "      <td>62326.43</td>\n",
       "      <td>714.73</td>\n",
       "      <td>0.44</td>\n",
       "      <td>233300.48</td>\n",
       "      <td>30791.14</td>\n",
       "    </tr>\n",
       "    <tr>\n",
       "      <td>17043</td>\n",
       "      <td>18187</td>\n",
       "      <td>1263</td>\n",
       "      <td>90</td>\n",
       "      <td>0</td>\n",
       "      <td>0</td>\n",
       "      <td>0</td>\n",
       "      <td>751</td>\n",
       "      <td>2</td>\n",
       "      <td>138</td>\n",
       "      <td>157.0</td>\n",
       "      <td>182407.29</td>\n",
       "      <td>186478.71</td>\n",
       "      <td>191767.91</td>\n",
       "      <td>216113.49</td>\n",
       "      <td>0.16</td>\n",
       "      <td>0.16</td>\n",
       "      <td>4071.59</td>\n",
       "      <td>0.16</td>\n",
       "      <td>189580.66</td>\n",
       "      <td>185953.37</td>\n",
       "    </tr>\n",
       "    <tr>\n",
       "      <td>23434</td>\n",
       "      <td>25003</td>\n",
       "      <td>1718</td>\n",
       "      <td>71</td>\n",
       "      <td>1</td>\n",
       "      <td>0</td>\n",
       "      <td>1</td>\n",
       "      <td>1096</td>\n",
       "      <td>1</td>\n",
       "      <td>572</td>\n",
       "      <td>0.0</td>\n",
       "      <td>246034.65</td>\n",
       "      <td>286515.81</td>\n",
       "      <td>189244.25</td>\n",
       "      <td>308575.26</td>\n",
       "      <td>1543.02</td>\n",
       "      <td>177508.32</td>\n",
       "      <td>42183.97</td>\n",
       "      <td>28187.26</td>\n",
       "      <td>264770.42</td>\n",
       "      <td>212294.44</td>\n",
       "    </tr>\n",
       "    <tr>\n",
       "      <td>23852</td>\n",
       "      <td>25450</td>\n",
       "      <td>1755</td>\n",
       "      <td>53</td>\n",
       "      <td>0</td>\n",
       "      <td>0</td>\n",
       "      <td>1</td>\n",
       "      <td>146</td>\n",
       "      <td>1</td>\n",
       "      <td>1756</td>\n",
       "      <td>3.0</td>\n",
       "      <td>140338.73</td>\n",
       "      <td>268937.07</td>\n",
       "      <td>180653.26</td>\n",
       "      <td>56732.95</td>\n",
       "      <td>17109.24</td>\n",
       "      <td>0.67</td>\n",
       "      <td>145686.39</td>\n",
       "      <td>1227.46</td>\n",
       "      <td>202633.86</td>\n",
       "      <td>253013.92</td>\n",
       "    </tr>\n",
       "    <tr>\n",
       "      <td>13355</td>\n",
       "      <td>14258</td>\n",
       "      <td>450</td>\n",
       "      <td>63</td>\n",
       "      <td>0</td>\n",
       "      <td>0</td>\n",
       "      <td>1</td>\n",
       "      <td>146</td>\n",
       "      <td>1</td>\n",
       "      <td>1755</td>\n",
       "      <td>80.0</td>\n",
       "      <td>284468.68</td>\n",
       "      <td>187080.29</td>\n",
       "      <td>201313.54</td>\n",
       "      <td>99219.04</td>\n",
       "      <td>0.49</td>\n",
       "      <td>0.49</td>\n",
       "      <td>0.49</td>\n",
       "      <td>5817.46</td>\n",
       "      <td>247528.26</td>\n",
       "      <td>197251.66</td>\n",
       "    </tr>\n",
       "    <tr>\n",
       "      <td>1704</td>\n",
       "      <td>1830</td>\n",
       "      <td>749</td>\n",
       "      <td>90</td>\n",
       "      <td>0</td>\n",
       "      <td>0</td>\n",
       "      <td>0</td>\n",
       "      <td>382</td>\n",
       "      <td>2</td>\n",
       "      <td>785</td>\n",
       "      <td>4.0</td>\n",
       "      <td>216426.11</td>\n",
       "      <td>130711.83</td>\n",
       "      <td>151073.08</td>\n",
       "      <td>138497.41</td>\n",
       "      <td>85714.74</td>\n",
       "      <td>0.46</td>\n",
       "      <td>0.46</td>\n",
       "      <td>0.46</td>\n",
       "      <td>191795.57</td>\n",
       "      <td>130711.83</td>\n",
       "    </tr>\n",
       "    <tr>\n",
       "      <td>245</td>\n",
       "      <td>267</td>\n",
       "      <td>2809</td>\n",
       "      <td>81</td>\n",
       "      <td>0</td>\n",
       "      <td>0</td>\n",
       "      <td>3</td>\n",
       "      <td>1020</td>\n",
       "      <td>1</td>\n",
       "      <td>16</td>\n",
       "      <td>9.0</td>\n",
       "      <td>244686.74</td>\n",
       "      <td>214757.79</td>\n",
       "      <td>99212.05</td>\n",
       "      <td>31312.68</td>\n",
       "      <td>37857.84</td>\n",
       "      <td>214286.41</td>\n",
       "      <td>7928.90</td>\n",
       "      <td>509.86</td>\n",
       "      <td>224531.30</td>\n",
       "      <td>69803.24</td>\n",
       "    </tr>\n",
       "    <tr>\n",
       "      <td>26280</td>\n",
       "      <td>28061</td>\n",
       "      <td>201</td>\n",
       "      <td>90</td>\n",
       "      <td>0</td>\n",
       "      <td>0</td>\n",
       "      <td>0</td>\n",
       "      <td>372</td>\n",
       "      <td>3</td>\n",
       "      <td>2584</td>\n",
       "      <td>69.0</td>\n",
       "      <td>184836.76</td>\n",
       "      <td>184836.76</td>\n",
       "      <td>183569.48</td>\n",
       "      <td>179134.78</td>\n",
       "      <td>0.56</td>\n",
       "      <td>0.56</td>\n",
       "      <td>0.56</td>\n",
       "      <td>0.56</td>\n",
       "      <td>184836.76</td>\n",
       "      <td>184836.76</td>\n",
       "    </tr>\n",
       "    <tr>\n",
       "      <td>14529</td>\n",
       "      <td>15509</td>\n",
       "      <td>4164</td>\n",
       "      <td>66</td>\n",
       "      <td>1</td>\n",
       "      <td>0</td>\n",
       "      <td>0</td>\n",
       "      <td>1020</td>\n",
       "      <td>1</td>\n",
       "      <td>60</td>\n",
       "      <td>5.0</td>\n",
       "      <td>181240.04</td>\n",
       "      <td>176013.76</td>\n",
       "      <td>170854.12</td>\n",
       "      <td>144820.53</td>\n",
       "      <td>5111.51</td>\n",
       "      <td>7651.22</td>\n",
       "      <td>0.34</td>\n",
       "      <td>0.34</td>\n",
       "      <td>178307.90</td>\n",
       "      <td>171415.09</td>\n",
       "    </tr>\n",
       "  </tbody>\n",
       "</table>\n",
       "</div>"
      ],
      "text/plain": [
       "       customer_id  vintage  age  gender  dependents  occupation  city  \\\n",
       "28030        29924      412   90       0           0           0   623   \n",
       "17017        18159     2020   68       0           0           3   623   \n",
       "17043        18187     1263   90       0           0           0   751   \n",
       "23434        25003     1718   71       1           0           1  1096   \n",
       "23852        25450     1755   53       0           0           1   146   \n",
       "13355        14258      450   63       0           0           1   146   \n",
       "1704          1830      749   90       0           0           0   382   \n",
       "245            267     2809   81       0           0           3  1020   \n",
       "26280        28061      201   90       0           0           0   372   \n",
       "14529        15509     4164   66       1           0           0  1020   \n",
       "\n",
       "       customer_nw_category  branch_code  days_since_last_transaction  \\\n",
       "28030                     2          218                         70.0   \n",
       "17017                     1         2019                          0.0   \n",
       "17043                     2          138                        157.0   \n",
       "23434                     1          572                          0.0   \n",
       "23852                     1         1756                          3.0   \n",
       "13355                     1         1755                         80.0   \n",
       "1704                      2          785                          4.0   \n",
       "245                       1           16                          9.0   \n",
       "26280                     3         2584                         69.0   \n",
       "14529                     1           60                          5.0   \n",
       "\n",
       "       current_balance  previous_month_end_balance  \\\n",
       "28030        177074.17                   177074.17   \n",
       "17017        287502.60                    81863.17   \n",
       "17043        182407.29                   186478.71   \n",
       "23434        246034.65                   286515.81   \n",
       "23852        140338.73                   268937.07   \n",
       "13355        284468.68                   187080.29   \n",
       "1704         216426.11                   130711.83   \n",
       "245          244686.74                   214757.79   \n",
       "26280        184836.76                   184836.76   \n",
       "14529        181240.04                   176013.76   \n",
       "\n",
       "       average_monthly_balance_prevQ  average_monthly_balance_prevQ2  \\\n",
       "28030                      177074.17                       174972.39   \n",
       "17017                      104738.43                        73237.55   \n",
       "17043                      191767.91                       216113.49   \n",
       "23434                      189244.25                       308575.26   \n",
       "23852                      180653.26                        56732.95   \n",
       "13355                      201313.54                        99219.04   \n",
       "1704                       151073.08                       138497.41   \n",
       "245                         99212.05                        31312.68   \n",
       "26280                      183569.48                       179134.78   \n",
       "14529                      170854.12                       144820.53   \n",
       "\n",
       "       current_month_credit  previous_month_credit  current_month_debit  \\\n",
       "28030                  0.04                   0.04                 0.04   \n",
       "17017             248426.43               62326.43               714.73   \n",
       "17043                  0.16                   0.16              4071.59   \n",
       "23434               1543.02              177508.32             42183.97   \n",
       "23852              17109.24                   0.67            145686.39   \n",
       "13355                  0.49                   0.49                 0.49   \n",
       "1704               85714.74                   0.46                 0.46   \n",
       "245                37857.84              214286.41              7928.90   \n",
       "26280                  0.56                   0.56                 0.56   \n",
       "14529               5111.51                7651.22                 0.34   \n",
       "\n",
       "       previous_month_debit  current_month_balance  previous_month_balance  \n",
       "28030                  0.04              177074.17               177074.17  \n",
       "17017                  0.44              233300.48                30791.14  \n",
       "17043                  0.16              189580.66               185953.37  \n",
       "23434              28187.26              264770.42               212294.44  \n",
       "23852               1227.46              202633.86               253013.92  \n",
       "13355               5817.46              247528.26               197251.66  \n",
       "1704                   0.46              191795.57               130711.83  \n",
       "245                  509.86              224531.30                69803.24  \n",
       "26280                  0.56              184836.76               184836.76  \n",
       "14529                  0.34              178307.90               171415.09  "
      ]
     },
     "execution_count": 91,
     "metadata": {},
     "output_type": "execute_result"
    }
   ],
   "source": [
    "train_x[train_x['current_month_balance']>=175000]"
   ]
  },
  {
   "cell_type": "code",
   "execution_count": 92,
   "metadata": {},
   "outputs": [],
   "source": [
    "train_x=train_x[train_x['current_month_balance']<=175000]"
   ]
  },
  {
   "cell_type": "code",
   "execution_count": 93,
   "metadata": {},
   "outputs": [
    {
     "data": {
      "text/plain": [
       "<matplotlib.axes._subplots.AxesSubplot at 0x16a0d6edd88>"
      ]
     },
     "execution_count": 93,
     "metadata": {},
     "output_type": "execute_result"
    },
    {
     "data": {
      "image/png": "[encoded data removed]",
      "text/plain": [
       "<Figure size 432x288 with 1 Axes>"
      ]
     },
     "metadata": {
      "needs_background": "light"
     },
     "output_type": "display_data"
    }
   ],
   "source": [
    "train_x.plot.scatter('age','current_month_balance')"
   ]
  },
  {
   "cell_type": "code",
   "execution_count": 94,
   "metadata": {},
   "outputs": [
    {
     "data": {
      "text/plain": [
       "<matplotlib.axes._subplots.AxesSubplot at 0x16a0d218308>"
      ]
     },
     "execution_count": 94,
     "metadata": {},
     "output_type": "execute_result"
    },
    {
     "data": {
      "image/png": "[encoded data removed]",
      "text/plain": [
       "<Figure size 432x288 with 1 Axes>"
      ]
     },
     "metadata": {
      "needs_background": "light"
     },
     "output_type": "display_data"
    }
   ],
   "source": [
    "train_x.plot.scatter('age','previous_month_balance')"
   ]
  },
  {
   "cell_type": "markdown",
   "metadata": {},
   "source": [
    "## Removing Outlier from previous_month_balance"
   ]
  },
  {
   "cell_type": "code",
   "execution_count": 95,
   "metadata": {},
   "outputs": [
    {
     "data": {
      "text/html": [
       "<div>\n",
       "<style scoped>\n",
       "    .dataframe tbody tr th:only-of-type {\n",
       "        vertical-align: middle;\n",
       "    }\n",
       "\n",
       "    .dataframe tbody tr th {\n",
       "        vertical-align: top;\n",
       "    }\n",
       "\n",
       "    .dataframe thead th {\n",
       "        text-align: right;\n",
       "    }\n",
       "</style>\n",
       "<table border=\"1\" class=\"dataframe\">\n",
       "  <thead>\n",
       "    <tr style=\"text-align: right;\">\n",
       "      <th></th>\n",
       "      <th>customer_id</th>\n",
       "      <th>vintage</th>\n",
       "      <th>age</th>\n",
       "      <th>gender</th>\n",
       "      <th>dependents</th>\n",
       "      <th>occupation</th>\n",
       "      <th>city</th>\n",
       "      <th>customer_nw_category</th>\n",
       "      <th>branch_code</th>\n",
       "      <th>days_since_last_transaction</th>\n",
       "      <th>current_balance</th>\n",
       "      <th>previous_month_end_balance</th>\n",
       "      <th>average_monthly_balance_prevQ</th>\n",
       "      <th>average_monthly_balance_prevQ2</th>\n",
       "      <th>current_month_credit</th>\n",
       "      <th>previous_month_credit</th>\n",
       "      <th>current_month_debit</th>\n",
       "      <th>previous_month_debit</th>\n",
       "      <th>current_month_balance</th>\n",
       "      <th>previous_month_balance</th>\n",
       "    </tr>\n",
       "  </thead>\n",
       "  <tbody>\n",
       "    <tr>\n",
       "      <td>6782</td>\n",
       "      <td>7223</td>\n",
       "      <td>2447</td>\n",
       "      <td>50</td>\n",
       "      <td>0</td>\n",
       "      <td>2</td>\n",
       "      <td>0</td>\n",
       "      <td>491</td>\n",
       "      <td>2</td>\n",
       "      <td>707</td>\n",
       "      <td>129.0</td>\n",
       "      <td>123891.59</td>\n",
       "      <td>188178.94</td>\n",
       "      <td>206276.20</td>\n",
       "      <td>209889.93</td>\n",
       "      <td>0.27</td>\n",
       "      <td>0.27</td>\n",
       "      <td>0.27</td>\n",
       "      <td>0.27</td>\n",
       "      <td>147537.58</td>\n",
       "      <td>193709.23</td>\n",
       "    </tr>\n",
       "    <tr>\n",
       "      <td>25200</td>\n",
       "      <td>26900</td>\n",
       "      <td>712</td>\n",
       "      <td>33</td>\n",
       "      <td>1</td>\n",
       "      <td>0</td>\n",
       "      <td>1</td>\n",
       "      <td>1232</td>\n",
       "      <td>1</td>\n",
       "      <td>52</td>\n",
       "      <td>70.0</td>\n",
       "      <td>604.76</td>\n",
       "      <td>177808.97</td>\n",
       "      <td>67053.56</td>\n",
       "      <td>375.78</td>\n",
       "      <td>0.13</td>\n",
       "      <td>0.13</td>\n",
       "      <td>177204.34</td>\n",
       "      <td>0.13</td>\n",
       "      <td>18936.23</td>\n",
       "      <td>177808.97</td>\n",
       "    </tr>\n",
       "    <tr>\n",
       "      <td>26638</td>\n",
       "      <td>28444</td>\n",
       "      <td>6120</td>\n",
       "      <td>42</td>\n",
       "      <td>0</td>\n",
       "      <td>0</td>\n",
       "      <td>1</td>\n",
       "      <td>1020</td>\n",
       "      <td>1</td>\n",
       "      <td>1</td>\n",
       "      <td>80.0</td>\n",
       "      <td>239854.84</td>\n",
       "      <td>122937.61</td>\n",
       "      <td>179700.19</td>\n",
       "      <td>54320.87</td>\n",
       "      <td>0.01</td>\n",
       "      <td>0.01</td>\n",
       "      <td>632.61</td>\n",
       "      <td>600.01</td>\n",
       "      <td>130733.89</td>\n",
       "      <td>200767.88</td>\n",
       "    </tr>\n",
       "    <tr>\n",
       "      <td>19890</td>\n",
       "      <td>21224</td>\n",
       "      <td>1158</td>\n",
       "      <td>59</td>\n",
       "      <td>0</td>\n",
       "      <td>0</td>\n",
       "      <td>0</td>\n",
       "      <td>1621</td>\n",
       "      <td>1</td>\n",
       "      <td>50</td>\n",
       "      <td>23.0</td>\n",
       "      <td>25463.25</td>\n",
       "      <td>180914.98</td>\n",
       "      <td>120234.44</td>\n",
       "      <td>28147.80</td>\n",
       "      <td>1809.39</td>\n",
       "      <td>1694.79</td>\n",
       "      <td>157143.20</td>\n",
       "      <td>0.34</td>\n",
       "      <td>36147.08</td>\n",
       "      <td>179878.43</td>\n",
       "    </tr>\n",
       "    <tr>\n",
       "      <td>4058</td>\n",
       "      <td>4325</td>\n",
       "      <td>416</td>\n",
       "      <td>52</td>\n",
       "      <td>1</td>\n",
       "      <td>0</td>\n",
       "      <td>0</td>\n",
       "      <td>956</td>\n",
       "      <td>3</td>\n",
       "      <td>1571</td>\n",
       "      <td>52.0</td>\n",
       "      <td>43016.90</td>\n",
       "      <td>280903.78</td>\n",
       "      <td>215307.04</td>\n",
       "      <td>194131.30</td>\n",
       "      <td>0.57</td>\n",
       "      <td>8.89</td>\n",
       "      <td>237787.82</td>\n",
       "      <td>18595.82</td>\n",
       "      <td>65268.75</td>\n",
       "      <td>287630.23</td>\n",
       "    </tr>\n",
       "    <tr>\n",
       "      <td>4876</td>\n",
       "      <td>5188</td>\n",
       "      <td>4563</td>\n",
       "      <td>69</td>\n",
       "      <td>0</td>\n",
       "      <td>2</td>\n",
       "      <td>1</td>\n",
       "      <td>1540</td>\n",
       "      <td>1</td>\n",
       "      <td>670</td>\n",
       "      <td>70.0</td>\n",
       "      <td>175919.31</td>\n",
       "      <td>196569.40</td>\n",
       "      <td>208722.36</td>\n",
       "      <td>245579.42</td>\n",
       "      <td>0.26</td>\n",
       "      <td>0.26</td>\n",
       "      <td>12195.97</td>\n",
       "      <td>75714.54</td>\n",
       "      <td>172385.97</td>\n",
       "      <td>226030.56</td>\n",
       "    </tr>\n",
       "  </tbody>\n",
       "</table>\n",
       "</div>"
      ],
      "text/plain": [
       "       customer_id  vintage  age  gender  dependents  occupation  city  \\\n",
       "6782          7223     2447   50       0           2           0   491   \n",
       "25200        26900      712   33       1           0           1  1232   \n",
       "26638        28444     6120   42       0           0           1  1020   \n",
       "19890        21224     1158   59       0           0           0  1621   \n",
       "4058          4325      416   52       1           0           0   956   \n",
       "4876          5188     4563   69       0           2           1  1540   \n",
       "\n",
       "       customer_nw_category  branch_code  days_since_last_transaction  \\\n",
       "6782                      2          707                        129.0   \n",
       "25200                     1           52                         70.0   \n",
       "26638                     1            1                         80.0   \n",
       "19890                     1           50                         23.0   \n",
       "4058                      3         1571                         52.0   \n",
       "4876                      1          670                         70.0   \n",
       "\n",
       "       current_balance  previous_month_end_balance  \\\n",
       "6782         123891.59                   188178.94   \n",
       "25200           604.76                   177808.97   \n",
       "26638        239854.84                   122937.61   \n",
       "19890         25463.25                   180914.98   \n",
       "4058          43016.90                   280903.78   \n",
       "4876         175919.31                   196569.40   \n",
       "\n",
       "       average_monthly_balance_prevQ  average_monthly_balance_prevQ2  \\\n",
       "6782                       206276.20                       209889.93   \n",
       "25200                       67053.56                          375.78   \n",
       "26638                      179700.19                        54320.87   \n",
       "19890                      120234.44                        28147.80   \n",
       "4058                       215307.04                       194131.30   \n",
       "4876                       208722.36                       245579.42   \n",
       "\n",
       "       current_month_credit  previous_month_credit  current_month_debit  \\\n",
       "6782                   0.27                   0.27                 0.27   \n",
       "25200                  0.13                   0.13            177204.34   \n",
       "26638                  0.01                   0.01               632.61   \n",
       "19890               1809.39                1694.79            157143.20   \n",
       "4058                   0.57                   8.89            237787.82   \n",
       "4876                   0.26                   0.26             12195.97   \n",
       "\n",
       "       previous_month_debit  current_month_balance  previous_month_balance  \n",
       "6782                   0.27              147537.58               193709.23  \n",
       "25200                  0.13               18936.23               177808.97  \n",
       "26638                600.01              130733.89               200767.88  \n",
       "19890                  0.34               36147.08               179878.43  \n",
       "4058               18595.82               65268.75               287630.23  \n",
       "4876               75714.54              172385.97               226030.56  "
      ]
     },
     "execution_count": 95,
     "metadata": {},
     "output_type": "execute_result"
    }
   ],
   "source": [
    "train_x[train_x['previous_month_balance']>=175000]"
   ]
  },
  {
   "cell_type": "code",
   "execution_count": 96,
   "metadata": {},
   "outputs": [],
   "source": [
    "train_x=train_x[train_x['previous_month_balance']<=175000]"
   ]
  },
  {
   "cell_type": "code",
   "execution_count": 97,
   "metadata": {},
   "outputs": [
    {
     "data": {
      "text/plain": [
       "<matplotlib.axes._subplots.AxesSubplot at 0x16a0d273cc8>"
      ]
     },
     "execution_count": 97,
     "metadata": {},
     "output_type": "execute_result"
    },
    {
     "data": {
      "image/png": "[encoded data removed]",
      "text/plain": [
       "<Figure size 432x288 with 1 Axes>"
      ]
     },
     "metadata": {
      "needs_background": "light"
     },
     "output_type": "display_data"
    }
   ],
   "source": [
    "train_x.plot.scatter('age','previous_month_balance')"
   ]
  },
  {
   "cell_type": "markdown",
   "metadata": {},
   "source": [
    "# Building Machine Learning Models"
   ]
  },
  {
   "cell_type": "markdown",
   "metadata": {},
   "source": [
    "## Decision Tree"
   ]
  },
  {
   "cell_type": "code",
   "execution_count": 98,
   "metadata": {},
   "outputs": [],
   "source": [
    "# Importing decision tree classifier\n",
    "from sklearn.tree import DecisionTreeClassifier"
   ]
  },
  {
   "cell_type": "code",
   "execution_count": 99,
   "metadata": {},
   "outputs": [],
   "source": [
    "clf = DecisionTreeClassifier()"
   ]
  },
  {
   "cell_type": "code",
   "execution_count": 100,
   "metadata": {
    "scrolled": false
   },
   "outputs": [
    {
     "data": {
      "text/plain": [
       "DecisionTreeClassifier(class_weight=None, criterion='gini', max_depth=None,\n",
       "                       max_features=None, max_leaf_nodes=None,\n",
       "                       min_impurity_decrease=0.0, min_impurity_split=None,\n",
       "                       min_samples_leaf=1, min_samples_split=2,\n",
       "                       min_weight_fraction_leaf=0.0, presort=False,\n",
       "                       random_state=None, splitter='best')"
      ]
     },
     "execution_count": 100,
     "metadata": {},
     "output_type": "execute_result"
    }
   ],
   "source": [
    "clf.fit(train1_x,train1_y)"
   ]
  },
  {
   "cell_type": "code",
   "execution_count": 101,
   "metadata": {},
   "outputs": [
    {
     "data": {
      "text/plain": [
       "1.0"
      ]
     },
     "execution_count": 101,
     "metadata": {},
     "output_type": "execute_result"
    }
   ],
   "source": [
    "clf.score(train1_x,train1_y)"
   ]
  },
  {
   "cell_type": "code",
   "execution_count": 102,
   "metadata": {},
   "outputs": [
    {
     "data": {
      "text/plain": [
       "0.7879161528976573"
      ]
     },
     "execution_count": 102,
     "metadata": {},
     "output_type": "execute_result"
    }
   ],
   "source": [
    "clf.score(test_x,test_y)"
   ]
  },
  {
   "cell_type": "markdown",
   "metadata": {},
   "source": [
    "## Random Forest"
   ]
  },
  {
   "cell_type": "code",
   "execution_count": 103,
   "metadata": {},
   "outputs": [],
   "source": [
    "# Importing random forest classifier\n",
    "from sklearn.ensemble import RandomForestClassifier"
   ]
  },
  {
   "cell_type": "code",
   "execution_count": 104,
   "metadata": {},
   "outputs": [],
   "source": [
    "clf = RandomForestClassifier()"
   ]
  },
  {
   "cell_type": "code",
   "execution_count": 105,
   "metadata": {},
   "outputs": [
    {
     "name": "stderr",
     "output_type": "stream",
     "text": [
      "C:\\Users\\KIIT\\Anaconda3\\lib\\site-packages\\sklearn\\ensemble\\forest.py:245: FutureWarning: The default value of n_estimators will change from 10 in version 0.20 to 100 in 0.22.\n",
      "  \"10 in version 0.20 to 100 in 0.22.\", FutureWarning)\n"
     ]
    },
    {
     "data": {
      "text/plain": [
       "RandomForestClassifier(bootstrap=True, class_weight=None, criterion='gini',\n",
       "                       max_depth=None, max_features='auto', max_leaf_nodes=None,\n",
       "                       min_impurity_decrease=0.0, min_impurity_split=None,\n",
       "                       min_samples_leaf=1, min_samples_split=2,\n",
       "                       min_weight_fraction_leaf=0.0, n_estimators=10,\n",
       "                       n_jobs=None, oob_score=False, random_state=None,\n",
       "                       verbose=0, warm_start=False)"
      ]
     },
     "execution_count": 105,
     "metadata": {},
     "output_type": "execute_result"
    }
   ],
   "source": [
    "clf.fit(train1_x,train1_y)"
   ]
  },
  {
   "cell_type": "code",
   "execution_count": 106,
   "metadata": {},
   "outputs": [
    {
     "data": {
      "text/plain": [
       "0.9848491521691257"
      ]
     },
     "execution_count": 106,
     "metadata": {},
     "output_type": "execute_result"
    }
   ],
   "source": [
    "clf.score(train1_x,train1_y)"
   ]
  },
  {
   "cell_type": "code",
   "execution_count": 107,
   "metadata": {},
   "outputs": [
    {
     "data": {
      "text/plain": [
       "0.8523868240267747"
      ]
     },
     "execution_count": 107,
     "metadata": {},
     "output_type": "execute_result"
    }
   ],
   "source": [
    "clf.score(test_x,test_y)"
   ]
  },
  {
   "cell_type": "markdown",
   "metadata": {},
   "source": [
    "## Linear Regression and Metric mean square error"
   ]
  },
  {
   "cell_type": "code",
   "execution_count": 108,
   "metadata": {},
   "outputs": [],
   "source": [
    "#Importing Linear Regression and metric mean square error\n",
    "from sklearn.linear_model import LinearRegression as LR\n",
    "from sklearn.metrics import mean_absolute_error as MAE"
   ]
  },
  {
   "cell_type": "code",
   "execution_count": 109,
   "metadata": {},
   "outputs": [
    {
     "data": {
      "text/plain": [
       "LinearRegression(copy_X=True, fit_intercept=True, n_jobs=None, normalize=False)"
      ]
     },
     "execution_count": 109,
     "metadata": {},
     "output_type": "execute_result"
    }
   ],
   "source": [
    "#Creating instance of Linear Regression\n",
    "lr = LR()\n",
    "\n",
    "#Fitting the model\n",
    "lr.fit(train1_x,train1_y)"
   ]
  },
  {
   "cell_type": "code",
   "execution_count": 110,
   "metadata": {},
   "outputs": [
    {
     "name": "stdout",
     "output_type": "stream",
     "text": [
      "Training Mean Absolute Error :  0.293466727050904\n"
     ]
    }
   ],
   "source": [
    "#Predicting over the train set and calculating the error\n",
    "train_predict = lr.predict(train1_x)\n",
    "k = MAE(train_predict,train1_y)\n",
    "print(\"Training Mean Absolute Error : \",k)"
   ]
  },
  {
   "cell_type": "code",
   "execution_count": 111,
   "metadata": {},
   "outputs": [
    {
     "name": "stdout",
     "output_type": "stream",
     "text": [
      "Test Mean Absolute Error :  0.2937260425385727\n"
     ]
    }
   ],
   "source": [
    "#Predicting over the test set and calculating the error\n",
    "test_predict = lr.predict(test_x)\n",
    "k = MAE(test_predict,test_y)\n",
    "print(\"Test Mean Absolute Error : \",k)"
   ]
  },
  {
   "cell_type": "markdown",
   "metadata": {},
   "source": [
    "## KNN Classifier"
   ]
  },
  {
   "cell_type": "code",
   "execution_count": 112,
   "metadata": {},
   "outputs": [],
   "source": [
    "#Importing KNN classifier and metric F1score\n",
    "from sklearn.neighbors import KNeighborsClassifier as KNN\n",
    "from sklearn.metrics import f1_score"
   ]
  },
  {
   "cell_type": "code",
   "execution_count": 113,
   "metadata": {},
   "outputs": [
    {
     "name": "stdout",
     "output_type": "stream",
     "text": [
      "Test F1 score :  0.30725053840631733\n"
     ]
    }
   ],
   "source": [
    "#Creating instance of KNN\n",
    "clf = KNN(n_neighbors = 2)\n",
    "\n",
    "#Fitting the model\n",
    "clf.fit(train1_x,train1_y)\n",
    "\n",
    "#Predicting over the train set and calculating F1\n",
    "test_predict = clf.predict(test_x)\n",
    "k = f1_score(test_predict,test_y)\n",
    "print(\"Test F1 score : \",k)"
   ]
  },
  {
   "cell_type": "code",
   "execution_count": 114,
   "metadata": {},
   "outputs": [],
   "source": [
    "def Elbow(K):\n",
    "        test_error = []\n",
    "        \n",
    "        for i in K:\n",
    "            clf = KNN(n_neighbors = i)\n",
    "            clf.fit(train1_x,train1_y)\n",
    "            tmp = clf.predict(test_x)\n",
    "            tmp = f1_score(tmp,test_y)\n",
    "            error = 1-tmp\n",
    "            test_error.append(error)\n",
    "            \n",
    "        return test_error"
   ]
  },
  {
   "cell_type": "code",
   "execution_count": 115,
   "metadata": {},
   "outputs": [],
   "source": [
    "k = range(1,10,2)"
   ]
  },
  {
   "cell_type": "code",
   "execution_count": 116,
   "metadata": {},
   "outputs": [],
   "source": [
    "test = Elbow(k)"
   ]
  },
  {
   "cell_type": "code",
   "execution_count": 117,
   "metadata": {},
   "outputs": [
    {
     "data": {
      "text/plain": [
       "Text(0.5, 1.0, 'Elbow curve for test')"
      ]
     },
     "execution_count": 117,
     "metadata": {},
     "output_type": "execute_result"
    },
    {
     "data": {
      "image/png": "[encoded data removed]",
      "text/plain": [
       "<Figure size 432x288 with 1 Axes>"
      ]
     },
     "metadata": {
      "needs_background": "light"
     },
     "output_type": "display_data"
    }
   ],
   "source": [
    "plt.plot(k,test)\n",
    "plt.xlabel('K Neighbours')\n",
    "plt.ylabel('Test Error')\n",
    "plt.title('Elbow curve for test')"
   ]
  },
  {
   "cell_type": "code",
   "execution_count": 118,
   "metadata": {},
   "outputs": [
    {
     "name": "stdout",
     "output_type": "stream",
     "text": [
      "Test F1 score :  0.443609022556391\n"
     ]
    }
   ],
   "source": [
    "#Creating instance of KNN\n",
    "clf = KNN(n_neighbors = 7)\n",
    "\n",
    "#Fitting the model\n",
    "clf.fit(train1_x,train1_y)\n",
    "\n",
    "#Predicting over the train set and calculating F1\n",
    "test_predict = clf.predict(test_x)\n",
    "k = f1_score(test_predict,test_y)\n",
    "print(\"Test F1 score : \",k)"
   ]
  },
  {
   "cell_type": "markdown",
   "metadata": {},
   "source": [
    "## Logistic Regression and Metric f1_score"
   ]
  },
  {
   "cell_type": "code",
   "execution_count": 119,
   "metadata": {},
   "outputs": [],
   "source": [
    "#importing Logistic Regression and metric F1-score\n",
    "from sklearn.linear_model import LogisticRegression as LogReg\n",
    "from sklearn.metrics import f1_score"
   ]
  },
  {
   "cell_type": "code",
   "execution_count": 120,
   "metadata": {},
   "outputs": [
    {
     "name": "stderr",
     "output_type": "stream",
     "text": [
      "C:\\Users\\KIIT\\Anaconda3\\lib\\site-packages\\sklearn\\linear_model\\logistic.py:432: FutureWarning: Default solver will be changed to 'lbfgs' in 0.22. Specify a solver to silence this warning.\n",
      "  FutureWarning)\n"
     ]
    },
    {
     "data": {
      "text/plain": [
       "LogisticRegression(C=1.0, class_weight=None, dual=False, fit_intercept=True,\n",
       "                   intercept_scaling=1, l1_ratio=None, max_iter=100,\n",
       "                   multi_class='warn', n_jobs=None, penalty='l2',\n",
       "                   random_state=None, solver='warn', tol=0.0001, verbose=0,\n",
       "                   warm_start=False)"
      ]
     },
     "execution_count": 120,
     "metadata": {},
     "output_type": "execute_result"
    }
   ],
   "source": [
    "#Creating instance of Logistic Regression\n",
    "logreg = LogReg()\n",
    "\n",
    "#Fitting the model\n",
    "logreg.fit(train1_x,train1_y)"
   ]
  },
  {
   "cell_type": "code",
   "execution_count": 121,
   "metadata": {},
   "outputs": [
    {
     "data": {
      "text/plain": [
       "array([0, 0, 0, ..., 0, 0, 0], dtype=int64)"
      ]
     },
     "execution_count": 121,
     "metadata": {},
     "output_type": "execute_result"
    }
   ],
   "source": [
    "train_predict = logreg.predict(train1_x)\n",
    "train_predict"
   ]
  },
  {
   "cell_type": "code",
   "execution_count": 122,
   "metadata": {},
   "outputs": [
    {
     "name": "stdout",
     "output_type": "stream",
     "text": [
      "Training f1_score :  0.15807413719642094\n"
     ]
    }
   ],
   "source": [
    "#Calculating f1-score\n",
    "k = f1_score(train_predict,train1_y)\n",
    "print(\"Training f1_score : \",k)"
   ]
  },
  {
   "cell_type": "code",
   "execution_count": 123,
   "metadata": {},
   "outputs": [
    {
     "name": "stdout",
     "output_type": "stream",
     "text": [
      "Test f1_score :  0.16666666666666669\n"
     ]
    }
   ],
   "source": [
    "#Predicting over the Test set and f1_score\n",
    "test_predict = logreg.predict(test_x)\n",
    "k = f1_score(test_predict,test_y)\n",
    "print(\"Test f1_score : \",k)"
   ]
  },
  {
   "cell_type": "markdown",
   "metadata": {},
   "source": [
    "## Confusion Matrix"
   ]
  },
  {
   "cell_type": "code",
   "execution_count": 125,
   "metadata": {},
   "outputs": [
    {
     "name": "stdout",
     "output_type": "stream",
     "text": [
      "[[4599   26]\n",
      " [ 954   98]]\n"
     ]
    }
   ],
   "source": [
    "from sklearn.metrics import confusion_matrix\n",
    "cf = confusion_matrix(test_y,test_predict)\n",
    "print(cf)"
   ]
  },
  {
   "cell_type": "markdown",
   "metadata": {},
   "source": [
    "## Precision, Recall and f1_score"
   ]
  },
  {
   "cell_type": "code",
   "execution_count": 126,
   "metadata": {},
   "outputs": [
    {
     "name": "stdout",
     "output_type": "stream",
     "text": [
      "              precision    recall  f1-score   support\n",
      "\n",
      "           0       0.83      0.99      0.90      4625\n",
      "           1       0.79      0.09      0.17      1052\n",
      "\n",
      "    accuracy                           0.83      5677\n",
      "   macro avg       0.81      0.54      0.54      5677\n",
      "weighted avg       0.82      0.83      0.77      5677\n",
      "\n"
     ]
    }
   ],
   "source": [
    "from sklearn.metrics import classification_report as rep\n",
    "print(rep(test_y,test_predict))"
   ]
  },
  {
   "cell_type": "markdown",
   "metadata": {},
   "source": [
    "### Done by Pinaki Bhattacharjee"
   ]
  }
 ],
 "metadata": {
  "kernelspec": {
   "display_name": "Python 3",
   "language": "python",
   "name": "python3"
  },
  "language_info": {
   "codemirror_mode": {
    "name": "ipython",
    "version": 3
   },
   "file_extension": ".py",
   "mimetype": "text/x-python",
   "name": "python",
   "nbconvert_exporter": "python",
   "pygments_lexer": "ipython3",
   "version": "3.7.4"
  }
 },
 "nbformat": 4,
 "nbformat_minor": 2
}
